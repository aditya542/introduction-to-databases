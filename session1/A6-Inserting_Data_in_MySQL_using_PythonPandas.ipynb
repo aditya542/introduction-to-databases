{
 "cells": [
  {
   "cell_type": "markdown",
   "metadata": {},
   "source": [
    "## Inserting and Reading data from MySQL using Pandas\n",
    "\n",
    "First let's start with a basic piece of code that fetches the data that we want to insert in the database. For our example, we will get the data about the Citibike stations, using the correspoding API call provided by the Citibike website:"
   ]
  },
  {
   "cell_type": "code",
   "execution_count": 1,
   "metadata": {},
   "outputs": [],
   "source": [
    "import requests"
   ]
  },
  {
   "cell_type": "code",
   "execution_count": 2,
   "metadata": {},
   "outputs": [],
   "source": [
    "# Let's get the data from the Citibike API\n",
    "\n",
    "# This gives information for each station that remains stable over time\n",
    "url_stations = 'https://gbfs.citibikenyc.com/gbfs/en/station_information.json'\n",
    "# This gives the live status of all the stations (e.g., bikes available etc)\n",
    "url_status = 'https://gbfs.citibikenyc.com/gbfs/en/station_status.json'\n",
    "\n",
    "# We fetch for now just the time-invariant data\n",
    "results = requests.get(url_stations).json() "
   ]
  },
  {
   "cell_type": "code",
   "execution_count": 3,
   "metadata": {},
   "outputs": [],
   "source": [
    "# We only need a subset of the data in the JSON returned by the Citibike API, so we keep only what we need\n",
    "data = results[\"data\"][\"stations\"]"
   ]
  },
  {
   "cell_type": "code",
   "execution_count": 4,
   "metadata": {},
   "outputs": [
    {
     "data": {
      "text/plain": [
       "935"
      ]
     },
     "execution_count": 4,
     "metadata": {},
     "output_type": "execute_result"
    }
   ],
   "source": [
    "len(data)"
   ]
  },
  {
   "cell_type": "code",
   "execution_count": 5,
   "metadata": {},
   "outputs": [
    {
     "data": {
      "text/html": [
       "<div>\n",
       "<style scoped>\n",
       "    .dataframe tbody tr th:only-of-type {\n",
       "        vertical-align: middle;\n",
       "    }\n",
       "\n",
       "    .dataframe tbody tr th {\n",
       "        vertical-align: top;\n",
       "    }\n",
       "\n",
       "    .dataframe thead th {\n",
       "        text-align: right;\n",
       "    }\n",
       "</style>\n",
       "<table border=\"1\" class=\"dataframe\">\n",
       "  <thead>\n",
       "    <tr style=\"text-align: right;\">\n",
       "      <th></th>\n",
       "      <th>station_id</th>\n",
       "      <th>external_id</th>\n",
       "      <th>name</th>\n",
       "      <th>short_name</th>\n",
       "      <th>lat</th>\n",
       "      <th>lon</th>\n",
       "      <th>region_id</th>\n",
       "      <th>rental_methods</th>\n",
       "      <th>capacity</th>\n",
       "      <th>rental_url</th>\n",
       "      <th>electric_bike_surcharge_waiver</th>\n",
       "      <th>eightd_has_key_dispenser</th>\n",
       "      <th>eightd_station_services</th>\n",
       "      <th>has_kiosk</th>\n",
       "    </tr>\n",
       "  </thead>\n",
       "  <tbody>\n",
       "    <tr>\n",
       "      <th>0</th>\n",
       "      <td>304</td>\n",
       "      <td>66db6da2-0aca-11e7-82f6-3863bb44ef7c</td>\n",
       "      <td>Broadway &amp; Battery Pl</td>\n",
       "      <td>4962.01</td>\n",
       "      <td>40.704633</td>\n",
       "      <td>-74.013617</td>\n",
       "      <td>71</td>\n",
       "      <td>[CREDITCARD, KEY]</td>\n",
       "      <td>33</td>\n",
       "      <td>http://app.citibikenyc.com/S6Lr/IBV092JufD?sta...</td>\n",
       "      <td>False</td>\n",
       "      <td>True</td>\n",
       "      <td>[{'id': 'a58d9e34-2f28-40eb-b4a6-c8c01375657a'...</td>\n",
       "      <td>True</td>\n",
       "    </tr>\n",
       "    <tr>\n",
       "      <th>1</th>\n",
       "      <td>359</td>\n",
       "      <td>66dbc982-0aca-11e7-82f6-3863bb44ef7c</td>\n",
       "      <td>E 47 St &amp; Park Ave</td>\n",
       "      <td>6584.12</td>\n",
       "      <td>40.755103</td>\n",
       "      <td>-73.974987</td>\n",
       "      <td>71</td>\n",
       "      <td>[CREDITCARD, KEY]</td>\n",
       "      <td>64</td>\n",
       "      <td>http://app.citibikenyc.com/S6Lr/IBV092JufD?sta...</td>\n",
       "      <td>False</td>\n",
       "      <td>False</td>\n",
       "      <td>[{'id': '2e104e31-606a-44af-8b25-ceaffc338489'...</td>\n",
       "      <td>True</td>\n",
       "    </tr>\n",
       "    <tr>\n",
       "      <th>2</th>\n",
       "      <td>402</td>\n",
       "      <td>66dbf0d0-0aca-11e7-82f6-3863bb44ef7c</td>\n",
       "      <td>Broadway &amp; E 22 St</td>\n",
       "      <td>6098.07</td>\n",
       "      <td>40.740343</td>\n",
       "      <td>-73.989551</td>\n",
       "      <td>71</td>\n",
       "      <td>[CREDITCARD, KEY]</td>\n",
       "      <td>39</td>\n",
       "      <td>http://app.citibikenyc.com/S6Lr/IBV092JufD?sta...</td>\n",
       "      <td>False</td>\n",
       "      <td>False</td>\n",
       "      <td>[{'id': '37a1ae1b-3dd6-4876-8c57-572aaac97981'...</td>\n",
       "      <td>True</td>\n",
       "    </tr>\n",
       "    <tr>\n",
       "      <th>3</th>\n",
       "      <td>3443</td>\n",
       "      <td>66de8a86-0aca-11e7-82f6-3863bb44ef7c</td>\n",
       "      <td>W 52 St &amp; 6 Ave</td>\n",
       "      <td>6740.01</td>\n",
       "      <td>40.761330</td>\n",
       "      <td>-73.979820</td>\n",
       "      <td>71</td>\n",
       "      <td>[CREDITCARD, KEY]</td>\n",
       "      <td>41</td>\n",
       "      <td>http://app.citibikenyc.com/S6Lr/IBV092JufD?sta...</td>\n",
       "      <td>False</td>\n",
       "      <td>False</td>\n",
       "      <td>[{'id': '286d75b2-088f-4a79-bf7d-223928be711c'...</td>\n",
       "      <td>True</td>\n",
       "    </tr>\n",
       "    <tr>\n",
       "      <th>4</th>\n",
       "      <td>72</td>\n",
       "      <td>66db237e-0aca-11e7-82f6-3863bb44ef7c</td>\n",
       "      <td>W 52 St &amp; 11 Ave</td>\n",
       "      <td>6926.01</td>\n",
       "      <td>40.767272</td>\n",
       "      <td>-73.993929</td>\n",
       "      <td>71</td>\n",
       "      <td>[CREDITCARD, KEY]</td>\n",
       "      <td>55</td>\n",
       "      <td>http://app.citibikenyc.com/S6Lr/IBV092JufD?sta...</td>\n",
       "      <td>False</td>\n",
       "      <td>False</td>\n",
       "      <td>NaN</td>\n",
       "      <td>True</td>\n",
       "    </tr>\n",
       "  </tbody>\n",
       "</table>\n",
       "</div>"
      ],
      "text/plain": [
       "  station_id                           external_id                   name  \\\n",
       "0        304  66db6da2-0aca-11e7-82f6-3863bb44ef7c  Broadway & Battery Pl   \n",
       "1        359  66dbc982-0aca-11e7-82f6-3863bb44ef7c     E 47 St & Park Ave   \n",
       "2        402  66dbf0d0-0aca-11e7-82f6-3863bb44ef7c     Broadway & E 22 St   \n",
       "3       3443  66de8a86-0aca-11e7-82f6-3863bb44ef7c        W 52 St & 6 Ave   \n",
       "4         72  66db237e-0aca-11e7-82f6-3863bb44ef7c       W 52 St & 11 Ave   \n",
       "\n",
       "  short_name        lat        lon  region_id     rental_methods  capacity  \\\n",
       "0    4962.01  40.704633 -74.013617         71  [CREDITCARD, KEY]        33   \n",
       "1    6584.12  40.755103 -73.974987         71  [CREDITCARD, KEY]        64   \n",
       "2    6098.07  40.740343 -73.989551         71  [CREDITCARD, KEY]        39   \n",
       "3    6740.01  40.761330 -73.979820         71  [CREDITCARD, KEY]        41   \n",
       "4    6926.01  40.767272 -73.993929         71  [CREDITCARD, KEY]        55   \n",
       "\n",
       "                                          rental_url  \\\n",
       "0  http://app.citibikenyc.com/S6Lr/IBV092JufD?sta...   \n",
       "1  http://app.citibikenyc.com/S6Lr/IBV092JufD?sta...   \n",
       "2  http://app.citibikenyc.com/S6Lr/IBV092JufD?sta...   \n",
       "3  http://app.citibikenyc.com/S6Lr/IBV092JufD?sta...   \n",
       "4  http://app.citibikenyc.com/S6Lr/IBV092JufD?sta...   \n",
       "\n",
       "   electric_bike_surcharge_waiver  eightd_has_key_dispenser  \\\n",
       "0                           False                      True   \n",
       "1                           False                     False   \n",
       "2                           False                     False   \n",
       "3                           False                     False   \n",
       "4                           False                     False   \n",
       "\n",
       "                             eightd_station_services  has_kiosk  \n",
       "0  [{'id': 'a58d9e34-2f28-40eb-b4a6-c8c01375657a'...       True  \n",
       "1  [{'id': '2e104e31-606a-44af-8b25-ceaffc338489'...       True  \n",
       "2  [{'id': '37a1ae1b-3dd6-4876-8c57-572aaac97981'...       True  \n",
       "3  [{'id': '286d75b2-088f-4a79-bf7d-223928be711c'...       True  \n",
       "4                                                NaN       True  "
      ]
     },
     "execution_count": 5,
     "metadata": {},
     "output_type": "execute_result"
    }
   ],
   "source": [
    "import pandas as pd\n",
    "df = pd.DataFrame(data)\n",
    "df.head(5)"
   ]
  },
  {
   "cell_type": "code",
   "execution_count": 6,
   "metadata": {},
   "outputs": [
    {
     "data": {
      "text/html": [
       "<div>\n",
       "<style scoped>\n",
       "    .dataframe tbody tr th:only-of-type {\n",
       "        vertical-align: middle;\n",
       "    }\n",
       "\n",
       "    .dataframe tbody tr th {\n",
       "        vertical-align: top;\n",
       "    }\n",
       "\n",
       "    .dataframe thead th {\n",
       "        text-align: right;\n",
       "    }\n",
       "</style>\n",
       "<table border=\"1\" class=\"dataframe\">\n",
       "  <thead>\n",
       "    <tr style=\"text-align: right;\">\n",
       "      <th></th>\n",
       "      <th>station_id</th>\n",
       "      <th>external_id</th>\n",
       "      <th>name</th>\n",
       "      <th>short_name</th>\n",
       "      <th>lat</th>\n",
       "      <th>lon</th>\n",
       "      <th>region_id</th>\n",
       "      <th>capacity</th>\n",
       "      <th>rental_url</th>\n",
       "      <th>electric_bike_surcharge_waiver</th>\n",
       "      <th>eightd_has_key_dispenser</th>\n",
       "      <th>has_kiosk</th>\n",
       "    </tr>\n",
       "  </thead>\n",
       "  <tbody>\n",
       "    <tr>\n",
       "      <th>0</th>\n",
       "      <td>304</td>\n",
       "      <td>66db6da2-0aca-11e7-82f6-3863bb44ef7c</td>\n",
       "      <td>Broadway &amp; Battery Pl</td>\n",
       "      <td>4962.01</td>\n",
       "      <td>40.704633</td>\n",
       "      <td>-74.013617</td>\n",
       "      <td>71</td>\n",
       "      <td>33</td>\n",
       "      <td>http://app.citibikenyc.com/S6Lr/IBV092JufD?sta...</td>\n",
       "      <td>False</td>\n",
       "      <td>True</td>\n",
       "      <td>True</td>\n",
       "    </tr>\n",
       "    <tr>\n",
       "      <th>1</th>\n",
       "      <td>359</td>\n",
       "      <td>66dbc982-0aca-11e7-82f6-3863bb44ef7c</td>\n",
       "      <td>E 47 St &amp; Park Ave</td>\n",
       "      <td>6584.12</td>\n",
       "      <td>40.755103</td>\n",
       "      <td>-73.974987</td>\n",
       "      <td>71</td>\n",
       "      <td>64</td>\n",
       "      <td>http://app.citibikenyc.com/S6Lr/IBV092JufD?sta...</td>\n",
       "      <td>False</td>\n",
       "      <td>False</td>\n",
       "      <td>True</td>\n",
       "    </tr>\n",
       "    <tr>\n",
       "      <th>2</th>\n",
       "      <td>402</td>\n",
       "      <td>66dbf0d0-0aca-11e7-82f6-3863bb44ef7c</td>\n",
       "      <td>Broadway &amp; E 22 St</td>\n",
       "      <td>6098.07</td>\n",
       "      <td>40.740343</td>\n",
       "      <td>-73.989551</td>\n",
       "      <td>71</td>\n",
       "      <td>39</td>\n",
       "      <td>http://app.citibikenyc.com/S6Lr/IBV092JufD?sta...</td>\n",
       "      <td>False</td>\n",
       "      <td>False</td>\n",
       "      <td>True</td>\n",
       "    </tr>\n",
       "    <tr>\n",
       "      <th>3</th>\n",
       "      <td>3443</td>\n",
       "      <td>66de8a86-0aca-11e7-82f6-3863bb44ef7c</td>\n",
       "      <td>W 52 St &amp; 6 Ave</td>\n",
       "      <td>6740.01</td>\n",
       "      <td>40.761330</td>\n",
       "      <td>-73.979820</td>\n",
       "      <td>71</td>\n",
       "      <td>41</td>\n",
       "      <td>http://app.citibikenyc.com/S6Lr/IBV092JufD?sta...</td>\n",
       "      <td>False</td>\n",
       "      <td>False</td>\n",
       "      <td>True</td>\n",
       "    </tr>\n",
       "    <tr>\n",
       "      <th>4</th>\n",
       "      <td>72</td>\n",
       "      <td>66db237e-0aca-11e7-82f6-3863bb44ef7c</td>\n",
       "      <td>W 52 St &amp; 11 Ave</td>\n",
       "      <td>6926.01</td>\n",
       "      <td>40.767272</td>\n",
       "      <td>-73.993929</td>\n",
       "      <td>71</td>\n",
       "      <td>55</td>\n",
       "      <td>http://app.citibikenyc.com/S6Lr/IBV092JufD?sta...</td>\n",
       "      <td>False</td>\n",
       "      <td>False</td>\n",
       "      <td>True</td>\n",
       "    </tr>\n",
       "  </tbody>\n",
       "</table>\n",
       "</div>"
      ],
      "text/plain": [
       "  station_id                           external_id                   name  \\\n",
       "0        304  66db6da2-0aca-11e7-82f6-3863bb44ef7c  Broadway & Battery Pl   \n",
       "1        359  66dbc982-0aca-11e7-82f6-3863bb44ef7c     E 47 St & Park Ave   \n",
       "2        402  66dbf0d0-0aca-11e7-82f6-3863bb44ef7c     Broadway & E 22 St   \n",
       "3       3443  66de8a86-0aca-11e7-82f6-3863bb44ef7c        W 52 St & 6 Ave   \n",
       "4         72  66db237e-0aca-11e7-82f6-3863bb44ef7c       W 52 St & 11 Ave   \n",
       "\n",
       "  short_name        lat        lon  region_id  capacity  \\\n",
       "0    4962.01  40.704633 -74.013617         71        33   \n",
       "1    6584.12  40.755103 -73.974987         71        64   \n",
       "2    6098.07  40.740343 -73.989551         71        39   \n",
       "3    6740.01  40.761330 -73.979820         71        41   \n",
       "4    6926.01  40.767272 -73.993929         71        55   \n",
       "\n",
       "                                          rental_url  \\\n",
       "0  http://app.citibikenyc.com/S6Lr/IBV092JufD?sta...   \n",
       "1  http://app.citibikenyc.com/S6Lr/IBV092JufD?sta...   \n",
       "2  http://app.citibikenyc.com/S6Lr/IBV092JufD?sta...   \n",
       "3  http://app.citibikenyc.com/S6Lr/IBV092JufD?sta...   \n",
       "4  http://app.citibikenyc.com/S6Lr/IBV092JufD?sta...   \n",
       "\n",
       "   electric_bike_surcharge_waiver  eightd_has_key_dispenser  has_kiosk  \n",
       "0                           False                      True       True  \n",
       "1                           False                     False       True  \n",
       "2                           False                     False       True  \n",
       "3                           False                     False       True  \n",
       "4                           False                     False       True  "
      ]
     },
     "execution_count": 6,
     "metadata": {},
     "output_type": "execute_result"
    }
   ],
   "source": [
    "# We drop the 'rental methods' and 'eightd_station_services' columns, \n",
    "# as they contains multiple values and \n",
    "# we cannot insert lists in a database cell.\n",
    "df.drop(['rental_methods','eightd_station_services'], axis='columns', inplace = True)\n",
    "df.head(5)"
   ]
  },
  {
   "cell_type": "markdown",
   "metadata": {},
   "source": [
    "### Writing a Pandas Dataframe in a MySQL Table"
   ]
  },
  {
   "cell_type": "markdown",
   "metadata": {},
   "source": [
    "Now we will connect to our MySQL server. We will use the SQLAlchemy library of Python.\n",
    "\n",
    "If you do not have the library, you need to install it by typing in the shell:"
   ]
  },
  {
   "cell_type": "code",
   "execution_count": 7,
   "metadata": {},
   "outputs": [
    {
     "name": "stdout",
     "output_type": "stream",
     "text": [
      "Reading package lists... Done\n",
      "Building dependency tree       \n",
      "Reading state information... Done\n",
      "python3-mysqldb is already the newest version (1.3.10-1build1).\n",
      "0 upgraded, 0 newly installed, 0 to remove and 41 not upgraded.\n",
      "\u001b[33mWARNING: The directory '/home/ubuntu/.cache/pip' or its parent directory is not owned or is not writable by the current user. The cache has been disabled. Check the permissions and owner of that directory. If executing pip with sudo, you may want sudo's -H flag.\u001b[0m\n",
      "Requirement already up-to-date: sqlalchemy in /usr/local/lib/python3.6/dist-packages (1.3.14)\n",
      "Requirement already up-to-date: sql_magic in /usr/local/lib/python3.6/dist-packages (0.0.4)\n",
      "Requirement already satisfied, skipping upgrade: findspark in /usr/local/lib/python3.6/dist-packages (from sql_magic) (1.3.0)\n",
      "Requirement already satisfied, skipping upgrade: ipython in /usr/local/lib/python3.6/dist-packages (from sql_magic) (7.12.0)\n",
      "Requirement already satisfied, skipping upgrade: jupyter in /usr/local/lib/python3.6/dist-packages (from sql_magic) (1.0.0)\n",
      "Requirement already satisfied, skipping upgrade: traitlets in /usr/local/lib/python3.6/dist-packages (from sql_magic) (4.3.3)\n",
      "Requirement already satisfied, skipping upgrade: sqlparse in /usr/local/lib/python3.6/dist-packages (from sql_magic) (0.3.0)\n",
      "Requirement already satisfied, skipping upgrade: pandas in /usr/local/lib/python3.6/dist-packages (from sql_magic) (1.0.1)\n",
      "Requirement already satisfied, skipping upgrade: setuptools>=18.5 in /usr/local/lib/python3.6/dist-packages (from ipython->sql_magic) (42.0.2)\n",
      "Requirement already satisfied, skipping upgrade: pygments in /usr/local/lib/python3.6/dist-packages (from ipython->sql_magic) (2.5.2)\n",
      "Requirement already satisfied, skipping upgrade: prompt-toolkit!=3.0.0,!=3.0.1,<3.1.0,>=2.0.0 in /usr/local/lib/python3.6/dist-packages (from ipython->sql_magic) (3.0.3)\n",
      "Requirement already satisfied, skipping upgrade: jedi>=0.10 in /usr/local/lib/python3.6/dist-packages (from ipython->sql_magic) (0.16.0)\n",
      "Requirement already satisfied, skipping upgrade: pickleshare in /usr/local/lib/python3.6/dist-packages (from ipython->sql_magic) (0.7.5)\n",
      "Requirement already satisfied, skipping upgrade: backcall in /usr/local/lib/python3.6/dist-packages (from ipython->sql_magic) (0.1.0)\n",
      "Requirement already satisfied, skipping upgrade: decorator in /usr/local/lib/python3.6/dist-packages (from ipython->sql_magic) (4.4.1)\n",
      "Requirement already satisfied, skipping upgrade: pexpect; sys_platform != \"win32\" in /usr/local/lib/python3.6/dist-packages (from ipython->sql_magic) (4.8.0)\n",
      "Requirement already satisfied, skipping upgrade: qtconsole in /usr/local/lib/python3.6/dist-packages (from jupyter->sql_magic) (4.6.0)\n",
      "Requirement already satisfied, skipping upgrade: ipywidgets in /usr/local/lib/python3.6/dist-packages (from jupyter->sql_magic) (7.5.1)\n",
      "Requirement already satisfied, skipping upgrade: jupyter-console in /usr/local/lib/python3.6/dist-packages (from jupyter->sql_magic) (6.1.0)\n",
      "Requirement already satisfied, skipping upgrade: notebook in /usr/local/lib/python3.6/dist-packages (from jupyter->sql_magic) (6.0.3)\n",
      "Requirement already satisfied, skipping upgrade: nbconvert in /usr/local/lib/python3.6/dist-packages (from jupyter->sql_magic) (5.6.1)\n",
      "Requirement already satisfied, skipping upgrade: ipykernel in /usr/local/lib/python3.6/dist-packages (from jupyter->sql_magic) (5.1.4)\n",
      "Requirement already satisfied, skipping upgrade: ipython-genutils in /usr/local/lib/python3.6/dist-packages (from traitlets->sql_magic) (0.2.0)\n",
      "Requirement already satisfied, skipping upgrade: six in /usr/local/lib/python3.6/dist-packages (from traitlets->sql_magic) (1.14.0)\n",
      "Requirement already satisfied, skipping upgrade: python-dateutil>=2.6.1 in /usr/local/lib/python3.6/dist-packages (from pandas->sql_magic) (2.8.1)\n",
      "Requirement already satisfied, skipping upgrade: numpy>=1.13.3 in /usr/local/lib/python3.6/dist-packages (from pandas->sql_magic) (1.18.1)\n",
      "Requirement already satisfied, skipping upgrade: pytz>=2017.2 in /usr/local/lib/python3.6/dist-packages (from pandas->sql_magic) (2019.3)\n",
      "Requirement already satisfied, skipping upgrade: wcwidth in /usr/local/lib/python3.6/dist-packages (from prompt-toolkit!=3.0.0,!=3.0.1,<3.1.0,>=2.0.0->ipython->sql_magic) (0.1.8)\n",
      "Requirement already satisfied, skipping upgrade: parso>=0.5.2 in /usr/local/lib/python3.6/dist-packages (from jedi>=0.10->ipython->sql_magic) (0.6.1)\n",
      "Requirement already satisfied, skipping upgrade: ptyprocess>=0.5 in /usr/local/lib/python3.6/dist-packages (from pexpect; sys_platform != \"win32\"->ipython->sql_magic) (0.6.0)\n",
      "Requirement already satisfied, skipping upgrade: jupyter-core in /usr/local/lib/python3.6/dist-packages (from qtconsole->jupyter->sql_magic) (4.6.3)\n",
      "Requirement already satisfied, skipping upgrade: jupyter-client>=4.1 in /usr/local/lib/python3.6/dist-packages (from qtconsole->jupyter->sql_magic) (6.0.0)\n",
      "Requirement already satisfied, skipping upgrade: nbformat>=4.2.0 in /usr/local/lib/python3.6/dist-packages (from ipywidgets->jupyter->sql_magic) (5.0.4)\n",
      "Requirement already satisfied, skipping upgrade: widgetsnbextension~=3.5.0 in /usr/local/lib/python3.6/dist-packages (from ipywidgets->jupyter->sql_magic) (3.5.1)\n",
      "Requirement already satisfied, skipping upgrade: jinja2 in /usr/local/lib/python3.6/dist-packages (from notebook->jupyter->sql_magic) (2.11.1)\n",
      "Requirement already satisfied, skipping upgrade: pyzmq>=17 in /usr/local/lib/python3.6/dist-packages (from notebook->jupyter->sql_magic) (19.0.0)\n",
      "Requirement already satisfied, skipping upgrade: tornado>=5.0 in /usr/local/lib/python3.6/dist-packages (from notebook->jupyter->sql_magic) (6.0.3)\n",
      "Requirement already satisfied, skipping upgrade: Send2Trash in /usr/local/lib/python3.6/dist-packages (from notebook->jupyter->sql_magic) (1.5.0)\n",
      "Requirement already satisfied, skipping upgrade: prometheus-client in /usr/local/lib/python3.6/dist-packages (from notebook->jupyter->sql_magic) (0.7.1)\n",
      "Requirement already satisfied, skipping upgrade: terminado>=0.8.1 in /usr/local/lib/python3.6/dist-packages (from notebook->jupyter->sql_magic) (0.8.3)\n",
      "Requirement already satisfied, skipping upgrade: pandocfilters>=1.4.1 in /usr/local/lib/python3.6/dist-packages (from nbconvert->jupyter->sql_magic) (1.4.2)\n",
      "Requirement already satisfied, skipping upgrade: bleach in /usr/local/lib/python3.6/dist-packages (from nbconvert->jupyter->sql_magic) (3.1.1)\n",
      "Requirement already satisfied, skipping upgrade: entrypoints>=0.2.2 in /usr/local/lib/python3.6/dist-packages (from nbconvert->jupyter->sql_magic) (0.3)\n",
      "Requirement already satisfied, skipping upgrade: defusedxml in /usr/local/lib/python3.6/dist-packages (from nbconvert->jupyter->sql_magic) (0.6.0)\n",
      "Requirement already satisfied, skipping upgrade: mistune<2,>=0.8.1 in /usr/local/lib/python3.6/dist-packages (from nbconvert->jupyter->sql_magic) (0.8.4)\n",
      "Requirement already satisfied, skipping upgrade: testpath in /usr/local/lib/python3.6/dist-packages (from nbconvert->jupyter->sql_magic) (0.4.4)\n",
      "Requirement already satisfied, skipping upgrade: jsonschema!=2.5.0,>=2.4 in /usr/local/lib/python3.6/dist-packages (from nbformat>=4.2.0->ipywidgets->jupyter->sql_magic) (3.2.0)\n",
      "Requirement already satisfied, skipping upgrade: MarkupSafe>=0.23 in /usr/local/lib/python3.6/dist-packages (from jinja2->notebook->jupyter->sql_magic) (1.1.1)\n",
      "Requirement already satisfied, skipping upgrade: webencodings in /usr/local/lib/python3.6/dist-packages (from bleach->nbconvert->jupyter->sql_magic) (0.5.1)\n",
      "Requirement already satisfied, skipping upgrade: attrs>=17.4.0 in /usr/local/lib/python3.6/dist-packages (from jsonschema!=2.5.0,>=2.4->nbformat>=4.2.0->ipywidgets->jupyter->sql_magic) (19.3.0)\n",
      "Requirement already satisfied, skipping upgrade: pyrsistent>=0.14.0 in /usr/local/lib/python3.6/dist-packages (from jsonschema!=2.5.0,>=2.4->nbformat>=4.2.0->ipywidgets->jupyter->sql_magic) (0.15.7)\n",
      "Requirement already satisfied, skipping upgrade: importlib-metadata; python_version < \"3.8\" in /usr/local/lib/python3.6/dist-packages (from jsonschema!=2.5.0,>=2.4->nbformat>=4.2.0->ipywidgets->jupyter->sql_magic) (1.5.0)\n",
      "Requirement already satisfied, skipping upgrade: zipp>=0.5 in /usr/local/lib/python3.6/dist-packages (from importlib-metadata; python_version < \"3.8\"->jsonschema!=2.5.0,>=2.4->nbformat>=4.2.0->ipywidgets->jupyter->sql_magic) (3.0.0)\n"
     ]
    }
   ],
   "source": [
    "!sudo apt-get install python3-mysqldb\n",
    "!sudo pip3 install -U sqlalchemy sql_magic"
   ]
  },
  {
   "cell_type": "code",
   "execution_count": 8,
   "metadata": {},
   "outputs": [],
   "source": [
    "import sqlalchemy\n",
    "from sqlalchemy import create_engine\n",
    "\n",
    "conn_string = 'mysql://{user}:{password}@{host}/'.format(\n",
    "    host = 'db.ipeirotis.org', \n",
    "    user = 'student',\n",
    "    password = 'dwdstudent2015')\n",
    "\n",
    "engine = create_engine(conn_string)\n",
    "con = engine.connect()"
   ]
  },
  {
   "cell_type": "markdown",
   "metadata": {},
   "source": [
    "Once we have connected successfully, we need to create our database:"
   ]
  },
  {
   "cell_type": "code",
   "execution_count": 9,
   "metadata": {},
   "outputs": [
    {
     "data": {
      "text/plain": [
       "<sqlalchemy.engine.result.ResultProxy at 0x7fef7bf800b8>"
      ]
     },
     "execution_count": 9,
     "metadata": {},
     "output_type": "execute_result"
    }
   ],
   "source": [
    "# Query to create a database\n",
    "# In this example, we will try to create the (existing) database \"public\"\n",
    "# But in general, we can give any name to the database\n",
    "db_name = 'public' \n",
    "create_db_query = f\"CREATE DATABASE IF NOT EXISTS {db_name} DEFAULT CHARACTER SET 'utf8'\"\n",
    "\n",
    "# Create a database\n",
    "engine.execute(create_db_query)\n",
    "\n",
    "# And lets switch to the database\n",
    "engine.execute(f\"USE {db_name}\")"
   ]
  },
  {
   "cell_type": "code",
   "execution_count": 10,
   "metadata": {},
   "outputs": [
    {
     "name": "stdout",
     "output_type": "stream",
     "text": [
      "cd53821b\n"
     ]
    }
   ],
   "source": [
    "# To avoid conflicts between people writing in the same database, we add a random suffix in the tables\n",
    "# We only create the variable once while running the notebook\n",
    "import uuid\n",
    "if 'suffix' not in globals():\n",
    "    suffix = str(uuid.uuid4())[:8]\n",
    "print(suffix)"
   ]
  },
  {
   "cell_type": "markdown",
   "metadata": {},
   "source": [
    "### Create Table and Store Data in Database using the `to_sql` command"
   ]
  },
  {
   "cell_type": "markdown",
   "metadata": {},
   "source": [
    "Then we create the table where we will store our data. Since we already have the data in a Pandas DataFrame, it is very easy to put the data in a database."
   ]
  },
  {
   "cell_type": "code",
   "execution_count": 11,
   "metadata": {},
   "outputs": [],
   "source": [
    "table_name = f'Stations_{suffix}'\n",
    "# Create a table\n",
    "# See http://pandas.pydata.org/pandas-docs/stable/generated/pandas.DataFrame.to_sql.html for the documentation\n",
    "\n",
    "# This step is optional, but it is good practice to define explicitly the \n",
    "# data types before storing things in a database. In many cases, this can be ommitted, though.\n",
    "\n",
    "dtype = {\n",
    "    'station_id': sqlalchemy.types.SMALLINT(),\n",
    "    'external_id': sqlalchemy.types.VARCHAR(50),\n",
    "    'name': sqlalchemy.types.VARCHAR(50),\n",
    "    'short_name': sqlalchemy.types.VARCHAR(10),\n",
    "    'lat': sqlalchemy.types.Float, \n",
    "    'lon': sqlalchemy.types.Float,    \n",
    "    'region_id': sqlalchemy.types.VARCHAR(5),\n",
    "    'capacity': sqlalchemy.types.SMALLINT(),\n",
    "    'rental_url': sqlalchemy.types.VARCHAR(100),\n",
    "    'electric_bike_surcharge_waiver':  sqlalchemy.types.BOOLEAN,\n",
    "    'eightd_has_key_dispenser':  sqlalchemy.types.BOOLEAN,    \n",
    "    'has_kiosk':  sqlalchemy.types.BOOLEAN\n",
    "}\n",
    "\n",
    "\n",
    "df.to_sql(name = table_name, \n",
    "          schema = db_name, \n",
    "          con = engine, \n",
    "          if_exists = 'replace', \n",
    "          index = False, \n",
    "          dtype = dtype)"
   ]
  },
  {
   "cell_type": "code",
   "execution_count": 12,
   "metadata": {},
   "outputs": [
    {
     "name": "stdout",
     "output_type": "stream",
     "text": [
      "ALTER TABLE Stations_cd53821b ADD PRIMARY KEY(station_id)\n"
     ]
    },
    {
     "data": {
      "text/plain": [
       "<sqlalchemy.engine.result.ResultProxy at 0x7fef7bf80e10>"
      ]
     },
     "execution_count": 12,
     "metadata": {},
     "output_type": "execute_result"
    }
   ],
   "source": [
    "# Once we have the data in the table, we also specify a primary key\n",
    "# If we had FOREIGN KEYS we can add them in the same way\n",
    "add_key_query = f'ALTER TABLE {table_name} ADD PRIMARY KEY(station_id)'\n",
    "print(add_key_query)\n",
    "engine.execute(add_key_query)"
   ]
  },
  {
   "cell_type": "markdown",
   "metadata": {},
   "source": [
    "### Reading from a SQL Database in Python using Pandas"
   ]
  },
  {
   "cell_type": "markdown",
   "metadata": {},
   "source": [
    "We can similarly read from the database using Pandas"
   ]
  },
  {
   "cell_type": "code",
   "execution_count": 13,
   "metadata": {},
   "outputs": [
    {
     "name": "stdout",
     "output_type": "stream",
     "text": [
      "SELECT * FROM public.Stations_cd53821b\n"
     ]
    }
   ],
   "source": [
    "query =  f\"SELECT * FROM {db_name}.{table_name}\"\n",
    "print(query)"
   ]
  },
  {
   "cell_type": "code",
   "execution_count": 14,
   "metadata": {},
   "outputs": [
    {
     "data": {
      "text/html": [
       "<div>\n",
       "<style scoped>\n",
       "    .dataframe tbody tr th:only-of-type {\n",
       "        vertical-align: middle;\n",
       "    }\n",
       "\n",
       "    .dataframe tbody tr th {\n",
       "        vertical-align: top;\n",
       "    }\n",
       "\n",
       "    .dataframe thead th {\n",
       "        text-align: right;\n",
       "    }\n",
       "</style>\n",
       "<table border=\"1\" class=\"dataframe\">\n",
       "  <thead>\n",
       "    <tr style=\"text-align: right;\">\n",
       "      <th></th>\n",
       "      <th>station_id</th>\n",
       "      <th>external_id</th>\n",
       "      <th>name</th>\n",
       "      <th>short_name</th>\n",
       "      <th>lat</th>\n",
       "      <th>lon</th>\n",
       "      <th>region_id</th>\n",
       "      <th>capacity</th>\n",
       "      <th>rental_url</th>\n",
       "      <th>electric_bike_surcharge_waiver</th>\n",
       "      <th>eightd_has_key_dispenser</th>\n",
       "      <th>has_kiosk</th>\n",
       "    </tr>\n",
       "  </thead>\n",
       "  <tbody>\n",
       "    <tr>\n",
       "      <th>0</th>\n",
       "      <td>72</td>\n",
       "      <td>66db237e-0aca-11e7-82f6-3863bb44ef7c</td>\n",
       "      <td>W 52 St &amp; 11 Ave</td>\n",
       "      <td>6926.01</td>\n",
       "      <td>40.7673</td>\n",
       "      <td>-73.9939</td>\n",
       "      <td>71</td>\n",
       "      <td>55</td>\n",
       "      <td>http://app.citibikenyc.com/S6Lr/IBV092JufD?sta...</td>\n",
       "      <td>0</td>\n",
       "      <td>0</td>\n",
       "      <td>1</td>\n",
       "    </tr>\n",
       "    <tr>\n",
       "      <th>1</th>\n",
       "      <td>79</td>\n",
       "      <td>66db269c-0aca-11e7-82f6-3863bb44ef7c</td>\n",
       "      <td>Franklin St &amp; W Broadway</td>\n",
       "      <td>5430.08</td>\n",
       "      <td>40.7191</td>\n",
       "      <td>-74.0067</td>\n",
       "      <td>71</td>\n",
       "      <td>33</td>\n",
       "      <td>http://app.citibikenyc.com/S6Lr/IBV092JufD?sta...</td>\n",
       "      <td>0</td>\n",
       "      <td>0</td>\n",
       "      <td>1</td>\n",
       "    </tr>\n",
       "    <tr>\n",
       "      <th>2</th>\n",
       "      <td>82</td>\n",
       "      <td>66db277a-0aca-11e7-82f6-3863bb44ef7c</td>\n",
       "      <td>St James Pl &amp; Pearl St</td>\n",
       "      <td>5167.06</td>\n",
       "      <td>40.7112</td>\n",
       "      <td>-74.0002</td>\n",
       "      <td>71</td>\n",
       "      <td>27</td>\n",
       "      <td>http://app.citibikenyc.com/S6Lr/IBV092JufD?sta...</td>\n",
       "      <td>0</td>\n",
       "      <td>0</td>\n",
       "      <td>1</td>\n",
       "    </tr>\n",
       "    <tr>\n",
       "      <th>3</th>\n",
       "      <td>83</td>\n",
       "      <td>66db281e-0aca-11e7-82f6-3863bb44ef7c</td>\n",
       "      <td>Atlantic Ave &amp; Fort Greene Pl</td>\n",
       "      <td>4354.07</td>\n",
       "      <td>40.6838</td>\n",
       "      <td>-73.9763</td>\n",
       "      <td>71</td>\n",
       "      <td>62</td>\n",
       "      <td>http://app.citibikenyc.com/S6Lr/IBV092JufD?sta...</td>\n",
       "      <td>0</td>\n",
       "      <td>0</td>\n",
       "      <td>1</td>\n",
       "    </tr>\n",
       "    <tr>\n",
       "      <th>4</th>\n",
       "      <td>116</td>\n",
       "      <td>66db28b5-0aca-11e7-82f6-3863bb44ef7c</td>\n",
       "      <td>W 17 St &amp; 8 Ave</td>\n",
       "      <td>6148.02</td>\n",
       "      <td>40.7418</td>\n",
       "      <td>-74.0015</td>\n",
       "      <td>71</td>\n",
       "      <td>50</td>\n",
       "      <td>http://app.citibikenyc.com/S6Lr/IBV092JufD?sta...</td>\n",
       "      <td>0</td>\n",
       "      <td>0</td>\n",
       "      <td>1</td>\n",
       "    </tr>\n",
       "  </tbody>\n",
       "</table>\n",
       "</div>"
      ],
      "text/plain": [
       "   station_id                           external_id  \\\n",
       "0          72  66db237e-0aca-11e7-82f6-3863bb44ef7c   \n",
       "1          79  66db269c-0aca-11e7-82f6-3863bb44ef7c   \n",
       "2          82  66db277a-0aca-11e7-82f6-3863bb44ef7c   \n",
       "3          83  66db281e-0aca-11e7-82f6-3863bb44ef7c   \n",
       "4         116  66db28b5-0aca-11e7-82f6-3863bb44ef7c   \n",
       "\n",
       "                            name short_name      lat      lon region_id  \\\n",
       "0               W 52 St & 11 Ave    6926.01  40.7673 -73.9939        71   \n",
       "1       Franklin St & W Broadway    5430.08  40.7191 -74.0067        71   \n",
       "2         St James Pl & Pearl St    5167.06  40.7112 -74.0002        71   \n",
       "3  Atlantic Ave & Fort Greene Pl    4354.07  40.6838 -73.9763        71   \n",
       "4                W 17 St & 8 Ave    6148.02  40.7418 -74.0015        71   \n",
       "\n",
       "   capacity                                         rental_url  \\\n",
       "0        55  http://app.citibikenyc.com/S6Lr/IBV092JufD?sta...   \n",
       "1        33  http://app.citibikenyc.com/S6Lr/IBV092JufD?sta...   \n",
       "2        27  http://app.citibikenyc.com/S6Lr/IBV092JufD?sta...   \n",
       "3        62  http://app.citibikenyc.com/S6Lr/IBV092JufD?sta...   \n",
       "4        50  http://app.citibikenyc.com/S6Lr/IBV092JufD?sta...   \n",
       "\n",
       "   electric_bike_surcharge_waiver  eightd_has_key_dispenser  has_kiosk  \n",
       "0                               0                         0          1  \n",
       "1                               0                         0          1  \n",
       "2                               0                         0          1  \n",
       "3                               0                         0          1  \n",
       "4                               0                         0          1  "
      ]
     },
     "execution_count": 14,
     "metadata": {},
     "output_type": "execute_result"
    }
   ],
   "source": [
    "df2 = pd.read_sql(query, con=engine)\n",
    "df2.head(5)"
   ]
  },
  {
   "cell_type": "markdown",
   "metadata": {},
   "source": [
    "### Export Data from Database to CSV or Excel"
   ]
  },
  {
   "cell_type": "markdown",
   "metadata": {},
   "source": [
    "And remember that from Pandas it is also possible to export in other formats, such as Excel of CSV."
   ]
  },
  {
   "cell_type": "code",
   "execution_count": 15,
   "metadata": {},
   "outputs": [
    {
     "name": "stdout",
     "output_type": "stream",
     "text": [
      "\u001b[33mWARNING: The directory '/home/ubuntu/.cache/pip' or its parent directory is not owned or is not writable by the current user. The cache has been disabled. Check the permissions and owner of that directory. If executing pip with sudo, you may want sudo's -H flag.\u001b[0m\n",
      "Requirement already up-to-date: xlwt in /usr/local/lib/python3.6/dist-packages (1.3.0)\n"
     ]
    }
   ],
   "source": [
    "# The necessary library to write in Excel\n",
    "!sudo pip3 install -U xlwt"
   ]
  },
  {
   "cell_type": "code",
   "execution_count": 16,
   "metadata": {},
   "outputs": [],
   "source": [
    "df2.to_excel(\"citibike.xls\")\n",
    "df2.to_csv(\"citibike.csv\")"
   ]
  },
  {
   "cell_type": "markdown",
   "metadata": {},
   "source": [
    "### Cleanup"
   ]
  },
  {
   "cell_type": "markdown",
   "metadata": {},
   "source": [
    "Finally, let's clean up and delete the table that we created"
   ]
  },
  {
   "cell_type": "code",
   "execution_count": 17,
   "metadata": {},
   "outputs": [
    {
     "name": "stdout",
     "output_type": "stream",
     "text": [
      "DROP TABLE IF EXISTS public.Stations_cd53821b\n"
     ]
    },
    {
     "data": {
      "text/plain": [
       "<sqlalchemy.engine.result.ResultProxy at 0x7fef7bd74b70>"
      ]
     },
     "execution_count": 17,
     "metadata": {},
     "output_type": "execute_result"
    }
   ],
   "source": [
    "drop_table_query = f\"DROP TABLE IF EXISTS {db_name}.{table_name}\"\n",
    "print(drop_table_query)\n",
    "engine.execute(drop_table_query)"
   ]
  },
  {
   "cell_type": "markdown",
   "metadata": {},
   "source": [
    "### Exercise\n",
    "\n",
    "The `url_status = 'https://gbfs.citibikenyc.com/gbfs/en/station_status.json'` URL contains the status of the stations. Write code that reads the results from that API call, and then stores the data in a separate table. Add a \"foreign key\" constraint from the Status table to the Stations table that we created above."
   ]
  },
  {
   "cell_type": "code",
   "execution_count": null,
   "metadata": {},
   "outputs": [],
   "source": []
  }
 ],
 "metadata": {
  "kernelspec": {
   "display_name": "Python 3",
   "language": "python",
   "name": "python3"
  },
  "language_info": {
   "codemirror_mode": {
    "name": "ipython",
    "version": 3
   },
   "file_extension": ".py",
   "mimetype": "text/x-python",
   "name": "python",
   "nbconvert_exporter": "python",
   "pygments_lexer": "ipython3",
   "version": "3.6.9"
  }
 },
 "nbformat": 4,
 "nbformat_minor": 1
}
