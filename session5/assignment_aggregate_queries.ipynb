{
  "nbformat": 4,
  "nbformat_minor": 0,
  "metadata": {
    "anaconda-cloud": {},
    "kernelspec": {
      "display_name": "Python 3",
      "language": "python",
      "name": "python3"
    },
    "language_info": {
      "codemirror_mode": {
        "name": "ipython",
        "version": 3
      },
      "file_extension": ".py",
      "mimetype": "text/x-python",
      "name": "python",
      "nbconvert_exporter": "python",
      "pygments_lexer": "ipython3",
      "version": "3.6.6"
    },
    "colab": {
      "name": "Session 5: Aggregate Queries Assignment",
      "provenance": [],
      "collapsed_sections": [],
      "include_colab_link": true
    }
  },
  "cells": [
    {
      "cell_type": "markdown",
      "metadata": {
        "id": "view-in-github",
        "colab_type": "text"
      },
      "source": [
        "<a href=\"https://colab.research.google.com/github/ipeirotis/introduction-to-databases/blob/master/session5/assignment_aggregate_queries.ipynb\" target=\"_parent\"><img src=\"https://colab.research.google.com/assets/colab-badge.svg\" alt=\"Open In Colab\"/></a>"
      ]
    },
    {
      "cell_type": "markdown",
      "metadata": {
        "id": "SkZqhwkf8NUg",
        "colab_type": "text"
      },
      "source": [
        "# Session 5: Aggregate Queries Assignment\n",
        "\n",
        "\n",
        "In this segment we will connect to the *Music* database."
      ]
    },
    {
      "cell_type": "markdown",
      "metadata": {
        "id": "5u_6yLTDT6Kn",
        "colab_type": "text"
      },
      "source": [
        "## Setup"
      ]
    },
    {
      "cell_type": "code",
      "metadata": {
        "id": "O9o9NsaO8hMy",
        "colab_type": "code",
        "colab": {}
      },
      "source": [
        "!apt-get install python3-mysqldb\n",
        "!pip install sqlalchemy sql_magic"
      ],
      "execution_count": 0,
      "outputs": []
    },
    {
      "cell_type": "code",
      "metadata": {
        "id": "EkIL-uRK8NUi",
        "colab_type": "code",
        "colab": {}
      },
      "source": [
        "# This code creates a connection to the database\n",
        "from sqlalchemy import create_engine\n",
        "\n",
        "conn_string = 'mysql://{user}:{password}@{host}/{db}?charset={encoding}'.format(\n",
        "    host = 'db.ipeirotis.org', \n",
        "    user = 'student',\n",
        "    db = 'music',\n",
        "    password = 'dwdstudent2015',\n",
        "    encoding = 'utf8mb4')\n",
        "\n",
        "engine = create_engine(conn_string)\n",
        "con = engine.connect()"
      ],
      "execution_count": 0,
      "outputs": []
    },
    {
      "cell_type": "code",
      "metadata": {
        "id": "z7muzQXTUFkU",
        "colab_type": "code",
        "colab": {}
      },
      "source": [
        "%reload_ext sql_magic"
      ],
      "execution_count": 0,
      "outputs": []
    },
    {
      "cell_type": "code",
      "metadata": {
        "id": "uHRIPxBvUGfC",
        "colab_type": "code",
        "colab": {}
      },
      "source": [
        "%config SQL.conn_name = 'engine'"
      ],
      "execution_count": 0,
      "outputs": []
    },
    {
      "cell_type": "code",
      "metadata": {
        "id": "sWa1Uv_6X9zi",
        "colab_type": "code",
        "colab": {}
      },
      "source": [
        "%%read_sql\n",
        "SELECT * \n",
        "FROM played"
      ],
      "execution_count": 0,
      "outputs": []
    },
    {
      "cell_type": "markdown",
      "metadata": {
        "id": "H0hhloRRUJlV",
        "colab_type": "text"
      },
      "source": [
        "## Question 1:"
      ]
    },
    {
      "cell_type": "code",
      "metadata": {
        "id": "eL_CnyPRUSGI",
        "colab_type": "code",
        "colab": {}
      },
      "source": [
        "%%read_sql\n"
      ],
      "execution_count": 0,
      "outputs": []
    },
    {
      "cell_type": "markdown",
      "metadata": {
        "id": "Hz_1yX-EUeBQ",
        "colab_type": "text"
      },
      "source": [
        "## Question 2: "
      ]
    },
    {
      "cell_type": "code",
      "metadata": {
        "id": "HXy0Ygy3Uf_m",
        "colab_type": "code",
        "colab": {}
      },
      "source": [
        "%%read_sql\n"
      ],
      "execution_count": 0,
      "outputs": []
    },
    {
      "cell_type": "markdown",
      "metadata": {
        "colab_type": "text",
        "id": "UozymxRTW-wx"
      },
      "source": [
        "## Question 3:"
      ]
    },
    {
      "cell_type": "code",
      "metadata": {
        "colab_type": "code",
        "id": "ZwtqsRoGW-wz",
        "colab": {}
      },
      "source": [
        "%%read_sql\n"
      ],
      "execution_count": 0,
      "outputs": []
    },
    {
      "cell_type": "markdown",
      "metadata": {
        "colab_type": "text",
        "id": "8NFSCApmXGZ8"
      },
      "source": [
        "## Question 4:"
      ]
    },
    {
      "cell_type": "code",
      "metadata": {
        "colab_type": "code",
        "id": "bcr5iccDXGZ9",
        "colab": {}
      },
      "source": [
        "%%read_sql\n"
      ],
      "execution_count": 0,
      "outputs": []
    },
    {
      "cell_type": "markdown",
      "metadata": {
        "id": "nezZleqbUeI_",
        "colab_type": "text"
      },
      "source": [
        "## Question 5:"
      ]
    },
    {
      "cell_type": "code",
      "metadata": {
        "id": "rNfpSzT3UgrM",
        "colab_type": "code",
        "colab": {}
      },
      "source": [
        "%%read_sql\n"
      ],
      "execution_count": 0,
      "outputs": []
    },
    {
      "cell_type": "markdown",
      "metadata": {
        "colab_type": "text",
        "id": "_j2bCzADXODe"
      },
      "source": [
        "## Question 6:"
      ]
    },
    {
      "cell_type": "code",
      "metadata": {
        "colab_type": "code",
        "id": "o9h005rlXODf",
        "colab": {}
      },
      "source": [
        "%%read_sql\n"
      ],
      "execution_count": 0,
      "outputs": []
    },
    {
      "cell_type": "markdown",
      "metadata": {
        "id": "HF9cHpSDXaZd",
        "colab_type": "text"
      },
      "source": [
        "## Question 7:"
      ]
    },
    {
      "cell_type": "code",
      "metadata": {
        "colab_type": "code",
        "id": "mvLQdbdiXSmw",
        "colab": {}
      },
      "source": [
        "%%read_sql\n"
      ],
      "execution_count": 0,
      "outputs": []
    },
    {
      "cell_type": "markdown",
      "metadata": {
        "colab_type": "text",
        "id": "ntj5f4n8U3dT"
      },
      "source": [
        "## Question 8:"
      ]
    },
    {
      "cell_type": "code",
      "metadata": {
        "colab_type": "code",
        "id": "mPCpyhbwU3dV",
        "colab": {}
      },
      "source": [
        "%%read_sql\n"
      ],
      "execution_count": 0,
      "outputs": []
    },
    {
      "cell_type": "markdown",
      "metadata": {
        "colab_type": "text",
        "id": "23bSA8IUU1Og"
      },
      "source": [
        "## Question 9:"
      ]
    },
    {
      "cell_type": "code",
      "metadata": {
        "colab_type": "code",
        "id": "hTD97qjaU1Oi",
        "colab": {}
      },
      "source": [
        "%%read_sql\n"
      ],
      "execution_count": 0,
      "outputs": []
    },
    {
      "cell_type": "markdown",
      "metadata": {
        "id": "eWgdmtHHURaS",
        "colab_type": "text"
      },
      "source": [
        "## Question 10:"
      ]
    },
    {
      "cell_type": "code",
      "metadata": {
        "id": "ygI_N9gBUhWy",
        "colab_type": "code",
        "colab": {}
      },
      "source": [
        "%%read_sql\n"
      ],
      "execution_count": 0,
      "outputs": []
    }
  ]
}