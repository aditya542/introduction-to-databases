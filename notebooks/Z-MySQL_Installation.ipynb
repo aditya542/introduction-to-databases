{
 "cells": [
  {
   "cell_type": "markdown",
   "metadata": {},
   "source": [
    "The instructions below can be used to install MySQL from scratch in any Linux/Ubuntu machine, and to import the databases that we will use as examples. (Most of) these steps have been already completed in the image that is being used for the class, but I keep the instructions here for reference, if a student wants to create a MySQL installation in a new machine."
   ]
  },
  {
   "cell_type": "markdown",
   "metadata": {},
   "source": [
    "### Install MySQL server"
   ]
  },
  {
   "cell_type": "markdown",
   "metadata": {},
   "source": [
    "Login to the terminal and type:\n",
    "\n",
    "`sudo apt-get update`\n",
    "\n",
    "and then\n",
    "\n",
    "`sudo apt-get -y install mysql-server`\n",
    "\n",
    "During installation, you will be prompted to create a password for \"root\" user. You can use any password you like, but make sure that you remember it. In our own installation, we used the password `dwdstudent2015`.\n",
    "\n",
    "After a succesful installation, you will be able to access MySQL server from the console by typing:\n",
    "\n",
    "`mysql -u root -p`\n",
    "\n",
    "Inside mysql console you can execute SQL commands, for example, the command:\n",
    "\n",
    "`mysql> SHOW DATABASES;`\n",
    "\n",
    "will show you the databases available. The first that you run the command you will see something like:"
   ]
  },
  {
   "cell_type": "raw",
   "metadata": {},
   "source": [
    "+--------------------+\n",
    "| Database           |\n",
    "+--------------------+\n",
    "| information_schema |\n",
    "| mysql              |\n",
    "| performance_schema |\n",
    "+--------------------+\n",
    "3 rows in set (0.00 sec)"
   ]
  },
  {
   "cell_type": "markdown",
   "metadata": {},
   "source": [
    "For now, let's get out of the command-line interface, by typing the command `QUIT`\n",
    "\n",
    "`mysql> QUIT`"
   ]
  },
  {
   "cell_type": "markdown",
   "metadata": {},
   "source": [
    "### Making MySQL server accessible from host machine"
   ]
  },
  {
   "cell_type": "markdown",
   "metadata": {},
   "source": [
    "We need to change a couple of things to make the MySQL database accessible from the host machine. First we need to change the configuration file for MySQL, to allow it to respond to connections from the outside world. \n",
    "\n",
    "1. Make sure that your machine has the port 3306 open in the security settings of your EC2 instance.\n",
    "\n",
    "2. Go and edit the file `/etc/mysql/mysql.conf.d/mysqld.cnf` and find the parameter `bind-address`. By default, the setting is `bind-address = 127.0.0.1`. Change it to `bind-address = 0.0.0.0` in order to allow connections from any machine.\n",
    "\n",
    "3. Connect to MySQL (type `mysql -u root -p` in the shell) and then within MySQL run the following commands:\n",
    "\n",
    "`mysql> CREATE USER 'root'@'%' IDENTIFIED BY 'dwdstudent2015';`\n",
    "\n",
    "`mysql> GRANT ALL PRIVILEGES ON *.* TO 'root'@'%';`\n",
    "\n",
    "`mysql> FLUSH PRIVILEGES;`\n",
    "\n",
    "`mysql> exit`\n",
    "\n",
    "And then, in the shell:\n",
    "\n",
    "`sudo service mysql restart`\n",
    "\n",
    "_Note: This is an insecure setup, as it provides admin access to your database, to anyone that has the IP address of your machine and the password._"
   ]
  },
  {
   "cell_type": "markdown",
   "metadata": {},
   "source": [
    "### Import databases"
   ]
  },
  {
   "cell_type": "markdown",
   "metadata": {},
   "source": [
    "Now, we are ready to fetch the datasets and store them in the database.\n",
    "\n",
    "#### Facebook\n",
    "\n",
    "Import a database of the Facebook profiles of the first NYU users (back from 2004-6), before Facebook started paying attention to these annoying issues of privacy and security :-)"
   ]
  },
  {
   "cell_type": "code",
   "execution_count": null,
   "metadata": {},
   "outputs": [],
   "source": [
    "!zcat data/facebook.sql.gz | mysql -u root -pdwdstudent2015"
   ]
  },
  {
   "cell_type": "markdown",
   "metadata": {},
   "source": [
    "\n",
    "_Warning_: Importing the Facebook data will take approximately 15-20 minutes, during which the machine will look unresponsive. Please do not stop it.\n",
    "\n",
    "#### IMDB\n",
    "\n",
    "This database contains a set of tables from the IMDB database.\n"
   ]
  },
  {
   "cell_type": "code",
   "execution_count": null,
   "metadata": {},
   "outputs": [],
   "source": [
    "!zcat data/imdb.sql.gz | mysql -u root -pdwdstudent2015"
   ]
  },
  {
   "cell_type": "markdown",
   "metadata": {},
   "source": [
    "### Installing MySQL Workbench"
   ]
  },
  {
   "cell_type": "markdown",
   "metadata": {},
   "source": [
    "#### Download\n",
    "\n",
    "To install it on your machine, please go to http://dev.mysql.com/downloads/workbench/ and download the \"*MySQL Installer*\" for your machine. You can download the small installation file and then *install only the MySQL Workbench*, as we will not need any of the other utilities (everything else is already installed on your Linux machine running on EC2) (Please note that Oracle will try to get you to register before downloading the software. However, you do not need to register to download the tool: just select the \"_No thanks, just start my download._\" from the bottom of the page and the download will start.)\n",
    "\n",
    "\n",
    "\n",
    "#### Connect to the MySQL database\n",
    "\n",
    "Once you have MySQL Workbench running on your machine, you can set it up to connect to the MySQL server which runs on your Linux machine. The steps:\n",
    "\n",
    "* Open the MySQL Workbench\n",
    "* Select \"Database\" => \"Manage Connections\" => \"New\"\n",
    "* Give a name to the connection, by filling in the \"Connection Name\" field (e.g., \"My MySQL\")\n",
    "* Put \"Hostname:\" to be the IP of your Linux machine.\n",
    "* Keep \"Port: 3306\" and \"Username: root\"\n",
    "* Select \"Test Connection\". When asked for the password, enter \"dwdstudent2015\".\n",
    "* You should get back a message \"Connected to MySQL at 127.0.0.1:3306\", \"Connection Parameters are correct, SSH not enabled\"\n",
    "* Close the dialog\n",
    "\n",
    "Now, to connect to the database, select the \"Database\" menu, then select your connection, and press \"OK\".\n",
    "\n",
    "\n"
   ]
  }
 ],
 "metadata": {
  "kernelspec": {
   "display_name": "Python 3",
   "language": "python",
   "name": "python3"
  },
  "language_info": {
   "codemirror_mode": {
    "name": "ipython",
    "version": 3
   },
   "file_extension": ".py",
   "mimetype": "text/x-python",
   "name": "python",
   "nbconvert_exporter": "python",
   "pygments_lexer": "ipython3",
   "version": "3.5.2"
  }
 },
 "nbformat": 4,
 "nbformat_minor": 0
}
