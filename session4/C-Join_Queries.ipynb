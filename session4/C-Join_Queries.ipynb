{
  "nbformat": 4,
  "nbformat_minor": 0,
  "metadata": {
    "colab": {
      "name": "A-Navigation_Queries.ipynb",
      "provenance": []
    },
    "kernelspec": {
      "display_name": "Python 3",
      "language": "python",
      "name": "python3"
    },
    "language_info": {
      "codemirror_mode": {
        "name": "ipython",
        "version": 3
      },
      "file_extension": ".py",
      "mimetype": "text/x-python",
      "name": "python",
      "nbconvert_exporter": "python",
      "pygments_lexer": "ipython3",
      "version": "3.6.9"
    }
  },
  "cells": [
    {
      "cell_type": "markdown",
      "metadata": {
        "colab_type": "text",
        "id": "QBeMTyL26ULI"
      },
      "source": [
        "# SQL: JoinQueries"
      ]
    },
    {
      "cell_type": "markdown",
      "metadata": {
        "colab_type": "text",
        "id": "w8oa_JjV7F_h"
      },
      "source": [
        "## Setup"
      ]
    },
    {
      "cell_type": "markdown",
      "metadata": {
        "colab_type": "text",
        "id": "0SuVR-1d7Jr4"
      },
      "source": [
        "We are now installing the necessary packages to interact with the MySQL database and issue SQL queries using the notebook."
      ]
    },
    {
      "cell_type": "code",
      "metadata": {
        "colab_type": "code",
        "id": "I6vMQAK86ipS",
        "colab": {}
      },
      "source": [
        "!sudo apt-get install python3-mysqldb\n",
        "!sudo pip3 install -U sqlalchemy sql_magic"
      ],
      "execution_count": 0,
      "outputs": []
    },
    {
      "cell_type": "code",
      "metadata": {
        "colab_type": "code",
        "id": "vOuWkjz36ULS",
        "colab": {
          "base_uri": "https://localhost:8080/",
          "height": 70
        },
        "outputId": "d85b577f-593e-4703-ad5c-956ce5f7cf1f"
      },
      "source": [
        "%reload_ext sql_magic"
      ],
      "execution_count": 3,
      "outputs": [
        {
          "output_type": "stream",
          "text": [
            "/usr/local/lib/python3.6/dist-packages/psycopg2/__init__.py:144: UserWarning: The psycopg2 wheel package will be renamed from release 2.8; in order to keep installing from binary please use \"pip install psycopg2-binary\" instead. For details see: <http://initd.org/psycopg/docs/install.html#binary-install-from-pypi>.\n",
            "  \"\"\")\n"
          ],
          "name": "stderr"
        },
        {
          "output_type": "display_data",
          "data": {
            "application/javascript": [
              "\n",
              "    require(['notebook/js/codecell'], function(codecell) {\n",
              "      // https://github.com/jupyter/notebook/issues/2453\n",
              "      codecell.CodeCell.options_default.highlight_modes['magic_text/x-sql'] = {'reg':[/^%read_sql/, /.*=\\s*%read_sql/,\n",
              "                                                                                      /^%%read_sql/]};\n",
              "      Jupyter.notebook.events.one('kernel_ready.Kernel', function(){\n",
              "          console.log('BBBBB');\n",
              "          Jupyter.notebook.get_cells().map(function(cell){\n",
              "              if (cell.cell_type == 'code'){ cell.auto_highlight(); } }) ;\n",
              "      });\n",
              "    });\n",
              "    "
            ]
          },
          "metadata": {
            "tags": []
          }
        }
      ]
    },
    {
      "cell_type": "code",
      "metadata": {
        "colab_type": "code",
        "id": "KE_bhLw16ULK",
        "colab": {}
      },
      "source": [
        "from sqlalchemy import create_engine\n",
        "\n",
        "conn_string = 'mysql://{user}:{password}@{host}/?charset=utf8'.format(\n",
        "    host='db.ipeirotis.org',\n",
        "    user='student',\n",
        "    password='dwdstudent2015',\n",
        "    encoding='utf-8')\n",
        "engine = create_engine(conn_string)"
      ],
      "execution_count": 0,
      "outputs": []
    },
    {
      "cell_type": "code",
      "metadata": {
        "colab_type": "code",
        "id": "fivqywfX6ULV",
        "colab": {}
      },
      "source": [
        "%config SQL.conn_name = 'engine'"
      ],
      "execution_count": 0,
      "outputs": []
    },
    {
      "cell_type": "markdown",
      "metadata": {
        "heading_collapsed": true,
        "id": "I3gMmBCf9tFD",
        "colab_type": "text"
      },
      "source": [
        "## Poor man's joins: Find the genres that Steven Spielberg typically directs\n",
        "\n",
        "Use the table directors_genres  and find all genres of films and the corresponding probabilities for the director ID that corresponds to Steven Spielberg. Sort the results by probability. \n"
      ]
    },
    {
      "cell_type": "markdown",
      "metadata": {
        "heading_collapsed": true,
        "hidden": true,
        "id": "rWp006T59tFE",
        "colab_type": "text"
      },
      "source": [
        "### IMDb"
      ]
    },
    {
      "cell_type": "code",
      "metadata": {
        "hidden": true,
        "id": "r4mkYlAl9tFE",
        "colab_type": "code",
        "colab": {
          "base_uri": "https://localhost:8080/",
          "height": 34
        },
        "outputId": "97ea3f29-0a9a-4697-f855-b285ad63b57c"
      },
      "source": [
        "%%read_sql\n",
        "USE imdb"
      ],
      "execution_count": 7,
      "outputs": [
        {
          "output_type": "stream",
          "text": [
            "Query started at 08:41:04 PM UTC; Query executed in 0.03 m"
          ],
          "name": "stdout"
        },
        {
          "output_type": "execute_result",
          "data": {
            "text/plain": [
              "<sql_magic.exceptions.EmptyResult at 0x7fe4c161b048>"
            ]
          },
          "metadata": {
            "tags": []
          },
          "execution_count": 7
        }
      ]
    },
    {
      "cell_type": "markdown",
      "metadata": {
        "hidden": true,
        "id": "YpawdZmd9tFI",
        "colab_type": "text"
      },
      "source": [
        "#### Find the entry for Steven Spielberg to find his id"
      ]
    },
    {
      "cell_type": "code",
      "metadata": {
        "hidden": true,
        "id": "JBb4m1r79tFI",
        "colab_type": "code",
        "colab": {
          "base_uri": "https://localhost:8080/",
          "height": 94
        },
        "outputId": "840e302a-9ffe-4f24-9fab-0a71d26f0499"
      },
      "source": [
        "%%read_sql\n",
        "SELECT *\n",
        "FROM directors \n",
        "WHERE first_name = 'Steven' AND last_name = 'Spielberg'"
      ],
      "execution_count": 8,
      "outputs": [
        {
          "output_type": "stream",
          "text": [
            "Query started at 08:41:27 PM UTC; Query executed in 0.01 m"
          ],
          "name": "stdout"
        },
        {
          "output_type": "execute_result",
          "data": {
            "text/html": [
              "<div>\n",
              "<style scoped>\n",
              "    .dataframe tbody tr th:only-of-type {\n",
              "        vertical-align: middle;\n",
              "    }\n",
              "\n",
              "    .dataframe tbody tr th {\n",
              "        vertical-align: top;\n",
              "    }\n",
              "\n",
              "    .dataframe thead th {\n",
              "        text-align: right;\n",
              "    }\n",
              "</style>\n",
              "<table border=\"1\" class=\"dataframe\">\n",
              "  <thead>\n",
              "    <tr style=\"text-align: right;\">\n",
              "      <th></th>\n",
              "      <th>id</th>\n",
              "      <th>first_name</th>\n",
              "      <th>last_name</th>\n",
              "    </tr>\n",
              "  </thead>\n",
              "  <tbody>\n",
              "    <tr>\n",
              "      <th>0</th>\n",
              "      <td>75380</td>\n",
              "      <td>Steven</td>\n",
              "      <td>Spielberg</td>\n",
              "    </tr>\n",
              "  </tbody>\n",
              "</table>\n",
              "</div>"
            ],
            "text/plain": [
              "      id first_name  last_name\n",
              "0  75380     Steven  Spielberg"
            ]
          },
          "metadata": {
            "tags": []
          },
          "execution_count": 8
        }
      ]
    },
    {
      "cell_type": "markdown",
      "metadata": {
        "hidden": true,
        "id": "fs2Fcwx59tFM",
        "colab_type": "text"
      },
      "source": [
        "#### Query the `directors_genres` table for Spielberg movies (pick director id value from previous query)"
      ]
    },
    {
      "cell_type": "code",
      "metadata": {
        "hidden": true,
        "id": "34ZxqrLh9tFN",
        "colab_type": "code",
        "colab": {
          "base_uri": "https://localhost:8080/",
          "height": 538
        },
        "outputId": "6f430cfc-69d7-443b-8786-7785ccffc9ff"
      },
      "source": [
        "%%read_sql\n",
        "SELECT *\n",
        "FROM directors_genres\n",
        "WHERE director_id = 75380\n",
        "ORDER BY prob DESC"
      ],
      "execution_count": 11,
      "outputs": [
        {
          "output_type": "stream",
          "text": [
            "Query started at 08:42:23 PM UTC; Query executed in 0.01 m"
          ],
          "name": "stdout"
        },
        {
          "output_type": "execute_result",
          "data": {
            "text/html": [
              "<div>\n",
              "<style scoped>\n",
              "    .dataframe tbody tr th:only-of-type {\n",
              "        vertical-align: middle;\n",
              "    }\n",
              "\n",
              "    .dataframe tbody tr th {\n",
              "        vertical-align: top;\n",
              "    }\n",
              "\n",
              "    .dataframe thead th {\n",
              "        text-align: right;\n",
              "    }\n",
              "</style>\n",
              "<table border=\"1\" class=\"dataframe\">\n",
              "  <thead>\n",
              "    <tr style=\"text-align: right;\">\n",
              "      <th></th>\n",
              "      <th>director_id</th>\n",
              "      <th>genre</th>\n",
              "      <th>prob</th>\n",
              "    </tr>\n",
              "  </thead>\n",
              "  <tbody>\n",
              "    <tr>\n",
              "      <th>0</th>\n",
              "      <td>75380</td>\n",
              "      <td>Drama</td>\n",
              "      <td>0.435897</td>\n",
              "    </tr>\n",
              "    <tr>\n",
              "      <th>1</th>\n",
              "      <td>75380</td>\n",
              "      <td>Thriller</td>\n",
              "      <td>0.282051</td>\n",
              "    </tr>\n",
              "    <tr>\n",
              "      <th>2</th>\n",
              "      <td>75380</td>\n",
              "      <td>Adventure</td>\n",
              "      <td>0.282051</td>\n",
              "    </tr>\n",
              "    <tr>\n",
              "      <th>3</th>\n",
              "      <td>75380</td>\n",
              "      <td>Sci-Fi</td>\n",
              "      <td>0.256410</td>\n",
              "    </tr>\n",
              "    <tr>\n",
              "      <th>4</th>\n",
              "      <td>75380</td>\n",
              "      <td>Action</td>\n",
              "      <td>0.230769</td>\n",
              "    </tr>\n",
              "    <tr>\n",
              "      <th>5</th>\n",
              "      <td>75380</td>\n",
              "      <td>Horror</td>\n",
              "      <td>0.179487</td>\n",
              "    </tr>\n",
              "    <tr>\n",
              "      <th>6</th>\n",
              "      <td>75380</td>\n",
              "      <td>Short</td>\n",
              "      <td>0.128205</td>\n",
              "    </tr>\n",
              "    <tr>\n",
              "      <th>7</th>\n",
              "      <td>75380</td>\n",
              "      <td>Fantasy</td>\n",
              "      <td>0.102564</td>\n",
              "    </tr>\n",
              "    <tr>\n",
              "      <th>8</th>\n",
              "      <td>75380</td>\n",
              "      <td>War</td>\n",
              "      <td>0.102564</td>\n",
              "    </tr>\n",
              "    <tr>\n",
              "      <th>9</th>\n",
              "      <td>75380</td>\n",
              "      <td>Crime</td>\n",
              "      <td>0.102564</td>\n",
              "    </tr>\n",
              "    <tr>\n",
              "      <th>10</th>\n",
              "      <td>75380</td>\n",
              "      <td>Comedy</td>\n",
              "      <td>0.076923</td>\n",
              "    </tr>\n",
              "    <tr>\n",
              "      <th>11</th>\n",
              "      <td>75380</td>\n",
              "      <td>Family</td>\n",
              "      <td>0.076923</td>\n",
              "    </tr>\n",
              "    <tr>\n",
              "      <th>12</th>\n",
              "      <td>75380</td>\n",
              "      <td>Mystery</td>\n",
              "      <td>0.051282</td>\n",
              "    </tr>\n",
              "    <tr>\n",
              "      <th>13</th>\n",
              "      <td>75380</td>\n",
              "      <td>Romance</td>\n",
              "      <td>0.051282</td>\n",
              "    </tr>\n",
              "    <tr>\n",
              "      <th>14</th>\n",
              "      <td>75380</td>\n",
              "      <td>Western</td>\n",
              "      <td>0.025641</td>\n",
              "    </tr>\n",
              "    <tr>\n",
              "      <th>15</th>\n",
              "      <td>75380</td>\n",
              "      <td>Documentary</td>\n",
              "      <td>0.025641</td>\n",
              "    </tr>\n",
              "  </tbody>\n",
              "</table>\n",
              "</div>"
            ],
            "text/plain": [
              "    director_id        genre      prob\n",
              "0         75380        Drama  0.435897\n",
              "1         75380     Thriller  0.282051\n",
              "2         75380    Adventure  0.282051\n",
              "3         75380       Sci-Fi  0.256410\n",
              "4         75380       Action  0.230769\n",
              "5         75380       Horror  0.179487\n",
              "6         75380        Short  0.128205\n",
              "7         75380      Fantasy  0.102564\n",
              "8         75380          War  0.102564\n",
              "9         75380        Crime  0.102564\n",
              "10        75380       Comedy  0.076923\n",
              "11        75380       Family  0.076923\n",
              "12        75380      Mystery  0.051282\n",
              "13        75380      Romance  0.051282\n",
              "14        75380      Western  0.025641\n",
              "15        75380  Documentary  0.025641"
            ]
          },
          "metadata": {
            "tags": []
          },
          "execution_count": 11
        }
      ]
    },
    {
      "cell_type": "markdown",
      "metadata": {
        "heading_collapsed": true,
        "id": "_MDShnOm9tFb",
        "colab_type": "text"
      },
      "source": [
        "## Simple Join Queries"
      ]
    },
    {
      "cell_type": "markdown",
      "metadata": {
        "heading_collapsed": true,
        "hidden": true,
        "id": "Fkk5nVDd9tFc",
        "colab_type": "text"
      },
      "source": [
        "### IMDb"
      ]
    },
    {
      "cell_type": "code",
      "metadata": {
        "hidden": true,
        "id": "3yP0H1I99tFc",
        "colab_type": "code",
        "colab": {
          "base_uri": "https://localhost:8080/",
          "height": 34
        },
        "outputId": "ca643466-ceda-4294-aaa1-7a7afb1556b7"
      },
      "source": [
        "%%read_sql\n",
        "USE imdb"
      ],
      "execution_count": 12,
      "outputs": [
        {
          "output_type": "stream",
          "text": [
            "Query started at 08:43:39 PM UTC; Query executed in 0.01 m"
          ],
          "name": "stdout"
        },
        {
          "output_type": "execute_result",
          "data": {
            "text/plain": [
              "<sql_magic.exceptions.EmptyResult at 0x7fe4c134a160>"
            ]
          },
          "metadata": {
            "tags": []
          },
          "execution_count": 12
        }
      ]
    },
    {
      "cell_type": "markdown",
      "metadata": {
        "hidden": true,
        "id": "ttP5_eGW9tFg",
        "colab_type": "text"
      },
      "source": [
        "#### List all the movies and their genres"
      ]
    },
    {
      "cell_type": "code",
      "metadata": {
        "hidden": true,
        "id": "ORns1H4t9tFh",
        "colab_type": "code",
        "colab": {
          "base_uri": "https://localhost:8080/",
          "height": 418
        },
        "outputId": "0ff47d18-d82c-4d39-b9fb-cbecfe602466"
      },
      "source": [
        "%%read_sql\n",
        "SELECT *\n",
        "FROM movies M \n",
        "  INNER JOIN movies_genres G ON M.id = G.movie_id\n"
      ],
      "execution_count": 16,
      "outputs": [
        {
          "output_type": "stream",
          "text": [
            "Query started at 08:45:58 PM UTC; Query executed in 0.05 m"
          ],
          "name": "stdout"
        },
        {
          "output_type": "execute_result",
          "data": {
            "text/html": [
              "<div>\n",
              "<style scoped>\n",
              "    .dataframe tbody tr th:only-of-type {\n",
              "        vertical-align: middle;\n",
              "    }\n",
              "\n",
              "    .dataframe tbody tr th {\n",
              "        vertical-align: top;\n",
              "    }\n",
              "\n",
              "    .dataframe thead th {\n",
              "        text-align: right;\n",
              "    }\n",
              "</style>\n",
              "<table border=\"1\" class=\"dataframe\">\n",
              "  <thead>\n",
              "    <tr style=\"text-align: right;\">\n",
              "      <th></th>\n",
              "      <th>id</th>\n",
              "      <th>name</th>\n",
              "      <th>year</th>\n",
              "      <th>rank</th>\n",
              "      <th>movie_id</th>\n",
              "      <th>genre</th>\n",
              "    </tr>\n",
              "  </thead>\n",
              "  <tbody>\n",
              "    <tr>\n",
              "      <th>0</th>\n",
              "      <td>1</td>\n",
              "      <td>#7 Train: An Immigrant Journey, The</td>\n",
              "      <td>2000</td>\n",
              "      <td>NaN</td>\n",
              "      <td>1</td>\n",
              "      <td>Short</td>\n",
              "    </tr>\n",
              "    <tr>\n",
              "      <th>1</th>\n",
              "      <td>1</td>\n",
              "      <td>#7 Train: An Immigrant Journey, The</td>\n",
              "      <td>2000</td>\n",
              "      <td>NaN</td>\n",
              "      <td>1</td>\n",
              "      <td>Documentary</td>\n",
              "    </tr>\n",
              "    <tr>\n",
              "      <th>2</th>\n",
              "      <td>2</td>\n",
              "      <td>$</td>\n",
              "      <td>1971</td>\n",
              "      <td>6.4</td>\n",
              "      <td>2</td>\n",
              "      <td>Crime</td>\n",
              "    </tr>\n",
              "    <tr>\n",
              "      <th>3</th>\n",
              "      <td>2</td>\n",
              "      <td>$</td>\n",
              "      <td>1971</td>\n",
              "      <td>6.4</td>\n",
              "      <td>2</td>\n",
              "      <td>Comedy</td>\n",
              "    </tr>\n",
              "    <tr>\n",
              "      <th>4</th>\n",
              "      <td>5</td>\n",
              "      <td>$1,000 Reward</td>\n",
              "      <td>1923</td>\n",
              "      <td>NaN</td>\n",
              "      <td>5</td>\n",
              "      <td>Western</td>\n",
              "    </tr>\n",
              "    <tr>\n",
              "      <th>...</th>\n",
              "      <td>...</td>\n",
              "      <td>...</td>\n",
              "      <td>...</td>\n",
              "      <td>...</td>\n",
              "      <td>...</td>\n",
              "      <td>...</td>\n",
              "    </tr>\n",
              "    <tr>\n",
              "      <th>395445</th>\n",
              "      <td>378612</td>\n",
              "      <td>nz de mihlarim</td>\n",
              "      <td>1965</td>\n",
              "      <td>NaN</td>\n",
              "      <td>378612</td>\n",
              "      <td>Adventure</td>\n",
              "    </tr>\n",
              "    <tr>\n",
              "      <th>395446</th>\n",
              "      <td>378612</td>\n",
              "      <td>nz de mihlarim</td>\n",
              "      <td>1965</td>\n",
              "      <td>NaN</td>\n",
              "      <td>378612</td>\n",
              "      <td>Drama</td>\n",
              "    </tr>\n",
              "    <tr>\n",
              "      <th>395447</th>\n",
              "      <td>378613</td>\n",
              "      <td>egar a gerist</td>\n",
              "      <td>1998</td>\n",
              "      <td>NaN</td>\n",
              "      <td>378613</td>\n",
              "      <td>Comedy</td>\n",
              "    </tr>\n",
              "    <tr>\n",
              "      <th>395448</th>\n",
              "      <td>378613</td>\n",
              "      <td>egar a gerist</td>\n",
              "      <td>1998</td>\n",
              "      <td>NaN</td>\n",
              "      <td>378613</td>\n",
              "      <td>Drama</td>\n",
              "    </tr>\n",
              "    <tr>\n",
              "      <th>395449</th>\n",
              "      <td>378614</td>\n",
              "      <td>. 19,99</td>\n",
              "      <td>1998</td>\n",
              "      <td>6.3</td>\n",
              "      <td>378614</td>\n",
              "      <td>Comedy</td>\n",
              "    </tr>\n",
              "  </tbody>\n",
              "</table>\n",
              "<p>395450 rows × 6 columns</p>\n",
              "</div>"
            ],
            "text/plain": [
              "            id                                 name  ...  movie_id        genre\n",
              "0            1  #7 Train: An Immigrant Journey, The  ...         1        Short\n",
              "1            1  #7 Train: An Immigrant Journey, The  ...         1  Documentary\n",
              "2            2                                    $  ...         2        Crime\n",
              "3            2                                    $  ...         2       Comedy\n",
              "4            5                        $1,000 Reward  ...         5      Western\n",
              "...        ...                                  ...  ...       ...          ...\n",
              "395445  378612                       nz de mihlarim  ...    378612    Adventure\n",
              "395446  378612                       nz de mihlarim  ...    378612        Drama\n",
              "395447  378613                        egar a gerist  ...    378613       Comedy\n",
              "395448  378613                        egar a gerist  ...    378613        Drama\n",
              "395449  378614                              . 19,99  ...    378614       Comedy\n",
              "\n",
              "[395450 rows x 6 columns]"
            ]
          },
          "metadata": {
            "tags": []
          },
          "execution_count": 16
        }
      ]
    },
    {
      "cell_type": "markdown",
      "metadata": {
        "hidden": true,
        "id": "Ug9ontFN9tFj",
        "colab_type": "text"
      },
      "source": [
        "#### List the movie genres for the movies directed by Steven Spielberg and sort them in decreasing order of their probability (use the director_genres table)\n",
        "\n"
      ]
    },
    {
      "cell_type": "code",
      "metadata": {
        "hidden": true,
        "id": "h8EYdo-j9tFk",
        "colab_type": "code",
        "colab": {
          "base_uri": "https://localhost:8080/",
          "height": 538
        },
        "outputId": "86fba49c-9746-4781-c564-8db2fb2eb7ce"
      },
      "source": [
        "%%read_sql\n",
        "SELECT *\n",
        "FROM directors D\n",
        "  INNER JOIN directors_genres G ON G.director_id = D.id\n",
        "WHERE D.first_name = 'Steven' AND D.last_name = 'Spielberg'\n",
        "ORDER BY G.prob DESC"
      ],
      "execution_count": 18,
      "outputs": [
        {
          "output_type": "stream",
          "text": [
            "Query started at 08:47:12 PM UTC; Query executed in 0.01 m"
          ],
          "name": "stdout"
        },
        {
          "output_type": "execute_result",
          "data": {
            "text/html": [
              "<div>\n",
              "<style scoped>\n",
              "    .dataframe tbody tr th:only-of-type {\n",
              "        vertical-align: middle;\n",
              "    }\n",
              "\n",
              "    .dataframe tbody tr th {\n",
              "        vertical-align: top;\n",
              "    }\n",
              "\n",
              "    .dataframe thead th {\n",
              "        text-align: right;\n",
              "    }\n",
              "</style>\n",
              "<table border=\"1\" class=\"dataframe\">\n",
              "  <thead>\n",
              "    <tr style=\"text-align: right;\">\n",
              "      <th></th>\n",
              "      <th>id</th>\n",
              "      <th>first_name</th>\n",
              "      <th>last_name</th>\n",
              "      <th>director_id</th>\n",
              "      <th>genre</th>\n",
              "      <th>prob</th>\n",
              "    </tr>\n",
              "  </thead>\n",
              "  <tbody>\n",
              "    <tr>\n",
              "      <th>0</th>\n",
              "      <td>75380</td>\n",
              "      <td>Steven</td>\n",
              "      <td>Spielberg</td>\n",
              "      <td>75380</td>\n",
              "      <td>Drama</td>\n",
              "      <td>0.435897</td>\n",
              "    </tr>\n",
              "    <tr>\n",
              "      <th>1</th>\n",
              "      <td>75380</td>\n",
              "      <td>Steven</td>\n",
              "      <td>Spielberg</td>\n",
              "      <td>75380</td>\n",
              "      <td>Thriller</td>\n",
              "      <td>0.282051</td>\n",
              "    </tr>\n",
              "    <tr>\n",
              "      <th>2</th>\n",
              "      <td>75380</td>\n",
              "      <td>Steven</td>\n",
              "      <td>Spielberg</td>\n",
              "      <td>75380</td>\n",
              "      <td>Adventure</td>\n",
              "      <td>0.282051</td>\n",
              "    </tr>\n",
              "    <tr>\n",
              "      <th>3</th>\n",
              "      <td>75380</td>\n",
              "      <td>Steven</td>\n",
              "      <td>Spielberg</td>\n",
              "      <td>75380</td>\n",
              "      <td>Sci-Fi</td>\n",
              "      <td>0.256410</td>\n",
              "    </tr>\n",
              "    <tr>\n",
              "      <th>4</th>\n",
              "      <td>75380</td>\n",
              "      <td>Steven</td>\n",
              "      <td>Spielberg</td>\n",
              "      <td>75380</td>\n",
              "      <td>Action</td>\n",
              "      <td>0.230769</td>\n",
              "    </tr>\n",
              "    <tr>\n",
              "      <th>5</th>\n",
              "      <td>75380</td>\n",
              "      <td>Steven</td>\n",
              "      <td>Spielberg</td>\n",
              "      <td>75380</td>\n",
              "      <td>Horror</td>\n",
              "      <td>0.179487</td>\n",
              "    </tr>\n",
              "    <tr>\n",
              "      <th>6</th>\n",
              "      <td>75380</td>\n",
              "      <td>Steven</td>\n",
              "      <td>Spielberg</td>\n",
              "      <td>75380</td>\n",
              "      <td>Short</td>\n",
              "      <td>0.128205</td>\n",
              "    </tr>\n",
              "    <tr>\n",
              "      <th>7</th>\n",
              "      <td>75380</td>\n",
              "      <td>Steven</td>\n",
              "      <td>Spielberg</td>\n",
              "      <td>75380</td>\n",
              "      <td>War</td>\n",
              "      <td>0.102564</td>\n",
              "    </tr>\n",
              "    <tr>\n",
              "      <th>8</th>\n",
              "      <td>75380</td>\n",
              "      <td>Steven</td>\n",
              "      <td>Spielberg</td>\n",
              "      <td>75380</td>\n",
              "      <td>Fantasy</td>\n",
              "      <td>0.102564</td>\n",
              "    </tr>\n",
              "    <tr>\n",
              "      <th>9</th>\n",
              "      <td>75380</td>\n",
              "      <td>Steven</td>\n",
              "      <td>Spielberg</td>\n",
              "      <td>75380</td>\n",
              "      <td>Crime</td>\n",
              "      <td>0.102564</td>\n",
              "    </tr>\n",
              "    <tr>\n",
              "      <th>10</th>\n",
              "      <td>75380</td>\n",
              "      <td>Steven</td>\n",
              "      <td>Spielberg</td>\n",
              "      <td>75380</td>\n",
              "      <td>Family</td>\n",
              "      <td>0.076923</td>\n",
              "    </tr>\n",
              "    <tr>\n",
              "      <th>11</th>\n",
              "      <td>75380</td>\n",
              "      <td>Steven</td>\n",
              "      <td>Spielberg</td>\n",
              "      <td>75380</td>\n",
              "      <td>Comedy</td>\n",
              "      <td>0.076923</td>\n",
              "    </tr>\n",
              "    <tr>\n",
              "      <th>12</th>\n",
              "      <td>75380</td>\n",
              "      <td>Steven</td>\n",
              "      <td>Spielberg</td>\n",
              "      <td>75380</td>\n",
              "      <td>Romance</td>\n",
              "      <td>0.051282</td>\n",
              "    </tr>\n",
              "    <tr>\n",
              "      <th>13</th>\n",
              "      <td>75380</td>\n",
              "      <td>Steven</td>\n",
              "      <td>Spielberg</td>\n",
              "      <td>75380</td>\n",
              "      <td>Mystery</td>\n",
              "      <td>0.051282</td>\n",
              "    </tr>\n",
              "    <tr>\n",
              "      <th>14</th>\n",
              "      <td>75380</td>\n",
              "      <td>Steven</td>\n",
              "      <td>Spielberg</td>\n",
              "      <td>75380</td>\n",
              "      <td>Western</td>\n",
              "      <td>0.025641</td>\n",
              "    </tr>\n",
              "    <tr>\n",
              "      <th>15</th>\n",
              "      <td>75380</td>\n",
              "      <td>Steven</td>\n",
              "      <td>Spielberg</td>\n",
              "      <td>75380</td>\n",
              "      <td>Documentary</td>\n",
              "      <td>0.025641</td>\n",
              "    </tr>\n",
              "  </tbody>\n",
              "</table>\n",
              "</div>"
            ],
            "text/plain": [
              "       id first_name  last_name  director_id        genre      prob\n",
              "0   75380     Steven  Spielberg        75380        Drama  0.435897\n",
              "1   75380     Steven  Spielberg        75380     Thriller  0.282051\n",
              "2   75380     Steven  Spielberg        75380    Adventure  0.282051\n",
              "3   75380     Steven  Spielberg        75380       Sci-Fi  0.256410\n",
              "4   75380     Steven  Spielberg        75380       Action  0.230769\n",
              "5   75380     Steven  Spielberg        75380       Horror  0.179487\n",
              "6   75380     Steven  Spielberg        75380        Short  0.128205\n",
              "7   75380     Steven  Spielberg        75380          War  0.102564\n",
              "8   75380     Steven  Spielberg        75380      Fantasy  0.102564\n",
              "9   75380     Steven  Spielberg        75380        Crime  0.102564\n",
              "10  75380     Steven  Spielberg        75380       Family  0.076923\n",
              "11  75380     Steven  Spielberg        75380       Comedy  0.076923\n",
              "12  75380     Steven  Spielberg        75380      Romance  0.051282\n",
              "13  75380     Steven  Spielberg        75380      Mystery  0.051282\n",
              "14  75380     Steven  Spielberg        75380      Western  0.025641\n",
              "15  75380     Steven  Spielberg        75380  Documentary  0.025641"
            ]
          },
          "metadata": {
            "tags": []
          },
          "execution_count": 18
        }
      ]
    },
    {
      "cell_type": "code",
      "metadata": {
        "id": "mqHKr_2A_zpW",
        "colab_type": "code",
        "colab": {
          "base_uri": "https://localhost:8080/",
          "height": 538
        },
        "outputId": "efcb8677-3daf-40f1-d3af-adffcbae052d"
      },
      "source": [
        "%%read_sql\n",
        "SELECT G.genre, G.prob\n",
        "FROM directors D\n",
        "  INNER JOIN directors_genres G ON G.director_id = D.id\n",
        "WHERE D.first_name = 'Steven' AND D.last_name = 'Spielberg'\n",
        "ORDER BY G.prob DESC"
      ],
      "execution_count": 19,
      "outputs": [
        {
          "output_type": "stream",
          "text": [
            "Query started at 08:47:44 PM UTC; Query executed in 0.01 m"
          ],
          "name": "stdout"
        },
        {
          "output_type": "execute_result",
          "data": {
            "text/html": [
              "<div>\n",
              "<style scoped>\n",
              "    .dataframe tbody tr th:only-of-type {\n",
              "        vertical-align: middle;\n",
              "    }\n",
              "\n",
              "    .dataframe tbody tr th {\n",
              "        vertical-align: top;\n",
              "    }\n",
              "\n",
              "    .dataframe thead th {\n",
              "        text-align: right;\n",
              "    }\n",
              "</style>\n",
              "<table border=\"1\" class=\"dataframe\">\n",
              "  <thead>\n",
              "    <tr style=\"text-align: right;\">\n",
              "      <th></th>\n",
              "      <th>genre</th>\n",
              "      <th>prob</th>\n",
              "    </tr>\n",
              "  </thead>\n",
              "  <tbody>\n",
              "    <tr>\n",
              "      <th>0</th>\n",
              "      <td>Drama</td>\n",
              "      <td>0.435897</td>\n",
              "    </tr>\n",
              "    <tr>\n",
              "      <th>1</th>\n",
              "      <td>Thriller</td>\n",
              "      <td>0.282051</td>\n",
              "    </tr>\n",
              "    <tr>\n",
              "      <th>2</th>\n",
              "      <td>Adventure</td>\n",
              "      <td>0.282051</td>\n",
              "    </tr>\n",
              "    <tr>\n",
              "      <th>3</th>\n",
              "      <td>Sci-Fi</td>\n",
              "      <td>0.256410</td>\n",
              "    </tr>\n",
              "    <tr>\n",
              "      <th>4</th>\n",
              "      <td>Action</td>\n",
              "      <td>0.230769</td>\n",
              "    </tr>\n",
              "    <tr>\n",
              "      <th>5</th>\n",
              "      <td>Horror</td>\n",
              "      <td>0.179487</td>\n",
              "    </tr>\n",
              "    <tr>\n",
              "      <th>6</th>\n",
              "      <td>Short</td>\n",
              "      <td>0.128205</td>\n",
              "    </tr>\n",
              "    <tr>\n",
              "      <th>7</th>\n",
              "      <td>Fantasy</td>\n",
              "      <td>0.102564</td>\n",
              "    </tr>\n",
              "    <tr>\n",
              "      <th>8</th>\n",
              "      <td>War</td>\n",
              "      <td>0.102564</td>\n",
              "    </tr>\n",
              "    <tr>\n",
              "      <th>9</th>\n",
              "      <td>Crime</td>\n",
              "      <td>0.102564</td>\n",
              "    </tr>\n",
              "    <tr>\n",
              "      <th>10</th>\n",
              "      <td>Comedy</td>\n",
              "      <td>0.076923</td>\n",
              "    </tr>\n",
              "    <tr>\n",
              "      <th>11</th>\n",
              "      <td>Family</td>\n",
              "      <td>0.076923</td>\n",
              "    </tr>\n",
              "    <tr>\n",
              "      <th>12</th>\n",
              "      <td>Romance</td>\n",
              "      <td>0.051282</td>\n",
              "    </tr>\n",
              "    <tr>\n",
              "      <th>13</th>\n",
              "      <td>Mystery</td>\n",
              "      <td>0.051282</td>\n",
              "    </tr>\n",
              "    <tr>\n",
              "      <th>14</th>\n",
              "      <td>Western</td>\n",
              "      <td>0.025641</td>\n",
              "    </tr>\n",
              "    <tr>\n",
              "      <th>15</th>\n",
              "      <td>Documentary</td>\n",
              "      <td>0.025641</td>\n",
              "    </tr>\n",
              "  </tbody>\n",
              "</table>\n",
              "</div>"
            ],
            "text/plain": [
              "          genre      prob\n",
              "0         Drama  0.435897\n",
              "1      Thriller  0.282051\n",
              "2     Adventure  0.282051\n",
              "3        Sci-Fi  0.256410\n",
              "4        Action  0.230769\n",
              "5        Horror  0.179487\n",
              "6         Short  0.128205\n",
              "7       Fantasy  0.102564\n",
              "8           War  0.102564\n",
              "9         Crime  0.102564\n",
              "10       Comedy  0.076923\n",
              "11       Family  0.076923\n",
              "12      Romance  0.051282\n",
              "13      Mystery  0.051282\n",
              "14      Western  0.025641\n",
              "15  Documentary  0.025641"
            ]
          },
          "metadata": {
            "tags": []
          },
          "execution_count": 19
        }
      ]
    },
    {
      "cell_type": "markdown",
      "metadata": {
        "hidden": true,
        "id": "JWe0N-_j9tFm",
        "colab_type": "text"
      },
      "source": [
        "#### Fetch all info for the directors with last names Scorsese, Polanski, and Spielberg. Use the OR for your Boolean query.\n"
      ]
    },
    {
      "cell_type": "code",
      "metadata": {
        "hidden": true,
        "id": "eInzdfdQ9tFn",
        "colab_type": "code",
        "colab": {},
        "outputId": "806068e5-9609-413f-addf-cadad5601ef7"
      },
      "source": [
        "%%read_sql\n",
        "SELECT *\n",
        "FROM directors\n",
        "WHERE last_name = 'Scorsese' OR last_name = 'Polanski' Or last_name = 'Spielberg'"
      ],
      "execution_count": 0,
      "outputs": [
        {
          "output_type": "stream",
          "text": [
            "Query started at 07:30:19 PM UTC; Query executed in 0.00 m"
          ],
          "name": "stdout"
        },
        {
          "output_type": "execute_result",
          "data": {
            "text/html": [
              "<div>\n",
              "<style scoped>\n",
              "    .dataframe tbody tr th:only-of-type {\n",
              "        vertical-align: middle;\n",
              "    }\n",
              "\n",
              "    .dataframe tbody tr th {\n",
              "        vertical-align: top;\n",
              "    }\n",
              "\n",
              "    .dataframe thead th {\n",
              "        text-align: right;\n",
              "    }\n",
              "</style>\n",
              "<table border=\"1\" class=\"dataframe\">\n",
              "  <thead>\n",
              "    <tr style=\"text-align: right;\">\n",
              "      <th></th>\n",
              "      <th>id</th>\n",
              "      <th>first_name</th>\n",
              "      <th>last_name</th>\n",
              "    </tr>\n",
              "  </thead>\n",
              "  <tbody>\n",
              "    <tr>\n",
              "      <th>0</th>\n",
              "      <td>63095</td>\n",
              "      <td>Roman</td>\n",
              "      <td>Polanski</td>\n",
              "    </tr>\n",
              "    <tr>\n",
              "      <th>1</th>\n",
              "      <td>71645</td>\n",
              "      <td>Martin</td>\n",
              "      <td>Scorsese</td>\n",
              "    </tr>\n",
              "    <tr>\n",
              "      <th>2</th>\n",
              "      <td>75380</td>\n",
              "      <td>Steven</td>\n",
              "      <td>Spielberg</td>\n",
              "    </tr>\n",
              "  </tbody>\n",
              "</table>\n",
              "</div>"
            ],
            "text/plain": [
              "      id first_name  last_name\n",
              "0  63095      Roman   Polanski\n",
              "1  71645     Martin   Scorsese\n",
              "2  75380     Steven  Spielberg"
            ]
          },
          "metadata": {
            "tags": []
          },
          "execution_count": 14
        }
      ]
    },
    {
      "cell_type": "markdown",
      "metadata": {
        "hidden": true,
        "id": "Z6wnAoJi9tFq",
        "colab_type": "text"
      },
      "source": [
        "#### Fetch all info for the directors Quentin Tarantino, Stanley Kubrick, and Orson Welles."
      ]
    },
    {
      "cell_type": "code",
      "metadata": {
        "hidden": true,
        "id": "YlXHj1J59tFr",
        "colab_type": "code",
        "colab": {},
        "outputId": "04ab31e3-6cb2-4af7-bc15-02b44d857fab"
      },
      "source": [
        "%%read_sql\n",
        "SELECT *\n",
        "FROM directors\n",
        "WHERE (first_name = 'Quentin' AND last_name = 'Tarantino') OR \n",
        "      (first_name = 'Stanley' AND last_name = 'Kubrick') OR \n",
        "      (first_name = 'Orson' AND last_name = 'Welles')"
      ],
      "execution_count": 0,
      "outputs": [
        {
          "output_type": "stream",
          "text": [
            "Query started at 07:30:19 PM UTC; Query executed in 0.00 m"
          ],
          "name": "stdout"
        },
        {
          "output_type": "execute_result",
          "data": {
            "text/html": [
              "<div>\n",
              "<style scoped>\n",
              "    .dataframe tbody tr th:only-of-type {\n",
              "        vertical-align: middle;\n",
              "    }\n",
              "\n",
              "    .dataframe tbody tr th {\n",
              "        vertical-align: top;\n",
              "    }\n",
              "\n",
              "    .dataframe thead th {\n",
              "        text-align: right;\n",
              "    }\n",
              "</style>\n",
              "<table border=\"1\" class=\"dataframe\">\n",
              "  <thead>\n",
              "    <tr style=\"text-align: right;\">\n",
              "      <th></th>\n",
              "      <th>id</th>\n",
              "      <th>first_name</th>\n",
              "      <th>last_name</th>\n",
              "    </tr>\n",
              "  </thead>\n",
              "  <tbody>\n",
              "    <tr>\n",
              "      <th>0</th>\n",
              "      <td>43095</td>\n",
              "      <td>Stanley</td>\n",
              "      <td>Kubrick</td>\n",
              "    </tr>\n",
              "    <tr>\n",
              "      <th>1</th>\n",
              "      <td>78273</td>\n",
              "      <td>Quentin</td>\n",
              "      <td>Tarantino</td>\n",
              "    </tr>\n",
              "    <tr>\n",
              "      <th>2</th>\n",
              "      <td>84880</td>\n",
              "      <td>Orson</td>\n",
              "      <td>Welles</td>\n",
              "    </tr>\n",
              "  </tbody>\n",
              "</table>\n",
              "</div>"
            ],
            "text/plain": [
              "      id first_name  last_name\n",
              "0  43095    Stanley    Kubrick\n",
              "1  78273    Quentin  Tarantino\n",
              "2  84880      Orson     Welles"
            ]
          },
          "metadata": {
            "tags": []
          },
          "execution_count": 15
        }
      ]
    },
    {
      "cell_type": "markdown",
      "metadata": {
        "heading_collapsed": true,
        "id": "xSkwslad9tFu",
        "colab_type": "text"
      },
      "source": [
        "## `WHERE`: Inequality Queries"
      ]
    },
    {
      "cell_type": "markdown",
      "metadata": {
        "hidden": true,
        "id": "kQ5zyueL9tFv",
        "colab_type": "text"
      },
      "source": [
        "### IMDb"
      ]
    },
    {
      "cell_type": "code",
      "metadata": {
        "hidden": true,
        "id": "H-szzUyJ9tFv",
        "colab_type": "code",
        "colab": {},
        "outputId": "e0974be8-94b7-4de6-c2a6-53c4d4022d7b"
      },
      "source": [
        "%%read_sql\n",
        "USE imdb"
      ],
      "execution_count": 0,
      "outputs": [
        {
          "output_type": "stream",
          "text": [
            "Query started at 07:30:19 PM UTC; Query executed in 0.00 m"
          ],
          "name": "stdout"
        },
        {
          "output_type": "execute_result",
          "data": {
            "text/plain": [
              "<sql_magic.exceptions.EmptyResult at 0x7fd80f9205c0>"
            ]
          },
          "metadata": {
            "tags": []
          },
          "execution_count": 16
        }
      ]
    },
    {
      "cell_type": "markdown",
      "metadata": {
        "hidden": true,
        "id": "K_rzfAN19tFy",
        "colab_type": "text"
      },
      "source": [
        "#### Find all information about movies that were released before 1895 (excl)"
      ]
    },
    {
      "cell_type": "code",
      "metadata": {
        "hidden": true,
        "id": "p5qm1Syo9tFz",
        "colab_type": "code",
        "colab": {},
        "outputId": "5b278eca-d0b4-4c71-ce2f-883f25ed4f8f"
      },
      "source": [
        "%%read_sql\n",
        "SELECT *\n",
        "FROM movies\n",
        "WHERE year<1895"
      ],
      "execution_count": 0,
      "outputs": [
        {
          "output_type": "stream",
          "text": [
            "Query started at 07:30:19 PM UTC; Query executed in 0.00 m"
          ],
          "name": "stdout"
        },
        {
          "output_type": "execute_result",
          "data": {
            "text/html": [
              "<div>\n",
              "<style scoped>\n",
              "    .dataframe tbody tr th:only-of-type {\n",
              "        vertical-align: middle;\n",
              "    }\n",
              "\n",
              "    .dataframe tbody tr th {\n",
              "        vertical-align: top;\n",
              "    }\n",
              "\n",
              "    .dataframe thead th {\n",
              "        text-align: right;\n",
              "    }\n",
              "</style>\n",
              "<table border=\"1\" class=\"dataframe\">\n",
              "  <thead>\n",
              "    <tr style=\"text-align: right;\">\n",
              "      <th></th>\n",
              "      <th>id</th>\n",
              "      <th>name</th>\n",
              "      <th>year</th>\n",
              "      <th>rank</th>\n",
              "    </tr>\n",
              "  </thead>\n",
              "  <tbody>\n",
              "    <tr>\n",
              "      <th>0</th>\n",
              "      <td>13261</td>\n",
              "      <td>Amateur Gymnast, No. 2</td>\n",
              "      <td>1894</td>\n",
              "      <td>NaN</td>\n",
              "    </tr>\n",
              "    <tr>\n",
              "      <th>1</th>\n",
              "      <td>17623</td>\n",
              "      <td>Annabelle Butterfly Dance</td>\n",
              "      <td>1894</td>\n",
              "      <td>5.3</td>\n",
              "    </tr>\n",
              "    <tr>\n",
              "      <th>2</th>\n",
              "      <td>17627</td>\n",
              "      <td>Annabelle Serpentine Dance</td>\n",
              "      <td>1894</td>\n",
              "      <td>6.1</td>\n",
              "    </tr>\n",
              "    <tr>\n",
              "      <th>3</th>\n",
              "      <td>17628</td>\n",
              "      <td>Annabelle Sun Dance</td>\n",
              "      <td>1894</td>\n",
              "      <td>NaN</td>\n",
              "    </tr>\n",
              "    <tr>\n",
              "      <th>4</th>\n",
              "      <td>17770</td>\n",
              "      <td>Annie Oakley</td>\n",
              "      <td>1894</td>\n",
              "      <td>4.9</td>\n",
              "    </tr>\n",
              "    <tr>\n",
              "      <th>...</th>\n",
              "      <td>...</td>\n",
              "      <td>...</td>\n",
              "      <td>...</td>\n",
              "      <td>...</td>\n",
              "    </tr>\n",
              "    <tr>\n",
              "      <th>76</th>\n",
              "      <td>363640</td>\n",
              "      <td>Whirlwind Gun Spinning</td>\n",
              "      <td>1894</td>\n",
              "      <td>NaN</td>\n",
              "    </tr>\n",
              "    <tr>\n",
              "      <th>77</th>\n",
              "      <td>364791</td>\n",
              "      <td>Widder, The</td>\n",
              "      <td>1894</td>\n",
              "      <td>NaN</td>\n",
              "    </tr>\n",
              "    <tr>\n",
              "      <th>78</th>\n",
              "      <td>368839</td>\n",
              "      <td>Wrestling</td>\n",
              "      <td>1892</td>\n",
              "      <td>2.0</td>\n",
              "    </tr>\n",
              "    <tr>\n",
              "      <th>79</th>\n",
              "      <td>368852</td>\n",
              "      <td>Wrestling Dog, The</td>\n",
              "      <td>1894</td>\n",
              "      <td>NaN</td>\n",
              "    </tr>\n",
              "    <tr>\n",
              "      <th>80</th>\n",
              "      <td>368854</td>\n",
              "      <td>Wrestling Match</td>\n",
              "      <td>1894</td>\n",
              "      <td>NaN</td>\n",
              "    </tr>\n",
              "  </tbody>\n",
              "</table>\n",
              "<p>81 rows × 4 columns</p>\n",
              "</div>"
            ],
            "text/plain": [
              "        id                        name  year  rank\n",
              "0    13261      Amateur Gymnast, No. 2  1894   NaN\n",
              "1    17623   Annabelle Butterfly Dance  1894   5.3\n",
              "2    17627  Annabelle Serpentine Dance  1894   6.1\n",
              "3    17628         Annabelle Sun Dance  1894   NaN\n",
              "4    17770                Annie Oakley  1894   4.9\n",
              "..     ...                         ...   ...   ...\n",
              "76  363640      Whirlwind Gun Spinning  1894   NaN\n",
              "77  364791                 Widder, The  1894   NaN\n",
              "78  368839                   Wrestling  1892   2.0\n",
              "79  368852          Wrestling Dog, The  1894   NaN\n",
              "80  368854             Wrestling Match  1894   NaN\n",
              "\n",
              "[81 rows x 4 columns]"
            ]
          },
          "metadata": {
            "tags": []
          },
          "execution_count": 17
        }
      ]
    },
    {
      "cell_type": "markdown",
      "metadata": {
        "hidden": true,
        "id": "a96C8aXc9tF1",
        "colab_type": "text"
      },
      "source": [
        "#### Find all information about movies released between 1895 and 1898 (excl) \n",
        "\n",
        "Try both using Boolean operators and using the BETWEEN operator"
      ]
    },
    {
      "cell_type": "code",
      "metadata": {
        "hidden": true,
        "id": "aU3JExMU9tF1",
        "colab_type": "code",
        "colab": {},
        "outputId": "21519c35-67b0-4b3c-c50d-4e76b7c59642"
      },
      "source": [
        "%%read_sql\n",
        "SELECT *\n",
        "FROM movies\n",
        "WHERE year>1895 AND year<1898"
      ],
      "execution_count": 0,
      "outputs": [
        {
          "output_type": "stream",
          "text": [
            "Query started at 07:30:20 PM UTC; Query executed in 0.00 m"
          ],
          "name": "stdout"
        },
        {
          "output_type": "execute_result",
          "data": {
            "text/html": [
              "<div>\n",
              "<style scoped>\n",
              "    .dataframe tbody tr th:only-of-type {\n",
              "        vertical-align: middle;\n",
              "    }\n",
              "\n",
              "    .dataframe tbody tr th {\n",
              "        vertical-align: top;\n",
              "    }\n",
              "\n",
              "    .dataframe thead th {\n",
              "        text-align: right;\n",
              "    }\n",
              "</style>\n",
              "<table border=\"1\" class=\"dataframe\">\n",
              "  <thead>\n",
              "    <tr style=\"text-align: right;\">\n",
              "      <th></th>\n",
              "      <th>id</th>\n",
              "      <th>name</th>\n",
              "      <th>year</th>\n",
              "      <th>rank</th>\n",
              "    </tr>\n",
              "  </thead>\n",
              "  <tbody>\n",
              "    <tr>\n",
              "      <th>0</th>\n",
              "      <td>56</td>\n",
              "      <td>'Amphitrite', The</td>\n",
              "      <td>1897</td>\n",
              "      <td>NaN</td>\n",
              "    </tr>\n",
              "    <tr>\n",
              "      <th>1</th>\n",
              "      <td>70</td>\n",
              "      <td>'Brennus', Le</td>\n",
              "      <td>1897</td>\n",
              "      <td>NaN</td>\n",
              "    </tr>\n",
              "    <tr>\n",
              "      <th>2</th>\n",
              "      <td>247</td>\n",
              "      <td>'Standard' Picture Animated, A</td>\n",
              "      <td>1897</td>\n",
              "      <td>NaN</td>\n",
              "    </tr>\n",
              "    <tr>\n",
              "      <th>3</th>\n",
              "      <td>1076</td>\n",
              "      <td>13th Infantry, U.S. Army Marching Through Sall...</td>\n",
              "      <td>1897</td>\n",
              "      <td>NaN</td>\n",
              "    </tr>\n",
              "    <tr>\n",
              "      <th>4</th>\n",
              "      <td>1077</td>\n",
              "      <td>13th Infantry, U.S. Army, in Heavy Marching Or...</td>\n",
              "      <td>1897</td>\n",
              "      <td>NaN</td>\n",
              "    </tr>\n",
              "    <tr>\n",
              "      <th>...</th>\n",
              "      <td>...</td>\n",
              "      <td>...</td>\n",
              "      <td>...</td>\n",
              "      <td>...</td>\n",
              "    </tr>\n",
              "    <tr>\n",
              "      <th>1093</th>\n",
              "      <td>372727</td>\n",
              "      <td>Young Rivals, The</td>\n",
              "      <td>1897</td>\n",
              "      <td>NaN</td>\n",
              "    </tr>\n",
              "    <tr>\n",
              "      <th>1094</th>\n",
              "      <td>375815</td>\n",
              "      <td>Zoo van Antwerpen, De</td>\n",
              "      <td>1897</td>\n",
              "      <td>NaN</td>\n",
              "    </tr>\n",
              "    <tr>\n",
              "      <th>1095</th>\n",
              "      <td>376589</td>\n",
              "      <td>Z Pereira na Romaria de Santo Tirso, O</td>\n",
              "      <td>1896</td>\n",
              "      <td>NaN</td>\n",
              "    </tr>\n",
              "    <tr>\n",
              "      <th>1096</th>\n",
              "      <td>377666</td>\n",
              "      <td>cole des gendres, L'</td>\n",
              "      <td>1897</td>\n",
              "      <td>NaN</td>\n",
              "    </tr>\n",
              "    <tr>\n",
              "      <th>1097</th>\n",
              "      <td>377845</td>\n",
              "      <td>pisodes de guerre</td>\n",
              "      <td>1897</td>\n",
              "      <td>NaN</td>\n",
              "    </tr>\n",
              "  </tbody>\n",
              "</table>\n",
              "<p>1098 rows × 4 columns</p>\n",
              "</div>"
            ],
            "text/plain": [
              "          id                                               name  year  rank\n",
              "0         56                                  'Amphitrite', The  1897   NaN\n",
              "1         70                                      'Brennus', Le  1897   NaN\n",
              "2        247                     'Standard' Picture Animated, A  1897   NaN\n",
              "3       1076  13th Infantry, U.S. Army Marching Through Sall...  1897   NaN\n",
              "4       1077  13th Infantry, U.S. Army, in Heavy Marching Or...  1897   NaN\n",
              "...      ...                                                ...   ...   ...\n",
              "1093  372727                                  Young Rivals, The  1897   NaN\n",
              "1094  375815                              Zoo van Antwerpen, De  1897   NaN\n",
              "1095  376589             Z Pereira na Romaria de Santo Tirso, O  1896   NaN\n",
              "1096  377666                               cole des gendres, L'  1897   NaN\n",
              "1097  377845                                  pisodes de guerre  1897   NaN\n",
              "\n",
              "[1098 rows x 4 columns]"
            ]
          },
          "metadata": {
            "tags": []
          },
          "execution_count": 18
        }
      ]
    },
    {
      "cell_type": "code",
      "metadata": {
        "hidden": true,
        "id": "sQ6DISgY9tF4",
        "colab_type": "code",
        "colab": {},
        "outputId": "3235acce-ab55-486e-9d22-b7d369121257"
      },
      "source": [
        "%%read_sql\n",
        "SELECT *\n",
        "FROM movies\n",
        "WHERE year BETWEEN 1896 AND 1897 -- notice that BETWEEN is inclusive on both sides"
      ],
      "execution_count": 0,
      "outputs": [
        {
          "output_type": "stream",
          "text": [
            "Query started at 07:30:20 PM UTC; Query executed in 0.00 m"
          ],
          "name": "stdout"
        },
        {
          "output_type": "execute_result",
          "data": {
            "text/html": [
              "<div>\n",
              "<style scoped>\n",
              "    .dataframe tbody tr th:only-of-type {\n",
              "        vertical-align: middle;\n",
              "    }\n",
              "\n",
              "    .dataframe tbody tr th {\n",
              "        vertical-align: top;\n",
              "    }\n",
              "\n",
              "    .dataframe thead th {\n",
              "        text-align: right;\n",
              "    }\n",
              "</style>\n",
              "<table border=\"1\" class=\"dataframe\">\n",
              "  <thead>\n",
              "    <tr style=\"text-align: right;\">\n",
              "      <th></th>\n",
              "      <th>id</th>\n",
              "      <th>name</th>\n",
              "      <th>year</th>\n",
              "      <th>rank</th>\n",
              "    </tr>\n",
              "  </thead>\n",
              "  <tbody>\n",
              "    <tr>\n",
              "      <th>0</th>\n",
              "      <td>56</td>\n",
              "      <td>'Amphitrite', The</td>\n",
              "      <td>1897</td>\n",
              "      <td>NaN</td>\n",
              "    </tr>\n",
              "    <tr>\n",
              "      <th>1</th>\n",
              "      <td>70</td>\n",
              "      <td>'Brennus', Le</td>\n",
              "      <td>1897</td>\n",
              "      <td>NaN</td>\n",
              "    </tr>\n",
              "    <tr>\n",
              "      <th>2</th>\n",
              "      <td>247</td>\n",
              "      <td>'Standard' Picture Animated, A</td>\n",
              "      <td>1897</td>\n",
              "      <td>NaN</td>\n",
              "    </tr>\n",
              "    <tr>\n",
              "      <th>3</th>\n",
              "      <td>1076</td>\n",
              "      <td>13th Infantry, U.S. Army Marching Through Sall...</td>\n",
              "      <td>1897</td>\n",
              "      <td>NaN</td>\n",
              "    </tr>\n",
              "    <tr>\n",
              "      <th>4</th>\n",
              "      <td>1077</td>\n",
              "      <td>13th Infantry, U.S. Army, in Heavy Marching Or...</td>\n",
              "      <td>1897</td>\n",
              "      <td>NaN</td>\n",
              "    </tr>\n",
              "    <tr>\n",
              "      <th>...</th>\n",
              "      <td>...</td>\n",
              "      <td>...</td>\n",
              "      <td>...</td>\n",
              "      <td>...</td>\n",
              "    </tr>\n",
              "    <tr>\n",
              "      <th>1093</th>\n",
              "      <td>372727</td>\n",
              "      <td>Young Rivals, The</td>\n",
              "      <td>1897</td>\n",
              "      <td>NaN</td>\n",
              "    </tr>\n",
              "    <tr>\n",
              "      <th>1094</th>\n",
              "      <td>375815</td>\n",
              "      <td>Zoo van Antwerpen, De</td>\n",
              "      <td>1897</td>\n",
              "      <td>NaN</td>\n",
              "    </tr>\n",
              "    <tr>\n",
              "      <th>1095</th>\n",
              "      <td>376589</td>\n",
              "      <td>Z Pereira na Romaria de Santo Tirso, O</td>\n",
              "      <td>1896</td>\n",
              "      <td>NaN</td>\n",
              "    </tr>\n",
              "    <tr>\n",
              "      <th>1096</th>\n",
              "      <td>377666</td>\n",
              "      <td>cole des gendres, L'</td>\n",
              "      <td>1897</td>\n",
              "      <td>NaN</td>\n",
              "    </tr>\n",
              "    <tr>\n",
              "      <th>1097</th>\n",
              "      <td>377845</td>\n",
              "      <td>pisodes de guerre</td>\n",
              "      <td>1897</td>\n",
              "      <td>NaN</td>\n",
              "    </tr>\n",
              "  </tbody>\n",
              "</table>\n",
              "<p>1098 rows × 4 columns</p>\n",
              "</div>"
            ],
            "text/plain": [
              "          id                                               name  year  rank\n",
              "0         56                                  'Amphitrite', The  1897   NaN\n",
              "1         70                                      'Brennus', Le  1897   NaN\n",
              "2        247                     'Standard' Picture Animated, A  1897   NaN\n",
              "3       1076  13th Infantry, U.S. Army Marching Through Sall...  1897   NaN\n",
              "4       1077  13th Infantry, U.S. Army, in Heavy Marching Or...  1897   NaN\n",
              "...      ...                                                ...   ...   ...\n",
              "1093  372727                                  Young Rivals, The  1897   NaN\n",
              "1094  375815                              Zoo van Antwerpen, De  1897   NaN\n",
              "1095  376589             Z Pereira na Romaria de Santo Tirso, O  1896   NaN\n",
              "1096  377666                               cole des gendres, L'  1897   NaN\n",
              "1097  377845                                  pisodes de guerre  1897   NaN\n",
              "\n",
              "[1098 rows x 4 columns]"
            ]
          },
          "metadata": {
            "tags": []
          },
          "execution_count": 19
        }
      ]
    },
    {
      "cell_type": "markdown",
      "metadata": {
        "hidden": true,
        "id": "Sc4jhJoz9tF7",
        "colab_type": "text"
      },
      "source": [
        "#### Find all information about movies that were released before 1895 and after 2006 (inclusive)"
      ]
    },
    {
      "cell_type": "code",
      "metadata": {
        "hidden": true,
        "id": "iEU27_bs9tF8",
        "colab_type": "code",
        "colab": {},
        "outputId": "8edc6e65-3381-43d1-a056-5cc52303809f"
      },
      "source": [
        "%%read_sql\n",
        "SELECT *\n",
        "FROM movies\n",
        "WHERE year<=1895 OR year>=2006"
      ],
      "execution_count": 0,
      "outputs": [
        {
          "output_type": "stream",
          "text": [
            "Query started at 07:30:20 PM UTC; Query executed in 0.00 m"
          ],
          "name": "stdout"
        },
        {
          "output_type": "execute_result",
          "data": {
            "text/html": [
              "<div>\n",
              "<style scoped>\n",
              "    .dataframe tbody tr th:only-of-type {\n",
              "        vertical-align: middle;\n",
              "    }\n",
              "\n",
              "    .dataframe tbody tr th {\n",
              "        vertical-align: top;\n",
              "    }\n",
              "\n",
              "    .dataframe thead th {\n",
              "        text-align: right;\n",
              "    }\n",
              "</style>\n",
              "<table border=\"1\" class=\"dataframe\">\n",
              "  <thead>\n",
              "    <tr style=\"text-align: right;\">\n",
              "      <th></th>\n",
              "      <th>id</th>\n",
              "      <th>name</th>\n",
              "      <th>year</th>\n",
              "      <th>rank</th>\n",
              "    </tr>\n",
              "  </thead>\n",
              "  <tbody>\n",
              "    <tr>\n",
              "      <th>0</th>\n",
              "      <td>899</td>\n",
              "      <td>10th &amp; Wolf</td>\n",
              "      <td>2006</td>\n",
              "      <td>NaN</td>\n",
              "    </tr>\n",
              "    <tr>\n",
              "      <th>1</th>\n",
              "      <td>1799</td>\n",
              "      <td>2176</td>\n",
              "      <td>2006</td>\n",
              "      <td>NaN</td>\n",
              "    </tr>\n",
              "    <tr>\n",
              "      <th>2</th>\n",
              "      <td>2238</td>\n",
              "      <td>300</td>\n",
              "      <td>2006</td>\n",
              "      <td>NaN</td>\n",
              "    </tr>\n",
              "    <tr>\n",
              "      <th>3</th>\n",
              "      <td>9086</td>\n",
              "      <td>Airborn</td>\n",
              "      <td>2006</td>\n",
              "      <td>NaN</td>\n",
              "    </tr>\n",
              "    <tr>\n",
              "      <th>4</th>\n",
              "      <td>9495</td>\n",
              "      <td>Akrobatisches Potpourri</td>\n",
              "      <td>1895</td>\n",
              "      <td>5.2</td>\n",
              "    </tr>\n",
              "    <tr>\n",
              "      <th>...</th>\n",
              "      <td>...</td>\n",
              "      <td>...</td>\n",
              "      <td>...</td>\n",
              "      <td>...</td>\n",
              "    </tr>\n",
              "    <tr>\n",
              "      <th>351</th>\n",
              "      <td>369459</td>\n",
              "      <td>X-Men 3</td>\n",
              "      <td>2006</td>\n",
              "      <td>NaN</td>\n",
              "    </tr>\n",
              "    <tr>\n",
              "      <th>352</th>\n",
              "      <td>372568</td>\n",
              "      <td>Young Griffo v. Battling Charles Barnett</td>\n",
              "      <td>1895</td>\n",
              "      <td>NaN</td>\n",
              "    </tr>\n",
              "    <tr>\n",
              "      <th>353</th>\n",
              "      <td>374889</td>\n",
              "      <td>Zhmurki</td>\n",
              "      <td>2006</td>\n",
              "      <td>NaN</td>\n",
              "    </tr>\n",
              "    <tr>\n",
              "      <th>354</th>\n",
              "      <td>400649</td>\n",
              "      <td>\"Pacific War, The\"</td>\n",
              "      <td>2006</td>\n",
              "      <td>NaN</td>\n",
              "    </tr>\n",
              "    <tr>\n",
              "      <th>355</th>\n",
              "      <td>409052</td>\n",
              "      <td>\"Turin 2006: XX Olympic Winter Games\"</td>\n",
              "      <td>2006</td>\n",
              "      <td>NaN</td>\n",
              "    </tr>\n",
              "  </tbody>\n",
              "</table>\n",
              "<p>356 rows × 4 columns</p>\n",
              "</div>"
            ],
            "text/plain": [
              "         id                                      name  year  rank\n",
              "0       899                               10th & Wolf  2006   NaN\n",
              "1      1799                                      2176  2006   NaN\n",
              "2      2238                                       300  2006   NaN\n",
              "3      9086                                   Airborn  2006   NaN\n",
              "4      9495                   Akrobatisches Potpourri  1895   5.2\n",
              "..      ...                                       ...   ...   ...\n",
              "351  369459                                   X-Men 3  2006   NaN\n",
              "352  372568  Young Griffo v. Battling Charles Barnett  1895   NaN\n",
              "353  374889                                   Zhmurki  2006   NaN\n",
              "354  400649                        \"Pacific War, The\"  2006   NaN\n",
              "355  409052     \"Turin 2006: XX Olympic Winter Games\"  2006   NaN\n",
              "\n",
              "[356 rows x 4 columns]"
            ]
          },
          "metadata": {
            "tags": []
          },
          "execution_count": 20
        }
      ]
    },
    {
      "cell_type": "markdown",
      "metadata": {
        "heading_collapsed": true,
        "id": "YTjL29qL9tF-",
        "colab_type": "text"
      },
      "source": [
        "## The `IN` operator"
      ]
    },
    {
      "cell_type": "markdown",
      "metadata": {
        "heading_collapsed": true,
        "hidden": true,
        "id": "8ac5VH6W9tF_",
        "colab_type": "text"
      },
      "source": [
        "### IMDb"
      ]
    },
    {
      "cell_type": "code",
      "metadata": {
        "hidden": true,
        "id": "T2dcQl4Q9tF_",
        "colab_type": "code",
        "colab": {},
        "outputId": "e7fd52b6-485c-464b-c51c-6b179ff4cabc"
      },
      "source": [
        "%%read_sql\n",
        "USE imdb"
      ],
      "execution_count": 0,
      "outputs": [
        {
          "output_type": "stream",
          "text": [
            "Query started at 07:30:20 PM UTC; Query executed in 0.00 m"
          ],
          "name": "stdout"
        },
        {
          "output_type": "execute_result",
          "data": {
            "text/plain": [
              "<sql_magic.exceptions.EmptyResult at 0x7fd80f8b9860>"
            ]
          },
          "metadata": {
            "tags": []
          },
          "execution_count": 21
        }
      ]
    },
    {
      "cell_type": "markdown",
      "metadata": {
        "hidden": true,
        "id": "IunL5YDE9tGD",
        "colab_type": "text"
      },
      "source": [
        "#### Fetch all info for the directors with last names Scorsese, Polanski, and Spielberg. Use `IN` for your Boolean query."
      ]
    },
    {
      "cell_type": "code",
      "metadata": {
        "hidden": true,
        "id": "UdPkub0K9tGD",
        "colab_type": "code",
        "colab": {},
        "outputId": "796d5fd9-fd49-4fff-b4f4-089909f41400"
      },
      "source": [
        "%%read_sql\n",
        "SELECT * \n",
        "FROM directors\n",
        "WHERE last_name IN ( 'Scorsese', 'Spielberg', 'Polanski' );"
      ],
      "execution_count": 0,
      "outputs": [
        {
          "output_type": "stream",
          "text": [
            "Query started at 07:30:20 PM UTC; Query executed in 0.00 m"
          ],
          "name": "stdout"
        },
        {
          "output_type": "execute_result",
          "data": {
            "text/html": [
              "<div>\n",
              "<style scoped>\n",
              "    .dataframe tbody tr th:only-of-type {\n",
              "        vertical-align: middle;\n",
              "    }\n",
              "\n",
              "    .dataframe tbody tr th {\n",
              "        vertical-align: top;\n",
              "    }\n",
              "\n",
              "    .dataframe thead th {\n",
              "        text-align: right;\n",
              "    }\n",
              "</style>\n",
              "<table border=\"1\" class=\"dataframe\">\n",
              "  <thead>\n",
              "    <tr style=\"text-align: right;\">\n",
              "      <th></th>\n",
              "      <th>id</th>\n",
              "      <th>first_name</th>\n",
              "      <th>last_name</th>\n",
              "    </tr>\n",
              "  </thead>\n",
              "  <tbody>\n",
              "    <tr>\n",
              "      <th>0</th>\n",
              "      <td>63095</td>\n",
              "      <td>Roman</td>\n",
              "      <td>Polanski</td>\n",
              "    </tr>\n",
              "    <tr>\n",
              "      <th>1</th>\n",
              "      <td>71645</td>\n",
              "      <td>Martin</td>\n",
              "      <td>Scorsese</td>\n",
              "    </tr>\n",
              "    <tr>\n",
              "      <th>2</th>\n",
              "      <td>75380</td>\n",
              "      <td>Steven</td>\n",
              "      <td>Spielberg</td>\n",
              "    </tr>\n",
              "  </tbody>\n",
              "</table>\n",
              "</div>"
            ],
            "text/plain": [
              "      id first_name  last_name\n",
              "0  63095      Roman   Polanski\n",
              "1  71645     Martin   Scorsese\n",
              "2  75380     Steven  Spielberg"
            ]
          },
          "metadata": {
            "tags": []
          },
          "execution_count": 22
        }
      ]
    },
    {
      "cell_type": "markdown",
      "metadata": {
        "hidden": true,
        "id": "99lE6Mqx9tGG",
        "colab_type": "text"
      },
      "source": [
        "#### Fetch all info for the directors Quentin Tarantino, Stanley Kubrick, and Orson Welles. Use `IN` for your Boolean query.\n"
      ]
    },
    {
      "cell_type": "code",
      "metadata": {
        "hidden": true,
        "id": "3FAEAnf69tGG",
        "colab_type": "code",
        "colab": {},
        "outputId": "ba260646-eb83-496c-ee23-1c679055f7ff"
      },
      "source": [
        "%%read_sql\n",
        "SELECT * FROM directors\n",
        "WHERE (first_name, last_name) IN (\n",
        "            ('Quentin', 'Tarantino'), \n",
        "            ('Stanley', 'Kubrick'), \n",
        "            ('Orson', 'Welles') \n",
        ")\n"
      ],
      "execution_count": 0,
      "outputs": [
        {
          "output_type": "stream",
          "text": [
            "Query started at 07:30:20 PM UTC; Query executed in 0.00 m"
          ],
          "name": "stdout"
        },
        {
          "output_type": "execute_result",
          "data": {
            "text/html": [
              "<div>\n",
              "<style scoped>\n",
              "    .dataframe tbody tr th:only-of-type {\n",
              "        vertical-align: middle;\n",
              "    }\n",
              "\n",
              "    .dataframe tbody tr th {\n",
              "        vertical-align: top;\n",
              "    }\n",
              "\n",
              "    .dataframe thead th {\n",
              "        text-align: right;\n",
              "    }\n",
              "</style>\n",
              "<table border=\"1\" class=\"dataframe\">\n",
              "  <thead>\n",
              "    <tr style=\"text-align: right;\">\n",
              "      <th></th>\n",
              "      <th>id</th>\n",
              "      <th>first_name</th>\n",
              "      <th>last_name</th>\n",
              "    </tr>\n",
              "  </thead>\n",
              "  <tbody>\n",
              "    <tr>\n",
              "      <th>0</th>\n",
              "      <td>43095</td>\n",
              "      <td>Stanley</td>\n",
              "      <td>Kubrick</td>\n",
              "    </tr>\n",
              "    <tr>\n",
              "      <th>1</th>\n",
              "      <td>78273</td>\n",
              "      <td>Quentin</td>\n",
              "      <td>Tarantino</td>\n",
              "    </tr>\n",
              "    <tr>\n",
              "      <th>2</th>\n",
              "      <td>84880</td>\n",
              "      <td>Orson</td>\n",
              "      <td>Welles</td>\n",
              "    </tr>\n",
              "  </tbody>\n",
              "</table>\n",
              "</div>"
            ],
            "text/plain": [
              "      id first_name  last_name\n",
              "0  43095    Stanley    Kubrick\n",
              "1  78273    Quentin  Tarantino\n",
              "2  84880      Orson     Welles"
            ]
          },
          "metadata": {
            "tags": []
          },
          "execution_count": 23
        }
      ]
    },
    {
      "cell_type": "markdown",
      "metadata": {
        "heading_collapsed": true,
        "id": "s_3p8olC9tGI",
        "colab_type": "text"
      },
      "source": [
        "## The `LIKE` operator for approximate queries"
      ]
    },
    {
      "cell_type": "markdown",
      "metadata": {
        "heading_collapsed": true,
        "hidden": true,
        "id": "p3-bCdJH9tGJ",
        "colab_type": "text"
      },
      "source": [
        "### IMDb"
      ]
    },
    {
      "cell_type": "code",
      "metadata": {
        "hidden": true,
        "id": "Tw7O43CO9tGJ",
        "colab_type": "code",
        "colab": {},
        "outputId": "37ebc3d7-2568-46a3-e7cd-c633e2a17fca"
      },
      "source": [
        "%%read_sql\n",
        "USE imdb"
      ],
      "execution_count": 0,
      "outputs": [
        {
          "output_type": "stream",
          "text": [
            "Query started at 07:30:21 PM UTC; Query executed in 0.00 m"
          ],
          "name": "stdout"
        },
        {
          "output_type": "execute_result",
          "data": {
            "text/plain": [
              "<sql_magic.exceptions.EmptyResult at 0x7fd80f93b828>"
            ]
          },
          "metadata": {
            "tags": []
          },
          "execution_count": 24
        }
      ]
    },
    {
      "cell_type": "markdown",
      "metadata": {
        "hidden": true,
        "id": "b4mdntH09tGM",
        "colab_type": "text"
      },
      "source": [
        "#### Find the entry for Alfred Hitchcock\n",
        "\n",
        "Hint: Use an approximation for his first name\n"
      ]
    },
    {
      "cell_type": "code",
      "metadata": {
        "hidden": true,
        "id": "FsIKEX3k9tGM",
        "colab_type": "code",
        "colab": {},
        "outputId": "d86a7451-03b8-43b7-f5a5-f5f1d1353b8e"
      },
      "source": [
        "%%read_sql\n",
        "SELECT *\n",
        "FROM directors\n",
        "WHERE last_name = 'Hitchcock' AND first_name LIKE 'A%%' -- The double %% is only necessary when writing SQL \n",
        "                                                        -- within Jupyter notebooks. "
      ],
      "execution_count": 0,
      "outputs": [
        {
          "output_type": "stream",
          "text": [
            "Query started at 07:30:21 PM UTC; Query executed in 0.00 m"
          ],
          "name": "stdout"
        },
        {
          "output_type": "execute_result",
          "data": {
            "text/html": [
              "<div>\n",
              "<style scoped>\n",
              "    .dataframe tbody tr th:only-of-type {\n",
              "        vertical-align: middle;\n",
              "    }\n",
              "\n",
              "    .dataframe tbody tr th {\n",
              "        vertical-align: top;\n",
              "    }\n",
              "\n",
              "    .dataframe thead th {\n",
              "        text-align: right;\n",
              "    }\n",
              "</style>\n",
              "<table border=\"1\" class=\"dataframe\">\n",
              "  <thead>\n",
              "    <tr style=\"text-align: right;\">\n",
              "      <th></th>\n",
              "      <th>id</th>\n",
              "      <th>first_name</th>\n",
              "      <th>last_name</th>\n",
              "    </tr>\n",
              "  </thead>\n",
              "  <tbody>\n",
              "    <tr>\n",
              "      <th>0</th>\n",
              "      <td>34658</td>\n",
              "      <td>Alfred (I)</td>\n",
              "      <td>Hitchcock</td>\n",
              "    </tr>\n",
              "  </tbody>\n",
              "</table>\n",
              "</div>"
            ],
            "text/plain": [
              "      id  first_name  last_name\n",
              "0  34658  Alfred (I)  Hitchcock"
            ]
          },
          "metadata": {
            "tags": []
          },
          "execution_count": 25
        }
      ]
    },
    {
      "cell_type": "markdown",
      "metadata": {
        "hidden": true,
        "id": "NZTYMSH_9tGQ",
        "colab_type": "text"
      },
      "source": [
        "#### Find the Godfather movies, released in 1972, 1974, and 1990"
      ]
    },
    {
      "cell_type": "code",
      "metadata": {
        "hidden": true,
        "id": "ez3iC8Gw9tGQ",
        "colab_type": "code",
        "colab": {},
        "outputId": "fbc43646-03dd-4c44-e6b9-71962d62e6f9"
      },
      "source": [
        "%%read_sql\n",
        "SELECT *\n",
        "FROM movies\n",
        "WHERE name LIKE 'Godfather%%'  AND -- The double %% is only necessary when writing SQL \n",
        "      year IN (1972, 1974, 1990)   -- within Jupyter notebooks. "
      ],
      "execution_count": 0,
      "outputs": [
        {
          "output_type": "stream",
          "text": [
            "Query started at 07:30:21 PM UTC; Query executed in 0.00 m"
          ],
          "name": "stdout"
        },
        {
          "output_type": "execute_result",
          "data": {
            "text/html": [
              "<div>\n",
              "<style scoped>\n",
              "    .dataframe tbody tr th:only-of-type {\n",
              "        vertical-align: middle;\n",
              "    }\n",
              "\n",
              "    .dataframe tbody tr th {\n",
              "        vertical-align: top;\n",
              "    }\n",
              "\n",
              "    .dataframe thead th {\n",
              "        text-align: right;\n",
              "    }\n",
              "</style>\n",
              "<table border=\"1\" class=\"dataframe\">\n",
              "  <thead>\n",
              "    <tr style=\"text-align: right;\">\n",
              "      <th></th>\n",
              "      <th>id</th>\n",
              "      <th>name</th>\n",
              "      <th>year</th>\n",
              "      <th>rank</th>\n",
              "    </tr>\n",
              "  </thead>\n",
              "  <tbody>\n",
              "    <tr>\n",
              "      <th>0</th>\n",
              "      <td>130128</td>\n",
              "      <td>Godfather, The</td>\n",
              "      <td>1972</td>\n",
              "      <td>9.0</td>\n",
              "    </tr>\n",
              "    <tr>\n",
              "      <th>1</th>\n",
              "      <td>130129</td>\n",
              "      <td>Godfather: Part II, The</td>\n",
              "      <td>1974</td>\n",
              "      <td>8.9</td>\n",
              "    </tr>\n",
              "    <tr>\n",
              "      <th>2</th>\n",
              "      <td>130130</td>\n",
              "      <td>Godfather: Part III, The</td>\n",
              "      <td>1990</td>\n",
              "      <td>7.3</td>\n",
              "    </tr>\n",
              "  </tbody>\n",
              "</table>\n",
              "</div>"
            ],
            "text/plain": [
              "       id                      name  year  rank\n",
              "0  130128            Godfather, The  1972   9.0\n",
              "1  130129   Godfather: Part II, The  1974   8.9\n",
              "2  130130  Godfather: Part III, The  1990   7.3"
            ]
          },
          "metadata": {
            "tags": []
          },
          "execution_count": 26
        }
      ]
    },
    {
      "cell_type": "code",
      "metadata": {
        "hidden": true,
        "id": "MDSiqEro9tGT",
        "colab_type": "code",
        "colab": {}
      },
      "source": [
        ""
      ],
      "execution_count": 0,
      "outputs": []
    }
  ]
}