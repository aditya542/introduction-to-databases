{
  "nbformat": 4,
  "nbformat_minor": 0,
  "metadata": {
    "anaconda-cloud": {},
    "kernelspec": {
      "display_name": "Python 3",
      "language": "python",
      "name": "python3"
    },
    "language_info": {
      "codemirror_mode": {
        "name": "ipython",
        "version": 3
      },
      "file_extension": ".py",
      "mimetype": "text/x-pysethon",
      "name": "python",
      "nbconvert_exporter": "python",
      "pygments_lexer": "ipython3",
      "version": "3.6.6"
    },
    "colab": {
      "name": "Session 4 Assignment",
      "provenance": [],
      "collapsed_sections": [],
      "include_colab_link": true
    }
  },
  "cells": [
    {
      "cell_type": "markdown",
      "metadata": {
        "id": "view-in-github",
        "colab_type": "text"
      },
      "source": [
        "<a href=\"https://colab.research.google.com/github/ipeirotis/introduction-to-databases/blob/master/session4/assignment_join_queries.ipynb\" target=\"_parent\"><img src=\"https://colab.research.google.com/assets/colab-badge.svg\" alt=\"Open In Colab\"/></a>"
      ]
    },
    {
      "cell_type": "markdown",
      "metadata": {
        "id": "SkZqhwkf8NUg",
        "colab_type": "text"
      },
      "source": [
        "# Session 4: Join Queries Assignment\n",
        "\n",
        "\n",
        "In this segment we will connect to the *Music* database."
      ]
    },
    {
      "cell_type": "markdown",
      "metadata": {
        "id": "5u_6yLTDT6Kn",
        "colab_type": "text"
      },
      "source": [
        "## Setup"
      ]
    },
    {
      "cell_type": "code",
      "metadata": {
        "id": "O9o9NsaO8hMy",
        "colab_type": "code",
        "colab": {}
      },
      "source": [
        "!apt-get install python3-mysqldb\n",
        "!pip install sqlalchemy sql_magic"
      ],
      "execution_count": 0,
      "outputs": []
    },
    {
      "cell_type": "code",
      "metadata": {
        "id": "EkIL-uRK8NUi",
        "colab_type": "code",
        "colab": {}
      },
      "source": [
        "# This code creates a connection to the database\n",
        "from sqlalchemy import create_engine\n",
        "\n",
        "conn_string = 'mysql://{user}:{password}@{host}/{db}?charset={encoding}'.format(\n",
        "    host = 'db.ipeirotis.org', \n",
        "    user = 'student',\n",
        "    db = 'music',\n",
        "    password = 'dwdstudent2015',\n",
        "    encoding = 'utf8mb4')\n",
        "\n",
        "engine = create_engine(conn_string)\n",
        "con = engine.connect()"
      ],
      "execution_count": 0,
      "outputs": []
    },
    {
      "cell_type": "code",
      "metadata": {
        "id": "z7muzQXTUFkU",
        "colab_type": "code",
        "colab": {}
      },
      "source": [
        "%reload_ext sql_magic"
      ],
      "execution_count": 0,
      "outputs": []
    },
    {
      "cell_type": "code",
      "metadata": {
        "id": "uHRIPxBvUGfC",
        "colab_type": "code",
        "colab": {}
      },
      "source": [
        "%config SQL.conn_name = 'engine'"
      ],
      "execution_count": 0,
      "outputs": []
    },
    {
      "cell_type": "markdown",
      "metadata": {
        "id": "-7ZZAPj1yfrZ",
        "colab_type": "text"
      },
      "source": [
        "This is an example of how you can write an SQL query in the notebook.\n",
        "You write your SQL query after the `%%read_sql` line."
      ]
    },
    {
      "cell_type": "code",
      "metadata": {
        "id": "sWa1Uv_6X9zi",
        "colab_type": "code",
        "colab": {}
      },
      "source": [
        "%%read_sql\n",
        "SELECT * \n",
        "FROM played"
      ],
      "execution_count": 0,
      "outputs": []
    },
    {
      "cell_type": "markdown",
      "metadata": {
        "id": "H0hhloRRUJlV",
        "colab_type": "text"
      },
      "source": [
        "## Question 1: List all the album names by the band `New Order`"
      ]
    },
    {
      "cell_type": "code",
      "metadata": {
        "id": "eL_CnyPRUSGI",
        "colab_type": "code",
        "colab": {}
      },
      "source": [
        "%%read_sql"
      ],
      "execution_count": 0,
      "outputs": []
    },
    {
      "cell_type": "markdown",
      "metadata": {
        "id": "Hz_1yX-EUeBQ",
        "colab_type": "text"
      },
      "source": [
        "## Question 2: List the tracks for the album `Second Coming`"
      ]
    },
    {
      "cell_type": "code",
      "metadata": {
        "id": "HXy0Ygy3Uf_m",
        "colab_type": "code",
        "colab": {}
      },
      "source": [
        "%%read_sql\n"
      ],
      "execution_count": 0,
      "outputs": []
    },
    {
      "cell_type": "markdown",
      "metadata": {
        "colab_type": "text",
        "id": "UozymxRTW-wx"
      },
      "source": [
        "## Question 3: List all the track names, the corresponding album name, and the corresponding artist name"
      ]
    },
    {
      "cell_type": "code",
      "metadata": {
        "colab_type": "code",
        "id": "ZwtqsRoGW-wz",
        "colab": {}
      },
      "source": [
        "%%read_sql"
      ],
      "execution_count": 0,
      "outputs": []
    },
    {
      "cell_type": "markdown",
      "metadata": {
        "colab_type": "text",
        "id": "8NFSCApmXGZ8"
      },
      "source": [
        "## Question 4: List all all the tracks by the artist `The Stone Roses` and rank them by time length, from shortest to longest"
      ]
    },
    {
      "cell_type": "code",
      "metadata": {
        "colab_type": "code",
        "id": "bcr5iccDXGZ9",
        "colab": {}
      },
      "source": [
        "%%read_sql\n"
      ],
      "execution_count": 0,
      "outputs": []
    },
    {
      "cell_type": "markdown",
      "metadata": {
        "id": "nezZleqbUeI_",
        "colab_type": "text"
      },
      "source": [
        "## Question 5: The table `played` contains the tracks that the user listened to, and the time that they listened to the songs. List the _distinct_ names of the artists that the user has listened to."
      ]
    },
    {
      "cell_type": "code",
      "metadata": {
        "id": "rNfpSzT3UgrM",
        "colab_type": "code",
        "colab": {}
      },
      "source": [
        "%%read_sql\n"
      ],
      "execution_count": 0,
      "outputs": []
    },
    {
      "cell_type": "markdown",
      "metadata": {
        "colab_type": "text",
        "id": "_j2bCzADXODe"
      },
      "source": [
        "## Question 6: List the name of the artists and albums that have tracks with time length more than 10 minutes."
      ]
    },
    {
      "cell_type": "code",
      "metadata": {
        "colab_type": "code",
        "id": "o9h005rlXODf",
        "colab": {}
      },
      "source": [
        "%%read_sql"
      ],
      "execution_count": 0,
      "outputs": []
    },
    {
      "cell_type": "markdown",
      "metadata": {
        "id": "HF9cHpSDXaZd",
        "colab_type": "text"
      },
      "source": [
        "## Question 7: List the album name, the artist name, and the track names, where both the name of the album and the name of the track contain the string `love` (it is fine if it is part of a longer word)."
      ]
    },
    {
      "cell_type": "code",
      "metadata": {
        "colab_type": "code",
        "id": "mvLQdbdiXSmw",
        "colab": {}
      },
      "source": [
        "%%read_sql"
      ],
      "execution_count": 0,
      "outputs": []
    },
    {
      "cell_type": "markdown",
      "metadata": {
        "colab_type": "text",
        "id": "ntj5f4n8U3dT"
      },
      "source": [
        "## Question 8: The table played contains the tracks that the user listened to, and the time that they listened to the songs. List the tracks that are in the database, but which the user has never listened to. (Note: Need an outer join)."
      ]
    },
    {
      "cell_type": "code",
      "metadata": {
        "colab_type": "code",
        "id": "mPCpyhbwU3dV",
        "colab": {}
      },
      "source": [
        "%%read_sql\n"
      ],
      "execution_count": 0,
      "outputs": []
    }
  ]
}