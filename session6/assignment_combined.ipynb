{
  "nbformat": 4,
  "nbformat_minor": 0,
  "metadata": {
    "anaconda-cloud": {},
    "kernelspec": {
      "display_name": "Python 3",
      "language": "python",
      "name": "python3"
    },
    "language_info": {
      "codemirror_mode": {
        "name": "ipython",
        "version": 3
      },
      "file_extension": ".py",
      "mimetype": "text/x-python",
      "name": "python",
      "nbconvert_exporter": "python",
      "pygments_lexer": "ipython3",
      "version": "3.6.6"
    },
    "colab": {
      "name": "Session 6: Putting All Together Queries",
      "provenance": [],
      "collapsed_sections": [],
      "include_colab_link": true
    }
  },
  "cells": [
    {
      "cell_type": "markdown",
      "metadata": {
        "id": "view-in-github",
        "colab_type": "text"
      },
      "source": [
        "<a href=\"https://colab.research.google.com/github/ipeirotis/introduction-to-databases/blob/master/session6/assignment_combined.ipynb\" target=\"_parent\"><img src=\"https://colab.research.google.com/assets/colab-badge.svg\" alt=\"Open In Colab\"/></a>"
      ]
    },
    {
      "cell_type": "markdown",
      "metadata": {
        "id": "SkZqhwkf8NUg",
        "colab_type": "text"
      },
      "source": [
        "# Session 6: Putting All Together Assignment\n",
        "\n",
        "\n",
        "In this segment we will connect to the *Music* database."
      ]
    },
    {
      "cell_type": "markdown",
      "metadata": {
        "id": "5u_6yLTDT6Kn",
        "colab_type": "text"
      },
      "source": [
        "## Setup"
      ]
    },
    {
      "cell_type": "code",
      "metadata": {
        "id": "O9o9NsaO8hMy",
        "colab_type": "code",
        "colab": {}
      },
      "source": [
        "!apt-get install python3-mysqldb\n",
        "!pip install sqlalchemy sql_magic"
      ],
      "execution_count": 0,
      "outputs": []
    },
    {
      "cell_type": "code",
      "metadata": {
        "id": "EkIL-uRK8NUi",
        "colab_type": "code",
        "colab": {}
      },
      "source": [
        "# This code creates a connection to the database\n",
        "from sqlalchemy import create_engine\n",
        "\n",
        "conn_string = 'mysql://{user}:{password}@{host}/{db}?charset={encoding}'.format(\n",
        "    host = 'db.ipeirotis.org', \n",
        "    user = 'student',\n",
        "    db = 'music',\n",
        "    password = 'dwdstudent2015',\n",
        "    encoding = 'utf8mb4')\n",
        "\n",
        "engine = create_engine(conn_string)\n",
        "con = engine.connect()"
      ],
      "execution_count": 0,
      "outputs": []
    },
    {
      "cell_type": "code",
      "metadata": {
        "id": "z7muzQXTUFkU",
        "colab_type": "code",
        "colab": {
          "base_uri": "https://localhost:8080/",
          "height": 70
        },
        "outputId": "23291ed1-433d-4ec4-a078-0071fdf4970a"
      },
      "source": [
        "%reload_ext sql_magic"
      ],
      "execution_count": 4,
      "outputs": [
        {
          "output_type": "stream",
          "text": [
            "/usr/local/lib/python3.6/dist-packages/psycopg2/__init__.py:144: UserWarning: The psycopg2 wheel package will be renamed from release 2.8; in order to keep installing from binary please use \"pip install psycopg2-binary\" instead. For details see: <http://initd.org/psycopg/docs/install.html#binary-install-from-pypi>.\n",
            "  \"\"\")\n"
          ],
          "name": "stderr"
        },
        {
          "output_type": "display_data",
          "data": {
            "application/javascript": [
              "\n",
              "    require(['notebook/js/codecell'], function(codecell) {\n",
              "      // https://github.com/jupyter/notebook/issues/2453\n",
              "      codecell.CodeCell.options_default.highlight_modes['magic_text/x-sql'] = {'reg':[/^%read_sql/, /.*=\\s*%read_sql/,\n",
              "                                                                                      /^%%read_sql/]};\n",
              "      Jupyter.notebook.events.one('kernel_ready.Kernel', function(){\n",
              "          console.log('BBBBB');\n",
              "          Jupyter.notebook.get_cells().map(function(cell){\n",
              "              if (cell.cell_type == 'code'){ cell.auto_highlight(); } }) ;\n",
              "      });\n",
              "    });\n",
              "    "
            ]
          },
          "metadata": {
            "tags": []
          }
        }
      ]
    },
    {
      "cell_type": "code",
      "metadata": {
        "id": "uHRIPxBvUGfC",
        "colab_type": "code",
        "colab": {}
      },
      "source": [
        "%config SQL.conn_name = 'engine'"
      ],
      "execution_count": 0,
      "outputs": []
    },
    {
      "cell_type": "markdown",
      "metadata": {
        "id": "NdgXvtmRLayC",
        "colab_type": "text"
      },
      "source": [
        "This is an example of how you can write an SQL query in the notebook.\n",
        " You write your SQL query after the `%%read_sql` line."
      ]
    },
    {
      "cell_type": "code",
      "metadata": {
        "id": "sWa1Uv_6X9zi",
        "colab_type": "code",
        "colab": {}
      },
      "source": [
        "%%read_sql\n",
        "SELECT * \n",
        "FROM played"
      ],
      "execution_count": 0,
      "outputs": []
    },
    {
      "cell_type": "markdown",
      "metadata": {
        "id": "H0hhloRRUJlV",
        "colab_type": "text"
      },
      "source": [
        "## Question 1: Show the name of the artist and the number of albums for each artist in the database. Name the column that shows the number of albums as `num_albums`."
      ]
    },
    {
      "cell_type": "code",
      "metadata": {
        "id": "eL_CnyPRUSGI",
        "colab_type": "code",
        "colab": {}
      },
      "source": [
        "%%read_sql\n"
      ],
      "execution_count": 0,
      "outputs": []
    },
    {
      "cell_type": "markdown",
      "metadata": {
        "id": "Hz_1yX-EUeBQ",
        "colab_type": "text"
      },
      "source": [
        "## Question 2: Show the name of the album, the number of tracks in the album, and the total length of the album. Name as `num_tracks` the columns that shows the number of tracks, and name as `length_minutes` the columns that shows the time length of the album."
      ]
    },
    {
      "cell_type": "code",
      "metadata": {
        "id": "HXy0Ygy3Uf_m",
        "colab_type": "code",
        "colab": {}
      },
      "source": [
        "%%read_sql\n",
        "\n"
      ],
      "execution_count": 0,
      "outputs": []
    },
    {
      "cell_type": "markdown",
      "metadata": {
        "colab_type": "text",
        "id": "UozymxRTW-wx"
      },
      "source": [
        "## Question 3: Expand query 2, to show not only the name of the album but also the name of the artist, _in addition_ to the information already shown in query 2 (i.e., name of the album, number of tracks, and album length)."
      ]
    },
    {
      "cell_type": "code",
      "metadata": {
        "colab_type": "code",
        "id": "ZwtqsRoGW-wz",
        "colab": {}
      },
      "source": [
        "%%read_sql\n"
      ],
      "execution_count": 0,
      "outputs": []
    },
    {
      "cell_type": "markdown",
      "metadata": {
        "colab_type": "text",
        "id": "8NFSCApmXGZ8"
      },
      "source": [
        "## Question 4: For every artist, show the average length of the tracks, and the standard deviation for the track length.\n",
        "\n"
      ]
    },
    {
      "cell_type": "code",
      "metadata": {
        "colab_type": "code",
        "id": "bcr5iccDXGZ9",
        "colab": {}
      },
      "source": [
        "%%read_sql\n"
      ],
      "execution_count": 0,
      "outputs": []
    },
    {
      "cell_type": "markdown",
      "metadata": {
        "id": "nezZleqbUeI_",
        "colab_type": "text"
      },
      "source": [
        "## Question 5: Analyze the songs that the user has played and, for each artist, show the first and last time that the user has listened to the artist."
      ]
    },
    {
      "cell_type": "code",
      "metadata": {
        "id": "rNfpSzT3UgrM",
        "colab_type": "code",
        "colab": {}
      },
      "source": [
        "%%read_sql\n"
      ],
      "execution_count": 0,
      "outputs": []
    },
    {
      "cell_type": "markdown",
      "metadata": {
        "colab_type": "text",
        "id": "_j2bCzADXODe"
      },
      "source": [
        "## Question 6: Show the name of each track and the time it was played. Include tracks that were not played at all by the user. (Hint: You need an outer join.)"
      ]
    },
    {
      "cell_type": "code",
      "metadata": {
        "colab_type": "code",
        "id": "o9h005rlXODf",
        "colab": {}
      },
      "source": [
        "%%read_sql\n"
      ],
      "execution_count": 0,
      "outputs": []
    },
    {
      "cell_type": "markdown",
      "metadata": {
        "id": "HF9cHpSDXaZd",
        "colab_type": "text"
      },
      "source": [
        "## Question 7: List all the names of the albums and the album length (across all the album's tracks), where the total album length  is longer than 60 minutes."
      ]
    },
    {
      "cell_type": "code",
      "metadata": {
        "colab_type": "code",
        "id": "mvLQdbdiXSmw",
        "colab": {}
      },
      "source": [
        "%%read_sql\n"
      ],
      "execution_count": 0,
      "outputs": []
    },
    {
      "cell_type": "markdown",
      "metadata": {
        "colab_type": "text",
        "id": "ntj5f4n8U3dT"
      },
      "source": [
        "## Question 8: Show the names of the artists that have more than 12 tracks in the database."
      ]
    },
    {
      "cell_type": "code",
      "metadata": {
        "colab_type": "code",
        "id": "mPCpyhbwU3dV",
        "colab": {}
      },
      "source": [
        "%%read_sql"
      ],
      "execution_count": 0,
      "outputs": []
    },
    {
      "cell_type": "markdown",
      "metadata": {
        "colab_type": "text",
        "id": "23bSA8IUU1Og"
      },
      "source": [
        "## Question 9: Show how many tracks are on each of the albums by the artist `New Order`. List the name of the album and the number of tracks in the output."
      ]
    },
    {
      "cell_type": "code",
      "metadata": {
        "colab_type": "code",
        "id": "hTD97qjaU1Oi",
        "colab": {}
      },
      "source": [
        "%%read_sql\n"
      ],
      "execution_count": 0,
      "outputs": []
    },
    {
      "cell_type": "markdown",
      "metadata": {
        "id": "eWgdmtHHURaS",
        "colab_type": "text"
      },
      "source": [
        "## Question 10: By analyzing the songs that the user has played and, for each album, show the first and last time that the user has listened to the album. Include albums that the user has *not* listened at all. List also the artist name for the album. (Hint: you need an *outer* join for this.) "
      ]
    },
    {
      "cell_type": "code",
      "metadata": {
        "id": "ygI_N9gBUhWy",
        "colab_type": "code",
        "colab": {}
      },
      "source": [
        "%%read_sql\n"
      ],
      "execution_count": 0,
      "outputs": []
    }
  ]
}