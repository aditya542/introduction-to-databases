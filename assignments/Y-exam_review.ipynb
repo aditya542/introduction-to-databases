{
 "cells": [
  {
   "cell_type": "markdown",
   "metadata": {},
   "source": [
    "# 0. ER diagrams"
   ]
  },
  {
   "cell_type": "markdown",
   "metadata": {},
   "source": [
    "![](http://people.stern.nyu.edu/khoffman/intro_programming_datasci/assets/images/uber_schema.PNG)"
   ]
  },
  {
   "cell_type": "markdown",
   "metadata": {},
   "source": [
    "True or false?"
   ]
  },
  {
   "cell_type": "markdown",
   "metadata": {},
   "source": [
    "1. A customer can take zero, one, or many trips.\n",
    "2. A customer must have a corresponding credit card.\n",
    "3. A trip must have a corresponding a credit card.\n",
    "4. A trip can have more than one driver.\n",
    "5. A trip may have no customers.\n",
    "6. A trip can have one credit card.\n",
    "7. A trip can have five credit cards.\n",
    "8. A trip can have no credit cards."
   ]
  },
  {
   "cell_type": "markdown",
   "metadata": {},
   "source": [
    "**Answer:**\n",
    "<span style=\"color:white\">\n",
    "\\1. TRUE\n",
    "\\2. FALSE\n",
    "\\3. TRUE\n",
    "\\4. FALSE\n",
    "\\5. FALSE\n",
    "\\6. TRUE\n",
    "\\7. TRUE\n",
    "\\8. FALSE"
   ]
  },
  {
   "cell_type": "markdown",
   "metadata": {},
   "source": [
    "![](http://people.stern.nyu.edu/khoffman/intro_programming_datasci/assets/images/employee_schema_raw.PNG)"
   ]
  },
  {
   "cell_type": "markdown",
   "metadata": {},
   "source": [
    "True or False?\n",
    "\n",
    "1. Departments have a one-to-many relationship with employees.\n",
    "2. Employees have a one-to-one relationship with jobs.\n",
    "3. A department can have no employees.\n",
    "4. An employee can have multiple departments.\n",
    "5. An employee can have multiple jobs.\n",
    "6. A job can have only one employee."
   ]
  },
  {
   "cell_type": "markdown",
   "metadata": {},
   "source": [
    "**Answer**:\n",
    "<span style=\"color:white\">\n",
    "\\1. TRUE\n",
    "\\2. FALSE\n",
    "\\3. FALSE\n",
    "\\4. FALSE\n",
    "\\5. TRUE\n",
    "\\6. FALSE"
   ]
  },
  {
   "cell_type": "markdown",
   "metadata": {},
   "source": [
    "# SQL queries"
   ]
  },
  {
   "cell_type": "markdown",
   "metadata": {},
   "source": [
    "**Notes**: \n",
    "- Your homework is a good example of the types of test questions that might appear on basic selection, including `SELECT DISTINCT`, `LIMIT`, `ORDER BY`, `WHERE`, `LIKE`, and `INNER JOIN`.\n",
    "\n",
    "- We have also practiced many queries in [Lecture 7](http://people.stern.nyu.edu/khoffman/intro_programming_datasci/assets/txt/queries_lec7.txt) and [Lecture 8](http://people.stern.nyu.edu/khoffman/intro_programming_datasci/assets/txt/queries_lec8.txt). Solved examples of most of the queries we've run in class (including several of the ones below) can be found [here](https://github.com/khof312/Summer2018_ProfHoffmannPham/blob/master/02-SQL/F-SQL_Queries_For_IMDB_and_Facebook_Databases.ipynb). You are not responsible for the section on subqueries.\n",
    "\n",
    "- This notebook includes a few easy practice queries, and then copies some of the harder queries from the end of lecture 8."
   ]
  },
  {
   "cell_type": "code",
   "execution_count": null,
   "metadata": {
    "collapsed": true
   },
   "outputs": [],
   "source": [
    "from sqlalchemy import create_engine\n",
    "\n",
    "conn_string = 'mysql://{user}:{password}@{host}/?charset=utf8'.format(\n",
    "    host = 'db.ipeirotis.org', \n",
    "    user = 'student',\n",
    "    password = 'dwdstudent2015',\n",
    "    encoding = 'utf-8')\n",
    "engine = create_engine(conn_string)\n",
    "\n",
    "%reload_ext sql_magic\n",
    "%config SQL.conn_name = 'engine'"
   ]
  },
  {
   "cell_type": "code",
   "execution_count": null,
   "metadata": {
    "collapsed": true
   },
   "outputs": [],
   "source": [
    "%%read_sql\n",
    "USE imdb;\n",
    "SHOW TABLES;"
   ]
  },
  {
   "cell_type": "markdown",
   "metadata": {},
   "source": [
    "## a. Basic selection"
   ]
  },
  {
   "cell_type": "markdown",
   "metadata": {},
   "source": [
    "#### Find the id, name, and year of movies called 'Casablanca'"
   ]
  },
  {
   "cell_type": "code",
   "execution_count": null,
   "metadata": {
    "collapsed": true
   },
   "outputs": [],
   "source": [
    "%%read_sql\n",
    "\n",
    "LIMIT 10;"
   ]
  },
  {
   "cell_type": "markdown",
   "metadata": {},
   "source": [
    "**Answer:**\n",
    "<span style=\"color:white\">\n",
    "%%read_sql\n",
    "SELECT id, name, year\n",
    "FROM movies\n",
    "WHERE name='Casablanca'\n",
    "LIMIT 10;"
   ]
  },
  {
   "cell_type": "markdown",
   "metadata": {},
   "source": [
    "#### Find all information about male actors who have first name Matthew"
   ]
  },
  {
   "cell_type": "code",
   "execution_count": null,
   "metadata": {
    "collapsed": true
   },
   "outputs": [],
   "source": [
    "%%read_sql\n",
    "\n",
    "LIMIT 10;"
   ]
  },
  {
   "cell_type": "markdown",
   "metadata": {},
   "source": [
    "**Answer:**\n",
    "<span style=\"color:white\">\n",
    "%%read_sql\n",
    "SELECT *\n",
    "FROM actors\n",
    "WHERE first_name = 'Matthew' AND gender = 'M'\n",
    "LIMIT 10;"
   ]
  },
  {
   "cell_type": "markdown",
   "metadata": {},
   "source": [
    "#### List the distinct movie roles, and remove null values"
   ]
  },
  {
   "cell_type": "code",
   "execution_count": null,
   "metadata": {
    "collapsed": true
   },
   "outputs": [],
   "source": [
    "%%read_sql\n",
    "\n",
    "LIMIT 10;"
   ]
  },
  {
   "cell_type": "markdown",
   "metadata": {},
   "source": [
    "**Answer:**\n",
    "<span style=\"color:white\">\n",
    "%%read_sql\n",
    "SELECT DISTINCT role\n",
    "FROM roles\n",
    "WHERE role IS NOT NULL\n",
    "LIMIT 10;"
   ]
  },
  {
   "cell_type": "markdown",
   "metadata": {},
   "source": [
    "#### List the distinct movie roles matching the phrase 'Old Man'"
   ]
  },
  {
   "cell_type": "code",
   "execution_count": null,
   "metadata": {
    "collapsed": true
   },
   "outputs": [],
   "source": [
    "%%read_sql\n",
    "\n",
    "LIMIT 10;"
   ]
  },
  {
   "cell_type": "markdown",
   "metadata": {},
   "source": [
    "**Answer:**\n",
    "<span style=\"color:white\">\n",
    "%%read_sql\n",
    "SELECT DISTINCT role\n",
    "FROM roles\n",
    "WHERE role LIKE '%%Old Man%%'\n",
    "LIMIT 10;"
   ]
  },
  {
   "cell_type": "markdown",
   "metadata": {},
   "source": [
    "#### List the distinct actor first-names that have four letters and end with `ate`. Sort them alphabetically."
   ]
  },
  {
   "cell_type": "code",
   "execution_count": null,
   "metadata": {
    "collapsed": true
   },
   "outputs": [],
   "source": [
    "%%read_sql\n",
    "\n",
    "LIMIT 10;"
   ]
  },
  {
   "cell_type": "markdown",
   "metadata": {},
   "source": [
    "**Answer:**\n",
    "<span style=\"color:white\">\n",
    "%%read_sql\n",
    "SELECT DISTINCT first_name\n",
    "FROM actors\n",
    "WHERE first_name LIKE '_ate'\n",
    "ORDER BY first_name\n",
    "LIMIT 10;"
   ]
  },
  {
   "cell_type": "markdown",
   "metadata": {},
   "source": [
    "### b. Additional Practice: Group by"
   ]
  },
  {
   "cell_type": "markdown",
   "metadata": {},
   "source": [
    "#### List average ratings for the movies broken down by genre"
   ]
  },
  {
   "cell_type": "code",
   "execution_count": null,
   "metadata": {
    "collapsed": true
   },
   "outputs": [],
   "source": [
    "%%read_sql\n",
    "\n",
    "LIMIT 10;"
   ]
  },
  {
   "cell_type": "markdown",
   "metadata": {},
   "source": [
    "**Answer:**\n",
    "<span style=\"color:white\">\n",
    "%%read_sql\n",
    "SELECT G.genre, \n",
    "    ROUND(AVG(M.rank),2) AS avg_rating\n",
    "FROM movies M\n",
    "    INNER JOIN movies_genres G \n",
    "    ON M.id = G.movie_id\n",
    "GROUP BY G.genre\n",
    "ORDER BY avg_rating\n",
    "LIMIT 10;"
   ]
  },
  {
   "cell_type": "markdown",
   "metadata": {},
   "source": [
    "#### List all the movies from year 2000 and their average rating broken down by genre. \n",
    "\n",
    "Also list: \n",
    "- the maximum and minimum ratings\n",
    "- the standard deviation of the ratings\n",
    "- the number of rated movies and the total number of movies (`COUNT(*)` vs `COUNT(attr)`)"
   ]
  },
  {
   "cell_type": "code",
   "execution_count": null,
   "metadata": {
    "collapsed": true
   },
   "outputs": [],
   "source": [
    "%%read_sql\n",
    "\n",
    "LIMIT 10;"
   ]
  },
  {
   "cell_type": "markdown",
   "metadata": {},
   "source": [
    "**Answer:**\n",
    "<span style=\"color:white\">\n",
    "%%read_sql\n",
    "SELECT G.genre, \n",
    "    ROUND(AVG(M.rank),2) AS avg_rating,\n",
    "    ROUND(STDDEV(M.rank),2) as stddev_rating,\n",
    "    MAX(M.rank) AS max_rating,\n",
    "    MIN(M.rank) AS min_rating,\n",
    "    COUNT(*) AS num_movies,\n",
    "    COUNT(M.rank) AS rated_movies\n",
    "FROM movies M\n",
    "    INNER JOIN movies_genres G \n",
    "    ON M.id = G.movie_id\n",
    "WHERE M.year = 2000\n",
    "GROUP BY G.genre\n",
    "ORDER BY avg_rating\n",
    "LIMIT 10;"
   ]
  },
  {
   "cell_type": "markdown",
   "metadata": {},
   "source": [
    "#### What is the most frequent role, aside from an actor playing him/herself or a blank role (' ')?"
   ]
  },
  {
   "cell_type": "code",
   "execution_count": null,
   "metadata": {
    "collapsed": true
   },
   "outputs": [],
   "source": [
    "%%read_sql\n",
    "\n",
    "LIMIT 10; "
   ]
  },
  {
   "cell_type": "markdown",
   "metadata": {},
   "source": [
    "**Answer:**\n",
    "<span style=\"color:white\">\n",
    "%%read_sql\n",
    "SELECT role, COUNT(*) AS num_roles\n",
    "FROM roles\n",
    "WHERE role NOT LIKE '%%Himself%%' AND role NOT LIKE '%%Herself%%' AND role!=''\n",
    "GROUP BY role\n",
    "ORDER BY num_roles DESC\n",
    "LIMIT 10; "
   ]
  },
  {
   "cell_type": "markdown",
   "metadata": {},
   "source": [
    "#### How many movies are missing a rating in 2000, by genre?"
   ]
  },
  {
   "cell_type": "code",
   "execution_count": null,
   "metadata": {
    "collapsed": true
   },
   "outputs": [],
   "source": [
    "%%read_sql\n",
    "\n",
    "LIMIT 10;"
   ]
  },
  {
   "cell_type": "markdown",
   "metadata": {},
   "source": [
    "**Answer:**\n",
    "<span style=\"color:white\">\n",
    "%%read_sql\n",
    "SELECT G.genre, COUNT(*) as num_missing_ratings\n",
    "FROM movies M\n",
    "    INNER JOIN movies_genres G \n",
    "    ON M.id = G.movie_id\n",
    "WHERE M.year = 2000 and M.rank IS NULL\n",
    "GROUP BY G.genre\n",
    "LIMIT 10;"
   ]
  },
  {
   "cell_type": "markdown",
   "metadata": {},
   "source": [
    "#### Compute the average rank for the movies directed by Steven Spielberg"
   ]
  },
  {
   "cell_type": "code",
   "execution_count": null,
   "metadata": {
    "collapsed": true
   },
   "outputs": [],
   "source": [
    "%%read_sql\n",
    "\n",
    "LIMIT 10; "
   ]
  },
  {
   "cell_type": "markdown",
   "metadata": {},
   "source": [
    "**Answer:**\n",
    "<span style=\"color:white\">\n",
    "%%read_sql\n",
    "SELECT AVG(rank) as spielberg_avrage_rank\n",
    "FROM movies M\n",
    "    INNER JOIN movies_directors MD on M.id = MD.movie_id\n",
    "    INNER JOIN directors D on D.id = MD.director_id\n",
    "WHERE D.first_name = 'Steven' AND D.last_name='Spielberg'\n",
    "LIMIT 10; "
   ]
  },
  {
   "cell_type": "markdown",
   "metadata": {},
   "source": [
    "#### Obtain the movies of Brad Pitt, and compute the average rank for his movies"
   ]
  },
  {
   "cell_type": "code",
   "execution_count": null,
   "metadata": {
    "collapsed": true
   },
   "outputs": [],
   "source": [
    "%%read_sql\n",
    "\n",
    "LIMIT 10; "
   ]
  },
  {
   "cell_type": "markdown",
   "metadata": {},
   "source": [
    "**Answer:**\n",
    "<span style=\"color:white\">\n",
    "%%read_sql\n",
    "SELECT AVG(M.rank) as brad_pitt_average_rank\n",
    "FROM movies M\n",
    "    INNER JOIN roles R on M.id = R.movie_id\n",
    "    INNER JOIN actors A on A.id = R.actor_id\n",
    "WHERE A.first_name = 'Brad' AND A.last_name='Pitt'\n",
    "LIMIT 10; "
   ]
  },
  {
   "cell_type": "markdown",
   "metadata": {},
   "source": [
    "#### List the genre of the movies where Sean Connery appears, and rank them in descending order by count.\n",
    "Exclude the movies where Sean Connery plays himself."
   ]
  },
  {
   "cell_type": "code",
   "execution_count": null,
   "metadata": {
    "collapsed": true
   },
   "outputs": [],
   "source": [
    "%%read_sql\n",
    "\n",
    "LIMIT 10; "
   ]
  },
  {
   "cell_type": "markdown",
   "metadata": {},
   "source": [
    "**Answer:**\n",
    "<span style=\"color:white\">\n",
    "%%read_sql\n",
    "SELECT G.genre, COUNT(genre) as genre_count\n",
    "FROM movies M\n",
    "    INNER JOIN roles R on M.id = R.movie_id\n",
    "    INNER JOIN actors A on A.id = R.actor_id\n",
    "    INNER JOIN movies_genres G on M.id = G.movie_id\n",
    "WHERE A.first_name = 'Sean' AND A.last_name='Connery' AND R.role not like '%%Himself%%'\n",
    "GROUP BY G.genre\n",
    "ORDER BY genre_count DESC\n",
    "LIMIT 10; "
   ]
  },
  {
   "cell_type": "markdown",
   "metadata": {},
   "source": [
    "#### Compute the average rank for the movies of each actor and rank the actors in descending order based on that rank"
   ]
  },
  {
   "cell_type": "code",
   "execution_count": null,
   "metadata": {
    "collapsed": true
   },
   "outputs": [],
   "source": [
    "%%read_sql\n",
    "\n",
    "LIMIT 10;"
   ]
  },
  {
   "cell_type": "markdown",
   "metadata": {},
   "source": [
    "**Answer:**\n",
    "<span style=\"color:white\">\n",
    "%%read_sql\n",
    "SELECT A.first_name, A.last_name, ROUND(AVG(M.rank),2) as avg_rank\n",
    "FROM movies M\n",
    "    INNER JOIN roles  R on M.id = R.movie_id\n",
    "    INNER JOIN actors A on A.id = R.actor_id\n",
    "GROUP BY actor_id\n",
    "ORDER BY avg_rank DESC\n",
    "LIMIT 10;"
   ]
  }
 ],
 "metadata": {
  "kernelspec": {
   "display_name": "Python 3",
   "language": "python",
   "name": "python3"
  },
  "language_info": {
   "codemirror_mode": {
    "name": "ipython",
    "version": 3
   },
   "file_extension": ".py",
   "mimetype": "text/x-python",
   "name": "python",
   "nbconvert_exporter": "python",
   "pygments_lexer": "ipython3",
   "version": "3.6.6"
  },
  "latex_envs": {
   "LaTeX_envs_menu_present": true,
   "autoclose": false,
   "autocomplete": true,
   "bibliofile": "biblio.bib",
   "cite_by": "apalike",
   "current_citInitial": 1,
   "eqLabelWithNumbers": true,
   "eqNumInitial": 1,
   "hotkeys": {
    "equation": "Ctrl-E",
    "itemize": "Ctrl-I"
   },
   "labels_anchors": false,
   "latex_user_defs": false,
   "report_style_numbering": false,
   "user_envs_cfg": false
  },
  "toc": {
   "base_numbering": 1,
   "nav_menu": {},
   "number_sections": false,
   "sideBar": true,
   "skip_h1_title": false,
   "title_cell": "Table of Contents",
   "title_sidebar": "Contents",
   "toc_cell": false,
   "toc_position": {},
   "toc_section_display": true,
   "toc_window_display": true
  }
 },
 "nbformat": 4,
 "nbformat_minor": 2
}
