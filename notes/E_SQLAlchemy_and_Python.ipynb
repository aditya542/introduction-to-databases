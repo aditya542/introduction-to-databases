{
 "cells": [
  {
   "cell_type": "markdown",
   "metadata": {},
   "source": [
    "# SQLAlchemy and the SQL magic extension\n",
    "\n",
    "To be able to execute SQL queries from within a Jupyter notebook, we will use the `sql_magic` extension (https://github.com/pivotal/sql_magic)\n",
    "\n",
    "    sudo pip3 install -U sql_magic\n",
    "    !conda install -c conda-forge ipython-sql "
   ]
  },
  {
   "cell_type": "markdown",
   "metadata": {},
   "source": [
    "## 1. Connecting to a remote database"
   ]
  },
  {
   "cell_type": "code",
   "execution_count": null,
   "metadata": {
    "collapsed": true
   },
   "outputs": [],
   "source": [
    "# Use the SQL alchemy package to connect\n",
    "from sqlalchemy import create_engine\n",
    "\n",
    "# Supply credentials and point to the database we're trying to connect to and\n",
    "host = 'db.ipeirotis.org'\n",
    "user = 'student'\n",
    "password = 'dwdstudent2015'\n",
    "engine = create_engine(f'mysql://{user}:{password}@{host}/?charset=utf8')\n",
    "\n",
    "# Load the SQL_magic extension and configure the connection\n",
    "%reload_ext sql_magic\n",
    "%config SQL.conn_name = 'engine'"
   ]
  },
  {
   "cell_type": "markdown",
   "metadata": {},
   "source": [
    "### Running queries "
   ]
  },
  {
   "cell_type": "markdown",
   "metadata": {},
   "source": [
    "To write SQL queries within the notebook, you can include `%%read_sql` on the first line of your code cell. \n",
    "\n",
    "If our connection worked successfully, the `show databases` command will list the same databases you see when you open MySQL Workbench. Run the code below to test that the connection is working:"
   ]
  },
  {
   "cell_type": "code",
   "execution_count": null,
   "metadata": {
    "collapsed": true
   },
   "outputs": [],
   "source": [
    "%%read_sql\n",
    "SHOW DATABASES;"
   ]
  },
  {
   "cell_type": "code",
   "execution_count": null,
   "metadata": {
    "collapsed": true
   },
   "outputs": [],
   "source": [
    "%%read_sql\n",
    "USE imdb;\n",
    "SHOW TABLES;"
   ]
  },
  {
   "cell_type": "markdown",
   "metadata": {},
   "source": [
    "After `%%read_sql`, you can add a name that you want to use to store your result.    \n",
    "This will put the result of your query in a DataFrame with the name of your choice.\n",
    "\n",
    "For example, run the following to select two records from the movies table:"
   ]
  },
  {
   "cell_type": "code",
   "execution_count": null,
   "metadata": {
    "collapsed": true
   },
   "outputs": [],
   "source": [
    "%%read_sql test_query\n",
    "SELECT * \n",
    "FROM movies \n",
    "LIMIT 2;"
   ]
  },
  {
   "cell_type": "markdown",
   "metadata": {},
   "source": [
    "Now, you can run the line below to see the contents stored in the `test_query` DataFrame:"
   ]
  },
  {
   "cell_type": "code",
   "execution_count": null,
   "metadata": {
    "collapsed": true
   },
   "outputs": [],
   "source": [
    "test_query"
   ]
  },
  {
   "cell_type": "markdown",
   "metadata": {},
   "source": [
    "## 2 . Connecting to your local database"
   ]
  },
  {
   "cell_type": "markdown",
   "metadata": {},
   "source": [
    "Now, instead of querying a remote database, we'll insert data into our local database. Try to connect as follows:"
   ]
  },
  {
   "cell_type": "code",
   "execution_count": null,
   "metadata": {
    "collapsed": true
   },
   "outputs": [],
   "source": [
    "# We use the SQL alchemy package to connect\n",
    "from sqlalchemy import create_engine\n",
    "\n",
    "# We supply our credentials and point to the database we're trying to connect to \n",
    "host = '127.0.0.1'\n",
    "user = 'root'\n",
    "password = 'dwdstudent2015'\n",
    "engine = create_engine(f'mysql://{user}:{password}@{host}/?charset=utf8')\n",
    "\n",
    "# Load the SQL_magic extension and configure the connection\n",
    "%reload_ext sql_magic\n",
    "%config SQL.conn_name = 'engine'"
   ]
  },
  {
   "cell_type": "markdown",
   "metadata": {},
   "source": [
    "### Create a database"
   ]
  },
  {
   "cell_type": "markdown",
   "metadata": {},
   "source": [
    "Once we have connected successfully, we need to create a database. Let's make one called `test_db`:"
   ]
  },
  {
   "cell_type": "code",
   "execution_count": null,
   "metadata": {
    "collapsed": true
   },
   "outputs": [],
   "source": [
    "%%read_sql\n",
    "CREATE DATABASE IF NOT EXISTS test_db DEFAULT CHARACTER SET 'utf8'"
   ]
  },
  {
   "cell_type": "markdown",
   "metadata": {},
   "source": [
    "### Create a table"
   ]
  },
  {
   "cell_type": "markdown",
   "metadata": {},
   "source": [
    "Then we create the table where we will store our data. For example, let's create a table called `test_table` with four variables: `id`, `name`, `purchase`, and `cost`."
   ]
  },
  {
   "cell_type": "code",
   "execution_count": null,
   "metadata": {
    "collapsed": true
   },
   "outputs": [],
   "source": [
    "%%read_sql\n",
    "CREATE TABLE IF NOT EXISTS test_db.test_table\n",
    "                                (id int, \n",
    "                                name varchar(50), \n",
    "                                purchase varchar(50),\n",
    "                                cost int,\n",
    "                                PRIMARY KEY(id))"
   ]
  },
  {
   "cell_type": "markdown",
   "metadata": {},
   "source": [
    "### Use the database"
   ]
  },
  {
   "cell_type": "code",
   "execution_count": null,
   "metadata": {
    "collapsed": true
   },
   "outputs": [],
   "source": [
    "%%read_sql\n",
    "USE test_db"
   ]
  },
  {
   "cell_type": "markdown",
   "metadata": {},
   "source": [
    "### Import data into our table"
   ]
  },
  {
   "cell_type": "markdown",
   "metadata": {},
   "source": [
    "Finally, we import the data into our table, using the INSERT command. "
   ]
  },
  {
   "cell_type": "code",
   "execution_count": null,
   "metadata": {
    "collapsed": true
   },
   "outputs": [],
   "source": [
    "%%read_sql\n",
    "INSERT INTO test_table (id, name, purchase, cost) \n",
    "VALUES (1, 'Amy', 'Apples', 5);"
   ]
  },
  {
   "cell_type": "code",
   "execution_count": null,
   "metadata": {
    "collapsed": true
   },
   "outputs": [],
   "source": [
    "%%read_sql\n",
    "INSERT INTO test_table (id, name, purchase, cost) \n",
    "VALUES (2, 'Bill', 'Barley', 4);"
   ]
  },
  {
   "cell_type": "markdown",
   "metadata": {},
   "source": [
    "Let's check if it worked:"
   ]
  },
  {
   "cell_type": "code",
   "execution_count": null,
   "metadata": {
    "collapsed": true
   },
   "outputs": [],
   "source": [
    "%%read_sql\n",
    "SELECT * FROM test_table;"
   ]
  },
  {
   "cell_type": "markdown",
   "metadata": {},
   "source": [
    "### Passing parameters into queries"
   ]
  },
  {
   "cell_type": "markdown",
   "metadata": {},
   "source": [
    "Instead of relying on the SQL magic, we can also pass a query to SQLAlchemy as an argument:"
   ]
  },
  {
   "cell_type": "code",
   "execution_count": null,
   "metadata": {
    "collapsed": true
   },
   "outputs": [],
   "source": [
    "con = engine.connect()"
   ]
  },
  {
   "cell_type": "code",
   "execution_count": null,
   "metadata": {
    "collapsed": true
   },
   "outputs": [],
   "source": [
    "%%read_sql\n",
    "USE test_db"
   ]
  },
  {
   "cell_type": "code",
   "execution_count": null,
   "metadata": {
    "collapsed": true
   },
   "outputs": [],
   "source": [
    "data = \"3, 'Carolyn', 'Cabbage', 6\"\n",
    "query = f'INSERT INTO test_table (id, name, purchase, cost) VALUES ( {data} )'\n",
    "\n",
    "engine.execute(query)"
   ]
  },
  {
   "cell_type": "markdown",
   "metadata": {},
   "source": [
    "This is helpful if we would like to run many queries -- for example, by embedding them in a loop:"
   ]
  },
  {
   "cell_type": "code",
   "execution_count": null,
   "metadata": {
    "collapsed": true
   },
   "outputs": [],
   "source": [
    "for data in [\"4, 'Dave', 'Dill', 8\",\n",
    "             \"5, 'Eve', 'Endive', 10\", \n",
    "             \"6, 'Fred', 'Figs', '12'\"]:\n",
    "    \n",
    "    query = f'INSERT INTO test_table (id, name, purchase, cost) VALUES ( {data} )'\n",
    "    engine.execute(query)"
   ]
  },
  {
   "cell_type": "markdown",
   "metadata": {},
   "source": [
    "### Delete a table or database"
   ]
  },
  {
   "cell_type": "markdown",
   "metadata": {},
   "source": [
    "Let's remove this extra database, since it was just for testing."
   ]
  },
  {
   "cell_type": "code",
   "execution_count": null,
   "metadata": {
    "collapsed": true
   },
   "outputs": [],
   "source": [
    "%%read_sql\n",
    "DROP TABLE IF EXISTS test_table;\n",
    "DROP DATABASE IF EXISTS test_db;"
   ]
  },
  {
   "cell_type": "markdown",
   "metadata": {},
   "source": [
    "## 3. Importing datasets to your SQL database"
   ]
  },
  {
   "cell_type": "markdown",
   "metadata": {},
   "source": [
    "Now let's try to actually insert a substantive dataset. We'll use the citibike stations dataset, which I've posted at: [http://people.stern.nyu.edu/khoffman/intro_programming_datasci/assets/csv/citibike_stations.txt](http://people.stern.nyu.edu/khoffman/intro_programming_datasci/assets/csv/citibike_stations.txt)\n",
    "\n",
    "We'll use Pandas to read the CSV file with the syntax: `pd.read_csv(url)`.\n",
    "Note that `read_csv` can also take as an argument a path to a local file on your computer."
   ]
  },
  {
   "cell_type": "code",
   "execution_count": null,
   "metadata": {
    "collapsed": true
   },
   "outputs": [],
   "source": [
    "import pandas as pd \n",
    "\n",
    "url = 'http://people.stern.nyu.edu/khoffman/intro_programming_datasci/assets/csv/citibike_stations.txt'\n",
    "stations_data = pd.read_csv(url)\n",
    "\n",
    "# Inspect the first 5 rows of the result\n",
    "stations_data.head(5)"
   ]
  },
  {
   "cell_type": "markdown",
   "metadata": {},
   "source": [
    "#### Inserting a Pandas dataframe into your database"
   ]
  },
  {
   "cell_type": "markdown",
   "metadata": {},
   "source": [
    "You should still be connected to your database from the exercises above. Otherwise, re-run the code below to connect again:"
   ]
  },
  {
   "cell_type": "code",
   "execution_count": null,
   "metadata": {
    "collapsed": true
   },
   "outputs": [],
   "source": [
    "'''\n",
    "# We use the SQL alchemy package to connect\n",
    "from sqlalchemy import create_engine\n",
    "\n",
    "# We supply our credentials and point to the database we're trying to connect to and\n",
    "host = '127.0.0.1'\n",
    "user = 'root'\n",
    "password = 'dwdstudent2015'\n",
    "engine = create_engine(f'mysql://{user}:{password}@{host}/?charset=utf8')\n",
    "\n",
    "# Load the SQL_magic extension and configure the connection\n",
    "%reload_ext sql_magic\n",
    "%config SQL.conn_name = 'engine'\n",
    "'''"
   ]
  },
  {
   "cell_type": "markdown",
   "metadata": {},
   "source": [
    "Now, let's create a new database to store our citibike stations data."
   ]
  },
  {
   "cell_type": "code",
   "execution_count": null,
   "metadata": {
    "collapsed": true
   },
   "outputs": [],
   "source": [
    "%%read_sql\n",
    "CREATE DATABASE IF NOT EXISTS citibike_stations DEFAULT CHARACTER SET 'utf8';\n",
    "USE citibike_stations;"
   ]
  },
  {
   "cell_type": "markdown",
   "metadata": {},
   "source": [
    "Then we create the table where we will store our data. Since we already have the data in a Pandas DataFrame, it is very easy to put the data in a database. First, let's declare our variable types:"
   ]
  },
  {
   "cell_type": "code",
   "execution_count": null,
   "metadata": {
    "collapsed": true
   },
   "outputs": [],
   "source": [
    "# This step is typically optional, but it is good practice to define explicitly the \n",
    "# data types before storing things in a database. In many cases, this can be ommitted, though.\n",
    "import sqlalchemy\n",
    "dtype = {\n",
    "    'capacity': sqlalchemy.types.SMALLINT(),\n",
    "    'eightd_has_key_dispenser':  sqlalchemy.types.BOOLEAN,\n",
    "    'lat': sqlalchemy.types.Float, \n",
    "    'lon': sqlalchemy.types.Float,\n",
    "    'name': sqlalchemy.types.VARCHAR(50),\n",
    "    'region_id': sqlalchemy.types.VARCHAR(5),\n",
    "    'rental_url': sqlalchemy.types.VARCHAR(100),\n",
    "    'short_name': sqlalchemy.types.VARCHAR(10),\n",
    "    'station_id': sqlalchemy.types.SMALLINT()\n",
    "}"
   ]
  },
  {
   "cell_type": "code",
   "execution_count": null,
   "metadata": {
    "collapsed": true
   },
   "outputs": [],
   "source": [
    "stations_data.to_sql(\n",
    "          name = 'stations',              # Desired name of the table\n",
    "          schema = 'citibike_stations',   # Name of the database\n",
    "          con = engine,                   \n",
    "          if_exists = 'replace', \n",
    "          index = False, \n",
    "          dtype = dtype)                  # Can be omitted if you don't want to declare explicitly"
   ]
  },
  {
   "cell_type": "code",
   "execution_count": null,
   "metadata": {
    "collapsed": true
   },
   "outputs": [],
   "source": [
    "# Once we have the data in the table, we also specify a primary key\n",
    "# If we had FOREIGN KEYS we can add them in the same way\n",
    "add_key_query = 'ALTER TABLE stations ADD PRIMARY KEY(station_id)'\n",
    "engine.execute(add_key_query)"
   ]
  },
  {
   "cell_type": "code",
   "execution_count": null,
   "metadata": {
    "collapsed": true
   },
   "outputs": [],
   "source": [
    "%%read_sql\n",
    "SELECT * \n",
    "FROM stations\n",
    "WHERE capacity<15\n",
    "LIMIT 10;"
   ]
  },
  {
   "cell_type": "markdown",
   "metadata": {},
   "source": [
    "#### Retrieving a Pandas dataframe from your database"
   ]
  },
  {
   "cell_type": "markdown",
   "metadata": {},
   "source": [
    "As noted above, you can also extract a Pandas dataframe _from_ your database by supplying the dataframe name after `%%read_sql`."
   ]
  },
  {
   "cell_type": "code",
   "execution_count": null,
   "metadata": {
    "collapsed": true,
    "scrolled": true
   },
   "outputs": [],
   "source": [
    "%%read_sql stations4\n",
    "SELECT * \n",
    "FROM stations\n",
    "WHERE name LIKE '%% 4 St &%%';"
   ]
  },
  {
   "cell_type": "code",
   "execution_count": null,
   "metadata": {
    "collapsed": true
   },
   "outputs": [],
   "source": [
    "stations4"
   ]
  },
  {
   "cell_type": "markdown",
   "metadata": {},
   "source": [
    "#### Exporting a Pandas dataframe to a file"
   ]
  },
  {
   "cell_type": "markdown",
   "metadata": {},
   "source": [
    "Finally, you can download your dataframe into a CSV file:"
   ]
  },
  {
   "cell_type": "code",
   "execution_count": null,
   "metadata": {
    "collapsed": true
   },
   "outputs": [],
   "source": [
    "stations4.to_csv(\"fourth_street_stations.csv\")"
   ]
  },
  {
   "cell_type": "markdown",
   "metadata": {},
   "source": [
    "#### Clean up"
   ]
  },
  {
   "cell_type": "code",
   "execution_count": null,
   "metadata": {
    "collapsed": true
   },
   "outputs": [],
   "source": [
    "%%read_sql\n",
    "DROP DATABASE IF EXISTS citibike_stations;"
   ]
  }
 ],
 "metadata": {
  "kernelspec": {
   "display_name": "Python 3",
   "language": "python",
   "name": "python3"
  },
  "language_info": {
   "codemirror_mode": {
    "name": "ipython",
    "version": 3
   },
   "file_extension": ".py",
   "mimetype": "text/x-python",
   "name": "python",
   "nbconvert_exporter": "python",
   "pygments_lexer": "ipython3",
   "version": "3.6.6"
  },
  "latex_envs": {
   "LaTeX_envs_menu_present": true,
   "autoclose": false,
   "autocomplete": true,
   "bibliofile": "biblio.bib",
   "cite_by": "apalike",
   "current_citInitial": 1,
   "eqLabelWithNumbers": true,
   "eqNumInitial": 1,
   "hotkeys": {
    "equation": "Ctrl-E",
    "itemize": "Ctrl-I"
   },
   "labels_anchors": false,
   "latex_user_defs": false,
   "report_style_numbering": false,
   "user_envs_cfg": false
  },
  "toc": {
   "base_numbering": 1,
   "nav_menu": {},
   "number_sections": false,
   "sideBar": true,
   "skip_h1_title": false,
   "title_cell": "Table of Contents",
   "title_sidebar": "Contents",
   "toc_cell": false,
   "toc_position": {},
   "toc_section_display": true,
   "toc_window_display": true
  }
 },
 "nbformat": 4,
 "nbformat_minor": 2
}
