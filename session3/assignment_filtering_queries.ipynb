{
  "nbformat": 4,
  "nbformat_minor": 0,
  "metadata": {
    "anaconda-cloud": {},
    "kernelspec": {
      "display_name": "Python 3",
      "language": "python",
      "name": "python3"
    },
    "language_info": {
      "codemirror_mode": {
        "name": "ipython",
        "version": 3
      },
      "file_extension": ".py",
      "mimetype": "text/x-python",
      "name": "python",
      "nbconvert_exporter": "python",
      "pygments_lexer": "ipython3",
      "version": "3.6.6"
    },
    "colab": {
      "name": "Session 3 Assignment",
      "provenance": [],
      "collapsed_sections": [],
      "include_colab_link": true
    }
  },
  "cells": [
    {
      "cell_type": "markdown",
      "metadata": {
        "id": "view-in-github",
        "colab_type": "text"
      },
      "source": [
        "<a href=\"https://colab.research.google.com/github/ipeirotis/introduction-to-databases/blob/master/session3/assignment_filtering_queries.ipynb\" target=\"_parent\"><img src=\"https://colab.research.google.com/assets/colab-badge.svg\" alt=\"Open In Colab\"/></a>"
      ]
    },
    {
      "cell_type": "markdown",
      "metadata": {
        "id": "SkZqhwkf8NUg",
        "colab_type": "text"
      },
      "source": [
        "# Session 3: Filtering Queries Assignment\n",
        "\n",
        "\n",
        "In this segment we will connect to the *Music* database."
      ]
    },
    {
      "cell_type": "markdown",
      "metadata": {
        "id": "5u_6yLTDT6Kn",
        "colab_type": "text"
      },
      "source": [
        "## Setup"
      ]
    },
    {
      "cell_type": "code",
      "metadata": {
        "id": "O9o9NsaO8hMy",
        "colab_type": "code",
        "colab": {
          "base_uri": "https://localhost:8080/",
          "height": 1000
        },
        "outputId": "fc3703c2-a6a8-4f93-9a19-b502851b9737"
      },
      "source": [
        "!apt-get install python3-mysqldb\n",
        "!pip install sqlalchemy sql_magic"
      ],
      "execution_count": 1,
      "outputs": [
        {
          "output_type": "stream",
          "text": [
            "Reading package lists... Done\n",
            "Building dependency tree       \n",
            "Reading state information... Done\n",
            "Suggested packages:\n",
            "  default-mysql-server | virtual-mysql-server python-egenix-mxdatetime\n",
            "  python3-mysqldb-dbg\n",
            "The following NEW packages will be installed:\n",
            "  python3-mysqldb\n",
            "0 upgraded, 1 newly installed, 0 to remove and 25 not upgraded.\n",
            "Need to get 46.0 kB of archives.\n",
            "After this operation, 183 kB of additional disk space will be used.\n",
            "Get:1 http://archive.ubuntu.com/ubuntu bionic/main amd64 python3-mysqldb amd64 1.3.10-1build1 [46.0 kB]\n",
            "Fetched 46.0 kB in 0s (129 kB/s)\n",
            "Selecting previously unselected package python3-mysqldb.\n",
            "(Reading database ... 144568 files and directories currently installed.)\n",
            "Preparing to unpack .../python3-mysqldb_1.3.10-1build1_amd64.deb ...\n",
            "Unpacking python3-mysqldb (1.3.10-1build1) ...\n",
            "Setting up python3-mysqldb (1.3.10-1build1) ...\n",
            "Requirement already satisfied: sqlalchemy in /usr/local/lib/python3.6/dist-packages (1.3.16)\n",
            "Collecting sql_magic\n",
            "  Downloading https://files.pythonhosted.org/packages/a6/a7/ccdc67278de3f34db5d484f9b6c59ad9a536beda4a5acad5ecb3b0932246/sql_magic-0.0.4-py3-none-any.whl\n",
            "Collecting findspark\n",
            "  Downloading https://files.pythonhosted.org/packages/b1/c8/e6e1f6a303ae5122dc28d131b5a67c5eb87cbf8f7ac5b9f87764ea1b1e1e/findspark-1.3.0-py2.py3-none-any.whl\n",
            "Requirement already satisfied: jupyter in /usr/local/lib/python3.6/dist-packages (from sql_magic) (1.0.0)\n",
            "Requirement already satisfied: traitlets in /usr/local/lib/python3.6/dist-packages (from sql_magic) (4.3.3)\n",
            "Requirement already satisfied: pandas in /usr/local/lib/python3.6/dist-packages (from sql_magic) (1.0.3)\n",
            "Requirement already satisfied: ipython in /usr/local/lib/python3.6/dist-packages (from sql_magic) (5.5.0)\n",
            "Requirement already satisfied: sqlparse in /usr/local/lib/python3.6/dist-packages (from sql_magic) (0.3.1)\n",
            "Requirement already satisfied: notebook in /usr/local/lib/python3.6/dist-packages (from jupyter->sql_magic) (5.2.2)\n",
            "Requirement already satisfied: qtconsole in /usr/local/lib/python3.6/dist-packages (from jupyter->sql_magic) (4.7.3)\n",
            "Requirement already satisfied: ipywidgets in /usr/local/lib/python3.6/dist-packages (from jupyter->sql_magic) (7.5.1)\n",
            "Requirement already satisfied: jupyter-console in /usr/local/lib/python3.6/dist-packages (from jupyter->sql_magic) (5.2.0)\n",
            "Requirement already satisfied: nbconvert in /usr/local/lib/python3.6/dist-packages (from jupyter->sql_magic) (5.6.1)\n",
            "Requirement already satisfied: ipykernel in /usr/local/lib/python3.6/dist-packages (from jupyter->sql_magic) (4.10.1)\n",
            "Requirement already satisfied: ipython-genutils in /usr/local/lib/python3.6/dist-packages (from traitlets->sql_magic) (0.2.0)\n",
            "Requirement already satisfied: six in /usr/local/lib/python3.6/dist-packages (from traitlets->sql_magic) (1.12.0)\n",
            "Requirement already satisfied: decorator in /usr/local/lib/python3.6/dist-packages (from traitlets->sql_magic) (4.4.2)\n",
            "Requirement already satisfied: pytz>=2017.2 in /usr/local/lib/python3.6/dist-packages (from pandas->sql_magic) (2018.9)\n",
            "Requirement already satisfied: python-dateutil>=2.6.1 in /usr/local/lib/python3.6/dist-packages (from pandas->sql_magic) (2.8.1)\n",
            "Requirement already satisfied: numpy>=1.13.3 in /usr/local/lib/python3.6/dist-packages (from pandas->sql_magic) (1.18.3)\n",
            "Requirement already satisfied: simplegeneric>0.8 in /usr/local/lib/python3.6/dist-packages (from ipython->sql_magic) (0.8.1)\n",
            "Requirement already satisfied: pexpect; sys_platform != \"win32\" in /usr/local/lib/python3.6/dist-packages (from ipython->sql_magic) (4.8.0)\n",
            "Requirement already satisfied: pickleshare in /usr/local/lib/python3.6/dist-packages (from ipython->sql_magic) (0.7.5)\n",
            "Requirement already satisfied: prompt-toolkit<2.0.0,>=1.0.4 in /usr/local/lib/python3.6/dist-packages (from ipython->sql_magic) (1.0.18)\n",
            "Requirement already satisfied: pygments in /usr/local/lib/python3.6/dist-packages (from ipython->sql_magic) (2.1.3)\n",
            "Requirement already satisfied: setuptools>=18.5 in /usr/local/lib/python3.6/dist-packages (from ipython->sql_magic) (46.1.3)\n",
            "Requirement already satisfied: terminado>=0.3.3; sys_platform != \"win32\" in /usr/local/lib/python3.6/dist-packages (from notebook->jupyter->sql_magic) (0.8.3)\n",
            "Requirement already satisfied: nbformat in /usr/local/lib/python3.6/dist-packages (from notebook->jupyter->sql_magic) (5.0.6)\n",
            "Requirement already satisfied: tornado>=4 in /usr/local/lib/python3.6/dist-packages (from notebook->jupyter->sql_magic) (4.5.3)\n",
            "Requirement already satisfied: jupyter-client in /usr/local/lib/python3.6/dist-packages (from notebook->jupyter->sql_magic) (5.3.4)\n",
            "Requirement already satisfied: jupyter-core in /usr/local/lib/python3.6/dist-packages (from notebook->jupyter->sql_magic) (4.6.3)\n",
            "Requirement already satisfied: jinja2 in /usr/local/lib/python3.6/dist-packages (from notebook->jupyter->sql_magic) (2.11.2)\n",
            "Requirement already satisfied: pyzmq>=17.1 in /usr/local/lib/python3.6/dist-packages (from qtconsole->jupyter->sql_magic) (19.0.0)\n",
            "Requirement already satisfied: qtpy in /usr/local/lib/python3.6/dist-packages (from qtconsole->jupyter->sql_magic) (1.9.0)\n",
            "Requirement already satisfied: widgetsnbextension~=3.5.0 in /usr/local/lib/python3.6/dist-packages (from ipywidgets->jupyter->sql_magic) (3.5.1)\n",
            "Requirement already satisfied: defusedxml in /usr/local/lib/python3.6/dist-packages (from nbconvert->jupyter->sql_magic) (0.6.0)\n",
            "Requirement already satisfied: bleach in /usr/local/lib/python3.6/dist-packages (from nbconvert->jupyter->sql_magic) (3.1.4)\n",
            "Requirement already satisfied: pandocfilters>=1.4.1 in /usr/local/lib/python3.6/dist-packages (from nbconvert->jupyter->sql_magic) (1.4.2)\n",
            "Requirement already satisfied: testpath in /usr/local/lib/python3.6/dist-packages (from nbconvert->jupyter->sql_magic) (0.4.4)\n",
            "Requirement already satisfied: entrypoints>=0.2.2 in /usr/local/lib/python3.6/dist-packages (from nbconvert->jupyter->sql_magic) (0.3)\n",
            "Requirement already satisfied: mistune<2,>=0.8.1 in /usr/local/lib/python3.6/dist-packages (from nbconvert->jupyter->sql_magic) (0.8.4)\n",
            "Requirement already satisfied: ptyprocess>=0.5 in /usr/local/lib/python3.6/dist-packages (from pexpect; sys_platform != \"win32\"->ipython->sql_magic) (0.6.0)\n",
            "Requirement already satisfied: wcwidth in /usr/local/lib/python3.6/dist-packages (from prompt-toolkit<2.0.0,>=1.0.4->ipython->sql_magic) (0.1.9)\n",
            "Requirement already satisfied: jsonschema!=2.5.0,>=2.4 in /usr/local/lib/python3.6/dist-packages (from nbformat->notebook->jupyter->sql_magic) (2.6.0)\n",
            "Requirement already satisfied: MarkupSafe>=0.23 in /usr/local/lib/python3.6/dist-packages (from jinja2->notebook->jupyter->sql_magic) (1.1.1)\n",
            "Requirement already satisfied: webencodings in /usr/local/lib/python3.6/dist-packages (from bleach->nbconvert->jupyter->sql_magic) (0.5.1)\n",
            "Installing collected packages: findspark, sql-magic\n",
            "Successfully installed findspark-1.3.0 sql-magic-0.0.4\n"
          ],
          "name": "stdout"
        }
      ]
    },
    {
      "cell_type": "code",
      "metadata": {
        "id": "EkIL-uRK8NUi",
        "colab_type": "code",
        "colab": {}
      },
      "source": [
        "# This code creates a connection to the database\n",
        "from sqlalchemy import create_engine\n",
        "\n",
        "conn_string = 'mysql://{user}:{password}@{host}/{db}?charset={encoding}'.format(\n",
        "    host = 'db.ipeirotis.org', \n",
        "    user = 'student',\n",
        "    db = 'music',\n",
        "    password = 'dwdstudent2015',\n",
        "    encoding = 'utf8mb4')\n",
        "\n",
        "engine = create_engine(conn_string)\n",
        "con = engine.connect()"
      ],
      "execution_count": 0,
      "outputs": []
    },
    {
      "cell_type": "code",
      "metadata": {
        "id": "z7muzQXTUFkU",
        "colab_type": "code",
        "colab": {}
      },
      "source": [
        "%reload_ext sql_magic"
      ],
      "execution_count": 0,
      "outputs": []
    },
    {
      "cell_type": "code",
      "metadata": {
        "id": "uHRIPxBvUGfC",
        "colab_type": "code",
        "colab": {}
      },
      "source": [
        "%config SQL.conn_name = 'engine'"
      ],
      "execution_count": 0,
      "outputs": []
    },
    {
      "cell_type": "code",
      "metadata": {
        "id": "sWa1Uv_6X9zi",
        "colab_type": "code",
        "outputId": "bbc44d81-02b5-4b8b-b776-42f378ed941a",
        "colab": {
          "base_uri": "https://localhost:8080/",
          "height": 390
        }
      },
      "source": [
        "# This is an example of how you can write an SQL query in the notebook.\n",
        "# You write your SQL query after the \"%%read_sql\" line\n",
        "%%read_sql\n",
        "SELECT * \n",
        "FROM played"
      ],
      "execution_count": 0,
      "outputs": [
        {
          "output_type": "stream",
          "text": [
            "Query started at 08:29:11 PM UTC; Query executed in 0.06 m"
          ],
          "name": "stdout"
        },
        {
          "output_type": "execute_result",
          "data": {
            "text/html": [
              "<div>\n",
              "<style scoped>\n",
              "    .dataframe tbody tr th:only-of-type {\n",
              "        vertical-align: middle;\n",
              "    }\n",
              "\n",
              "    .dataframe tbody tr th {\n",
              "        vertical-align: top;\n",
              "    }\n",
              "\n",
              "    .dataframe thead th {\n",
              "        text-align: right;\n",
              "    }\n",
              "</style>\n",
              "<table border=\"1\" class=\"dataframe\">\n",
              "  <thead>\n",
              "    <tr style=\"text-align: right;\">\n",
              "      <th></th>\n",
              "      <th>artist_id</th>\n",
              "      <th>album_id</th>\n",
              "      <th>track_id</th>\n",
              "      <th>played</th>\n",
              "    </tr>\n",
              "  </thead>\n",
              "  <tbody>\n",
              "    <tr>\n",
              "      <th>0</th>\n",
              "      <td>1</td>\n",
              "      <td>3</td>\n",
              "      <td>0</td>\n",
              "      <td>2006-08-14 10:21:03</td>\n",
              "    </tr>\n",
              "    <tr>\n",
              "      <th>1</th>\n",
              "      <td>1</td>\n",
              "      <td>3</td>\n",
              "      <td>1</td>\n",
              "      <td>2006-08-14 10:25:22</td>\n",
              "    </tr>\n",
              "    <tr>\n",
              "      <th>2</th>\n",
              "      <td>1</td>\n",
              "      <td>3</td>\n",
              "      <td>2</td>\n",
              "      <td>2006-08-14 10:30:25</td>\n",
              "    </tr>\n",
              "    <tr>\n",
              "      <th>3</th>\n",
              "      <td>1</td>\n",
              "      <td>3</td>\n",
              "      <td>3</td>\n",
              "      <td>2006-08-14 10:36:54</td>\n",
              "    </tr>\n",
              "    <tr>\n",
              "      <th>4</th>\n",
              "      <td>1</td>\n",
              "      <td>3</td>\n",
              "      <td>4</td>\n",
              "      <td>2006-08-14 10:41:43</td>\n",
              "    </tr>\n",
              "    <tr>\n",
              "      <th>5</th>\n",
              "      <td>1</td>\n",
              "      <td>3</td>\n",
              "      <td>5</td>\n",
              "      <td>2006-08-14 10:43:37</td>\n",
              "    </tr>\n",
              "    <tr>\n",
              "      <th>6</th>\n",
              "      <td>1</td>\n",
              "      <td>3</td>\n",
              "      <td>6</td>\n",
              "      <td>2006-08-14 10:47:21</td>\n",
              "    </tr>\n",
              "    <tr>\n",
              "      <th>7</th>\n",
              "      <td>1</td>\n",
              "      <td>3</td>\n",
              "      <td>7</td>\n",
              "      <td>2006-08-14 10:54:02</td>\n",
              "    </tr>\n",
              "    <tr>\n",
              "      <th>8</th>\n",
              "      <td>3</td>\n",
              "      <td>1</td>\n",
              "      <td>0</td>\n",
              "      <td>2006-08-15 14:00:03</td>\n",
              "    </tr>\n",
              "    <tr>\n",
              "      <th>9</th>\n",
              "      <td>3</td>\n",
              "      <td>1</td>\n",
              "      <td>1</td>\n",
              "      <td>2006-08-15 14:26:12</td>\n",
              "    </tr>\n",
              "    <tr>\n",
              "      <th>10</th>\n",
              "      <td>3</td>\n",
              "      <td>1</td>\n",
              "      <td>2</td>\n",
              "      <td>2006-08-15 14:33:57</td>\n",
              "    </tr>\n",
              "  </tbody>\n",
              "</table>\n",
              "</div>"
            ],
            "text/plain": [
              "    artist_id  album_id  track_id              played\n",
              "0           1         3         0 2006-08-14 10:21:03\n",
              "1           1         3         1 2006-08-14 10:25:22\n",
              "2           1         3         2 2006-08-14 10:30:25\n",
              "3           1         3         3 2006-08-14 10:36:54\n",
              "4           1         3         4 2006-08-14 10:41:43\n",
              "5           1         3         5 2006-08-14 10:43:37\n",
              "6           1         3         6 2006-08-14 10:47:21\n",
              "7           1         3         7 2006-08-14 10:54:02\n",
              "8           3         1         0 2006-08-15 14:00:03\n",
              "9           3         1         1 2006-08-15 14:26:12\n",
              "10          3         1         2 2006-08-15 14:33:57"
            ]
          },
          "metadata": {
            "tags": []
          },
          "execution_count": 18
        }
      ]
    },
    {
      "cell_type": "markdown",
      "metadata": {
        "id": "H0hhloRRUJlV",
        "colab_type": "text"
      },
      "source": [
        "## Question 1: "
      ]
    },
    {
      "cell_type": "code",
      "metadata": {
        "id": "eL_CnyPRUSGI",
        "colab_type": "code",
        "colab": {}
      },
      "source": [
        "%%read_sql\n"
      ],
      "execution_count": 0,
      "outputs": []
    },
    {
      "cell_type": "markdown",
      "metadata": {
        "id": "Hz_1yX-EUeBQ",
        "colab_type": "text"
      },
      "source": [
        "## Question 2: "
      ]
    },
    {
      "cell_type": "code",
      "metadata": {
        "id": "HXy0Ygy3Uf_m",
        "colab_type": "code",
        "colab": {}
      },
      "source": [
        "%%read_sql\n"
      ],
      "execution_count": 0,
      "outputs": []
    },
    {
      "cell_type": "markdown",
      "metadata": {
        "colab_type": "text",
        "id": "UozymxRTW-wx"
      },
      "source": [
        "## Question 3: "
      ]
    },
    {
      "cell_type": "code",
      "metadata": {
        "colab_type": "code",
        "id": "ZwtqsRoGW-wz",
        "colab": {}
      },
      "source": [
        "%%read_sql\n"
      ],
      "execution_count": 0,
      "outputs": []
    },
    {
      "cell_type": "markdown",
      "metadata": {
        "colab_type": "text",
        "id": "8NFSCApmXGZ8"
      },
      "source": [
        "## Question 4:"
      ]
    },
    {
      "cell_type": "code",
      "metadata": {
        "colab_type": "code",
        "id": "bcr5iccDXGZ9",
        "colab": {}
      },
      "source": [
        "%%read_sql\n"
      ],
      "execution_count": 0,
      "outputs": []
    },
    {
      "cell_type": "markdown",
      "metadata": {
        "id": "nezZleqbUeI_",
        "colab_type": "text"
      },
      "source": [
        "## Question 5: "
      ]
    },
    {
      "cell_type": "code",
      "metadata": {
        "id": "rNfpSzT3UgrM",
        "colab_type": "code",
        "colab": {}
      },
      "source": [
        "%%read_sql\n"
      ],
      "execution_count": 0,
      "outputs": []
    },
    {
      "cell_type": "markdown",
      "metadata": {
        "colab_type": "text",
        "id": "_j2bCzADXODe"
      },
      "source": [
        "## Question 6: "
      ]
    },
    {
      "cell_type": "code",
      "metadata": {
        "colab_type": "code",
        "id": "o9h005rlXODf",
        "colab": {}
      },
      "source": [
        "%%read_sql\n"
      ],
      "execution_count": 0,
      "outputs": []
    },
    {
      "cell_type": "markdown",
      "metadata": {
        "id": "HF9cHpSDXaZd",
        "colab_type": "text"
      },
      "source": [
        "## Question 7: "
      ]
    },
    {
      "cell_type": "code",
      "metadata": {
        "colab_type": "code",
        "id": "mvLQdbdiXSmw",
        "colab": {}
      },
      "source": [
        "%%read_sql\n"
      ],
      "execution_count": 0,
      "outputs": []
    },
    {
      "cell_type": "markdown",
      "metadata": {
        "colab_type": "text",
        "id": "ntj5f4n8U3dT"
      },
      "source": [
        "## Question 8:"
      ]
    },
    {
      "cell_type": "code",
      "metadata": {
        "colab_type": "code",
        "id": "mPCpyhbwU3dV",
        "colab": {}
      },
      "source": [
        "%%read_sql\n"
      ],
      "execution_count": 0,
      "outputs": []
    },
    {
      "cell_type": "markdown",
      "metadata": {
        "colab_type": "text",
        "id": "23bSA8IUU1Og"
      },
      "source": [
        "## Question 9:"
      ]
    },
    {
      "cell_type": "code",
      "metadata": {
        "colab_type": "code",
        "id": "hTD97qjaU1Oi",
        "colab": {}
      },
      "source": [
        "%%read_sql\n"
      ],
      "execution_count": 0,
      "outputs": []
    },
    {
      "cell_type": "markdown",
      "metadata": {
        "id": "eWgdmtHHURaS",
        "colab_type": "text"
      },
      "source": [
        "## Question 10:"
      ]
    },
    {
      "cell_type": "code",
      "metadata": {
        "id": "ygI_N9gBUhWy",
        "colab_type": "code",
        "colab": {}
      },
      "source": [
        "%%read_sql\n"
      ],
      "execution_count": 0,
      "outputs": []
    }
  ]
}